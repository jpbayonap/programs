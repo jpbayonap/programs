{
 "cells": [
  {
   "cell_type": "markdown",
   "metadata": {},
   "source": [
    "# Matplotlib 紹介"
   ]
  },
  {
   "cell_type": "markdown",
   "metadata": {},
   "source": [
    "Matplotlib Gallery: https://matplotlib.org/gallery/index.html"
   ]
  },
  {
   "cell_type": "markdown",
   "metadata": {},
   "source": [
    "# Matplotlibの基礎操作"
   ]
  },
  {
   "cell_type": "code",
   "execution_count": 1,
   "metadata": {},
   "outputs": [],
   "source": [
    "# ライブラリーの導入\n",
    "import numpy as np\n",
    "import matplotlib\n",
    "import matplotlib.pyplot as plt"
   ]
  },
  {
   "cell_type": "code",
   "execution_count": 2,
   "metadata": {
    "scrolled": true
   },
   "outputs": [
    {
     "data": {
      "text/plain": [
       "'3.0.3'"
      ]
     },
     "execution_count": 2,
     "metadata": {},
     "output_type": "execute_result"
    }
   ],
   "source": [
    "# Matplotlibバージョン確認\n",
    "matplotlib.__version__"
   ]
  },
  {
   "cell_type": "code",
   "execution_count": null,
   "metadata": {},
   "outputs": [],
   "source": [
    "# 3.0.0 より低い場合\n",
    "# Mac: terminalを開いていただいて\n",
    "# Windows: condaを開いていただいて、下記のコードを実行してください\n",
    "# conda update matplotlib"
   ]
  },
  {
   "cell_type": "markdown",
   "metadata": {},
   "source": [
    "## 1軸グラフ"
   ]
  },
  {
   "cell_type": "code",
   "execution_count": null,
   "metadata": {},
   "outputs": [],
   "source": [
    "# 1次元、9要素の配列を作成\n",
    "data = np.array([3,1,4,1,5,9,2,6,5])\n",
    "\n",
    "# 配列 data をプロット\n",
    "plt.plot(data)  # data図を作成する\n",
    "plt.show() # 作成した図を表示する"
   ]
  },
  {
   "cell_type": "markdown",
   "metadata": {},
   "source": [
    "## 2軸の配列をグラフする"
   ]
  },
  {
   "cell_type": "code",
   "execution_count": null,
   "metadata": {},
   "outputs": [],
   "source": [
    "# xとyを作成する\n",
    "x = np.array([1,2,3])\n",
    "y = np.array([1,4,9])\n",
    "\n",
    "# pltでグラフを描く\n",
    "plt.plot(x, y)  # (x軸, y軸)\n",
    "plt.show()"
   ]
  },
  {
   "cell_type": "markdown",
   "metadata": {},
   "source": [
    "## 軸のラベル & 図のタイトル"
   ]
  },
  {
   "cell_type": "code",
   "execution_count": null,
   "metadata": {},
   "outputs": [],
   "source": [
    "x = np.array([1,2,3])\n",
    "y = np.array([1,4,9])\n",
    "\n",
    "plt.title(\"test\") # タイトル\n",
    "plt.xlabel(\"x\") # x軸レベル\n",
    "plt.ylabel(\"y\") # y軸レベル\n",
    "\n",
    "plt.plot(x, y)\n",
    "plt.show()"
   ]
  },
  {
   "cell_type": "markdown",
   "metadata": {},
   "source": [
    "## ラベルとタイトルのサイズ"
   ]
  },
  {
   "cell_type": "code",
   "execution_count": null,
   "metadata": {},
   "outputs": [],
   "source": [
    "x = np.array([1,2,3])\n",
    "y = np.array([1,4,9])\n",
    "\n",
    "plt.title(\"test\", fontsize = 20) # タイトル\n",
    "plt.xlabel(\"x\", fontsize = 20) # x軸ラベルサイズ\n",
    "plt.ylabel(\"y\", fontsize = 20) # y軸ラベルサイズ\n",
    "\n",
    "plt.plot(x, y)\n",
    "plt.show()"
   ]
  },
  {
   "cell_type": "markdown",
   "metadata": {},
   "source": [
    "## グラフの凡例"
   ]
  },
  {
   "cell_type": "code",
   "execution_count": null,
   "metadata": {},
   "outputs": [],
   "source": [
    "x = np.array([1,2,3])\n",
    "y = np.array([1,4,9])\n",
    "plt.title(\"test\")\n",
    "plt.xlabel(\"x\")\n",
    "plt.ylabel(\"y\")\n",
    "plt.plot(x, y)\n",
    "\n",
    "# グラフに凡例を付ける\n",
    "# 付ける場所に注意\n",
    "plt.legend([\"Blue Team\"])\n",
    "plt.show()"
   ]
  },
  {
   "cell_type": "markdown",
   "metadata": {},
   "source": [
    "## グラフの凡例の表示場所"
   ]
  },
  {
   "cell_type": "code",
   "execution_count": null,
   "metadata": {},
   "outputs": [],
   "source": [
    "x = np.array([1,2,3])\n",
    "y = np.array([1,4,9])\n",
    "plt.title(\"test\")\n",
    "plt.xlabel(\"x\")\n",
    "plt.ylabel(\"y\")\n",
    "plt.plot(x, y)\n",
    "\n",
    "# legend(loc) 数字でもできます\n",
    "plt.legend([\"Blue Team\"], loc=1)\n",
    "plt.show()"
   ]
  },
  {
   "cell_type": "markdown",
   "metadata": {},
   "source": [
    "## 線の色 & 幅 & スタイル"
   ]
  },
  {
   "cell_type": "code",
   "execution_count": null,
   "metadata": {},
   "outputs": [],
   "source": [
    "x = np.array([1,2,3])\n",
    "y = np.array([1,4,9])\n",
    "plt.title(\"test\")\n",
    "plt.xlabel(\"x\")\n",
    "plt.ylabel(\"y\")\n",
    "# colorは色、linewidthは線の太さ、linestyleは線のタイプ\n",
    "plt.plot(x, y, color='red', linewidth=2, \n",
    "         linestyle='--')\n",
    "\n",
    "plt.legend([\"Blue Team\"], loc=1)\n",
    "plt.show()"
   ]
  },
  {
   "cell_type": "markdown",
   "metadata": {},
   "source": [
    "# 数学グラフ"
   ]
  },
  {
   "cell_type": "markdown",
   "metadata": {},
   "source": [
    "## 直線"
   ]
  },
  {
   "cell_type": "code",
   "execution_count": null,
   "metadata": {},
   "outputs": [],
   "source": [
    "# 直線 y = 2x +1 をプロットする\n",
    "x = np.linspace(-1, 1, 50)  # 1 から 1 まで等間隔で50個区切る\n",
    "y = 2*x + 1\n",
    "plt.plot(x, y)\n",
    "plt.legend([\"y = 2x + 1\"])\n",
    "plt.show()"
   ]
  },
  {
   "cell_type": "markdown",
   "metadata": {},
   "source": [
    "## 放物線"
   ]
  },
  {
   "cell_type": "code",
   "execution_count": null,
   "metadata": {},
   "outputs": [],
   "source": [
    "x = np.linspace(-1, 1, 50)\n",
    "y = x**2  # ** 2乗\n",
    "plt.plot(x, y)\n",
    "plt.legend([\"y = x^2\"])\n",
    "plt.show()"
   ]
  },
  {
   "cell_type": "markdown",
   "metadata": {},
   "source": [
    "## 三角関数 sin(x)"
   ]
  },
  {
   "cell_type": "code",
   "execution_count": null,
   "metadata": {},
   "outputs": [],
   "source": [
    "# 0 から 10 まで 0.01 ずつ変化させた配列を生成\n",
    "X = np.arange(0, 10, 0.01)\n",
    "# X の各要素に sin() 関数を適用\n",
    "Y = np.sin(X)\n",
    "\n",
    "plt.plot(X, Y)\n",
    "plt.show()"
   ]
  },
  {
   "cell_type": "markdown",
   "metadata": {},
   "source": [
    "## 複数線を一つグラフに描く"
   ]
  },
  {
   "cell_type": "code",
   "execution_count": null,
   "metadata": {},
   "outputs": [],
   "source": [
    "x = np.linspace(-1, 1, 50)\n",
    "\n",
    "y1 = 2*x + 1\n",
    "y2 = x**2\n",
    "\n",
    "plt.plot(x, y1)\n",
    "plt.plot(x, y2)\n",
    "plt.legend([\"y = 2x + 1\", \"y = x^2\"])\n",
    "plt.show()"
   ]
  },
  {
   "cell_type": "markdown",
   "metadata": {},
   "source": [
    "## 軸の表示範囲指定①"
   ]
  },
  {
   "cell_type": "code",
   "execution_count": null,
   "metadata": {},
   "outputs": [],
   "source": [
    "# x軸の表示範囲を指定する\n",
    "x = np.linspace(-5, 5, 50)  \n",
    "\n",
    "# y軸もx軸に応じて表示範囲が変更する\n",
    "y1 = 2*x + 1\n",
    "y2 = x**2\n",
    "\n",
    "plt.plot(x, y1)\n",
    "plt.plot(x, y2)\n",
    "plt.legend([\"y = 2x + 1\", \"y = x^2\"])\n",
    "plt.show()"
   ]
  },
  {
   "cell_type": "markdown",
   "metadata": {},
   "source": [
    "## 軸の表示範囲指定②"
   ]
  },
  {
   "cell_type": "code",
   "execution_count": null,
   "metadata": {},
   "outputs": [],
   "source": [
    "x = np.linspace(-5, 5, 50)\n",
    "y1 = 2*x + 1\n",
    "y2 = x**2\n",
    "plt.plot(x, y1)\n",
    "plt.plot(x, y2)\n",
    "\n",
    "plt.xlim((2,3))  # x軸の表示範囲指定\n",
    "plt.ylim((4,8)) # y軸の表示範囲指定\n",
    "plt.legend([\"y = 2x + 1\", \"y = x^2\"])\n",
    "plt.show()"
   ]
  },
  {
   "cell_type": "markdown",
   "metadata": {},
   "source": [
    "## 練習\n",
    "- Sigmoid function"
   ]
  },
  {
   "cell_type": "code",
   "execution_count": null,
   "metadata": {},
   "outputs": [],
   "source": [
    "x = np.arange(-10, 10, 0.1)\n",
    "e = np.e\n",
    "\n",
    "y = 1 / (1 + e**-x)\n",
    "\n",
    "plt.plot(x, y)\n",
    "plt.show()"
   ]
  },
  {
   "cell_type": "markdown",
   "metadata": {},
   "source": [
    "# 棒グラフ"
   ]
  },
  {
   "cell_type": "markdown",
   "metadata": {},
   "source": [
    "## 棒グラフ"
   ]
  },
  {
   "cell_type": "code",
   "execution_count": null,
   "metadata": {},
   "outputs": [],
   "source": [
    "Score = np.array([20, 35, 30, 35, 27])\n",
    "\n",
    "plt.bar([0,1,2,3,4], Score)\n",
    "plt.show()"
   ]
  },
  {
   "cell_type": "markdown",
   "metadata": {},
   "source": [
    "## 色と棒の太さ"
   ]
  },
  {
   "cell_type": "code",
   "execution_count": null,
   "metadata": {},
   "outputs": [],
   "source": [
    "height = np.array([10, 45, 30, 15, 50])\n",
    "\n",
    "plt.bar(x=[0,1,2,3,4], height=height, \n",
    "        color=\"green\", width=0.5)\n",
    "plt.show()"
   ]
  },
  {
   "cell_type": "markdown",
   "metadata": {},
   "source": [
    "## 積み上げ棒グラフ"
   ]
  },
  {
   "cell_type": "code",
   "execution_count": null,
   "metadata": {},
   "outputs": [],
   "source": [
    "# 積み上げ棒グラフ\n",
    "height1 = np.array([10, 45, 30, 15, 50])\n",
    "height2 = np.array([35, 15, 20, 15, 20])\n",
    "\n",
    "plt.bar(x=[0,1,2,3,4], height=height1, \n",
    "        color=\"green\", width=0.5)\n",
    "plt.bar(x=[0,1,2,3,4], height=height2, \n",
    "        bottom=height1, color=\"orange\", width=0.5)\n",
    "plt.show()"
   ]
  },
  {
   "cell_type": "markdown",
   "metadata": {},
   "source": [
    "## エラーバー"
   ]
  },
  {
   "cell_type": "code",
   "execution_count": null,
   "metadata": {},
   "outputs": [],
   "source": [
    "price = np.array([10, 45, 30, 15, 50])\n",
    "std = np.array([2, 5, 8, 3, 1])\n",
    "\n",
    "plt.bar(x=[0,1,2,3,4], height=price, yerr = std,\n",
    "        color=\"green\", width=0.5)\n",
    "plt.show()"
   ]
  },
  {
   "cell_type": "markdown",
   "metadata": {},
   "source": [
    "## ラベルとタイトル"
   ]
  },
  {
   "cell_type": "code",
   "execution_count": null,
   "metadata": {},
   "outputs": [],
   "source": [
    "price = np.array([10, 45, 30, 15, 50])\n",
    "std = np.array([2, 5, 8, 3, 1])\n",
    "\n",
    "plt.xlabel(\"Stock\")\n",
    "plt.ylabel(\"Price\")\n",
    "plt.title(\"Stock Price\")\n",
    "plt.bar(x=[0,1,2,3,4], height=price, yerr = std,\n",
    "        color=\"green\", width=0.5)\n",
    "\n",
    "plt.show()"
   ]
  },
  {
   "cell_type": "markdown",
   "metadata": {},
   "source": [
    "## 軸目盛の表示内容"
   ]
  },
  {
   "cell_type": "code",
   "execution_count": null,
   "metadata": {},
   "outputs": [],
   "source": [
    "price = np.array([10, 45, 30, 15, 50])\n",
    "std = np.array([2, 5, 8, 3, 1])\n",
    "x_axis = [\"APPLE\", \"AMAZON\", \"YAHOO\", \"GOOGLE\", \"FACEBOOK\"]\n",
    "\n",
    "plt.xlabel(\"Stock\")\n",
    "plt.ylabel(\"Price\")\n",
    "plt.title(\"Stock Price\")\n",
    "plt.bar(x=x_axis, height=price, yerr = std,\n",
    "        color=\"green\", width=0.5)\n",
    "\n",
    "plt.show()"
   ]
  },
  {
   "cell_type": "markdown",
   "metadata": {},
   "source": [
    "## グリッド"
   ]
  },
  {
   "cell_type": "code",
   "execution_count": null,
   "metadata": {
    "scrolled": true
   },
   "outputs": [],
   "source": [
    "price = np.array([10, 45, 30, 15, 50])\n",
    "std = np.array([2, 5, 8, 3, 1])\n",
    "x_axis = [\"APPLE\", \"AMAZON\", \"YAHOO\", \"GOOGLE\", \"FACEBOOK\"]\n",
    "\n",
    "plt.xlabel(\"Stock\")\n",
    "plt.ylabel(\"Price\")\n",
    "plt.title(\"Stock Price\")\n",
    "plt.bar(x=x_axis, height=price, yerr = std,\n",
    "        color=\"green\", width=0.5)\n",
    "\n",
    "plt.grid(True)\n",
    "plt.show()"
   ]
  },
  {
   "cell_type": "markdown",
   "metadata": {},
   "source": [
    "## 各棒の上にその棒の数字を入れる"
   ]
  },
  {
   "cell_type": "code",
   "execution_count": null,
   "metadata": {},
   "outputs": [],
   "source": [
    "price = np.array([10, 45, 30, 15, 50])\n",
    "std = np.array([2, 5, 8, 3, 1])\n",
    "x_axis = [\"APPLE\", \"AMAZON\", \"YAHOO\", \"GOOGLE\", \"FACEBOOK\"]\n",
    "\n",
    "plt.xlabel(\"Stock\")\n",
    "plt.ylabel(\"Price\")\n",
    "plt.title(\"Stock Price\")\n",
    "plt.bar(x=x_axis, height=price,  # 数字を見やすくするため、エラーバーを外す\n",
    "        color=\"green\", width=0.5)\n",
    "for x, y in zip(x_axis, price):\n",
    "    plt.text(x, y, y, ha='center', va='bottom')\n",
    "\n",
    "plt.grid(True)\n",
    "plt.show()"
   ]
  },
  {
   "cell_type": "markdown",
   "metadata": {},
   "source": [
    "## 練習：Bitcoin 価格"
   ]
  },
  {
   "cell_type": "code",
   "execution_count": null,
   "metadata": {
    "scrolled": true
   },
   "outputs": [],
   "source": [
    "# csvを導入するため、pandasを使います\n",
    "import pandas as pd\n",
    "\n",
    "# Bitcoin.csv には 2017/10/8 - 2018/1/29\n",
    "# 週ごとのクロージング価格(USD)です。\n",
    "bitcoin = pd.read_csv(\"Bitcoin.csv\")\n",
    "bitcoin # データの中身"
   ]
  },
  {
   "cell_type": "markdown",
   "metadata": {},
   "source": [
    "### 折れ線グラフで価格変動をプロットしてください"
   ]
  },
  {
   "cell_type": "code",
   "execution_count": null,
   "metadata": {},
   "outputs": [],
   "source": [
    "# 折れ線\n",
    "fig=plt.figure(figsize=(12,8)) # グラフのサイズを変更する\n",
    "plt.grid(True)\n",
    "plt.plot(bitcoin.Date, bitcoin.Price)\n",
    "plt.xticks(rotation=30) # x軸の文字を30度回転される\n",
    "for x, y in zip(bitcoin.Date, bitcoin.Price):\n",
    "    plt.text(x, y, y, ha='center', va='bottom')\n",
    "# ha: 水平位置,  va = 垂直位置"
   ]
  },
  {
   "cell_type": "markdown",
   "metadata": {},
   "source": [
    "### 棒グラフで日付と価格を両方プロットしてください"
   ]
  },
  {
   "cell_type": "code",
   "execution_count": null,
   "metadata": {
    "scrolled": true
   },
   "outputs": [],
   "source": [
    "# 棒ブラフ\n",
    "fig=plt.figure(figsize=(15,8))\n",
    "plt.xticks(rotation=30)\n",
    "plt.grid(True)\n",
    "plt.bar(bitcoin.Date, bitcoin.Price)\n",
    "for x, y in zip(bitcoin.Date, bitcoin.Price):\n",
    "    plt.text(x, y, y, ha='center', va='bottom')"
   ]
  },
  {
   "cell_type": "markdown",
   "metadata": {},
   "source": [
    "# 散布図"
   ]
  },
  {
   "cell_type": "markdown",
   "metadata": {},
   "source": [
    "## 散布図"
   ]
  },
  {
   "cell_type": "code",
   "execution_count": null,
   "metadata": {},
   "outputs": [],
   "source": [
    "# 使用するデータをインポートする\n",
    "\n",
    "# pandasというライブラリーの導入\n",
    "import pandas as pd\n",
    "# world.csvファイルをインポートする\n",
    "world = pd.read_csv(\"world2015.csv\")\n",
    "# データ最初の5行を確認する\n",
    "world.head()"
   ]
  },
  {
   "cell_type": "code",
   "execution_count": null,
   "metadata": {},
   "outputs": [],
   "source": [
    "# 平均寿命と一人あたりGDPの関係\n",
    "# scatter(x軸のデータ, y軸のデータ)\n",
    "plt.scatter(world.GDP_per_capita, world.Life_expectancy)"
   ]
  },
  {
   "cell_type": "markdown",
   "metadata": {},
   "source": [
    "## 点のサイズ & 透明度"
   ]
  },
  {
   "cell_type": "code",
   "execution_count": null,
   "metadata": {},
   "outputs": [],
   "source": [
    "# 点の大きさを人口数と正比例で連動する\n",
    "size = world.Population / 1e6 # 1e6 = 1×(10の6乗) = 1,000,000\n",
    "\n",
    "# s は点のサイズ、alpha は透明度を設定する\n",
    "plt.scatter(world.GDP_per_capita, world.Life_expectancy, s=size, alpha = 0.5)\n",
    "\n",
    "plt.show()"
   ]
  },
  {
   "cell_type": "markdown",
   "metadata": {},
   "source": [
    "## 対数グラフ"
   ]
  },
  {
   "cell_type": "code",
   "execution_count": null,
   "metadata": {},
   "outputs": [],
   "source": [
    "size = world.Population / 1e6\n",
    "plt.xscale('log')  # グラフを見やすくするため、x軸のラベルに対数を取る\n",
    "plt.scatter(world.GDP_per_capita, world.Life_expectancy, s=size, alpha = 0.5)\n",
    "\n",
    "plt.show()"
   ]
  },
  {
   "cell_type": "markdown",
   "metadata": {},
   "source": [
    "## なんで対数グラフ"
   ]
  },
  {
   "cell_type": "markdown",
   "metadata": {},
   "source": [
    "## 色をつける"
   ]
  },
  {
   "cell_type": "code",
   "execution_count": null,
   "metadata": {},
   "outputs": [],
   "source": [
    "# map_dictという辞書型の配列を作る\n",
    "map_dict = {      \n",
    "    'Asia':'red',\n",
    "    'Europe':'green',\n",
    "    'Africa':'blue',\n",
    "    'North America':'yellow',\n",
    "    'South America':'yellow',\n",
    "    'Oceania':'black'\n",
    "}\n",
    "# map関数は受け取った数字を特定の関数に渡して実行する\n",
    "# world csv中の「Continent」コラムの要素をそれぞれの色に変換する\n",
    "colors = world.Continent.map(map_dict)\n",
    "\n",
    "size = world.Population / 1e6\n",
    "plt.xscale('log')\n",
    "plt.scatter(world.GDP_per_capita, world.Life_expectancy, c=colors, s=size, alpha = 0.5)\n",
    "plt.show()"
   ]
  },
  {
   "cell_type": "markdown",
   "metadata": {},
   "source": [
    "## 仕上げ"
   ]
  },
  {
   "cell_type": "code",
   "execution_count": null,
   "metadata": {},
   "outputs": [],
   "source": [
    "map_dict = {      \n",
    "    'Asia':'red',\n",
    "    'Europe':'green',\n",
    "    'Africa':'blue',\n",
    "    'North America':'yellow',\n",
    "    'South America':'yellow',\n",
    "    'Oceania':'black'\n",
    "}\n",
    "colors = world.Continent.map(map_dict)\n",
    "size = world.Population / 1e6\n",
    "plt.xscale('log')\n",
    "\n",
    "plt.rcParams['font.family'] = 'YuGothic' # 日本語を表示するため\n",
    "plt.xlabel(\"一人あたりGDP\")\n",
    "plt.ylabel(\"平均寿命\")\n",
    "plt.title(\"平均寿命と一人当たりGDPの関係\")\n",
    "# グラフの説明文章を入れる\n",
    "plt.text(8000, 50, \"一人あたりGDPが大きほど\\n平均寿命が高くなります\", size=12)\n",
    "\n",
    "plt.scatter(world.GDP_per_capita, world.Life_expectancy, c=colors, s=size, alpha = 0.5)\n",
    "plt.grid(True)\n",
    "plt.show()"
   ]
  },
  {
   "cell_type": "markdown",
   "metadata": {},
   "source": [
    "## 練習：人口と一人当たりGDPの関係"
   ]
  },
  {
   "cell_type": "code",
   "execution_count": null,
   "metadata": {},
   "outputs": [],
   "source": [
    "world.head()"
   ]
  },
  {
   "cell_type": "code",
   "execution_count": null,
   "metadata": {},
   "outputs": [],
   "source": [
    "map_dict = {      \n",
    "    'Asia':'red',\n",
    "    'Europe':'green',\n",
    "    'Africa':'blue',\n",
    "    'North America':'yellow',\n",
    "    'South America':'yellow',\n",
    "    'Oceania':'black'\n",
    "}\n",
    "colors = world.Continent.map(map_dict)\n",
    "fig=plt.figure(figsize=(15,8))\n",
    "size = world.Population / 1e6\n",
    "plt.xscale('log')\n",
    "\n",
    "plt.rcParams['font.family'] = 'YuGothic' # 日本語を表示するため\n",
    "plt.xlabel(\"一人あたりGDP（log）\", size = 20)\n",
    "plt.ylabel(\"人口（億）\", size = 20)\n",
    "plt.title(\"人口と一人当たりGDPの関係\", size = 20)\n",
    "# グラフの説明文章を入れる\n",
    "plt.text(1000, 800000000, \"一人あたりGDPと国家の人口総数は無関係です\", size=20)\n",
    "\n",
    "plt.scatter(world.GDP_per_capita, world.Population, c=colors, s=size, alpha = 0.5)\n",
    "plt.grid(True)\n",
    "plt.show()"
   ]
  },
  {
   "cell_type": "markdown",
   "metadata": {},
   "source": [
    "# 円グラフ"
   ]
  },
  {
   "cell_type": "markdown",
   "metadata": {},
   "source": [
    "## 円グラフ"
   ]
  },
  {
   "cell_type": "code",
   "execution_count": null,
   "metadata": {},
   "outputs": [],
   "source": [
    "# 円グラフ各部分のラベル\n",
    "labels=['Python','Java','C++','Ruby']\n",
    "# 各部分の数字（比率）\n",
    "values=[20,30,40,10]\n",
    "# 各部分の色\n",
    "colors=['yellow','green','red','blue']\n",
    "\n",
    "plt.pie(values, labels=labels, colors=colors)\n",
    "plt.title(\"Pie Chart\")\n",
    "plt.show()"
   ]
  },
  {
   "cell_type": "markdown",
   "metadata": {},
   "source": [
    "## グラフの大きさ"
   ]
  },
  {
   "cell_type": "code",
   "execution_count": null,
   "metadata": {},
   "outputs": [],
   "source": [
    "labels=['Python','Java','C++','Ruby']\n",
    "values=[20,30,40,10]\n",
    "colors=['yellow','green','red','blue']\n",
    "\n",
    "# figsize(横サイズ, 縦サイズ)  \n",
    "# このコードが全てのグラフに適用する\n",
    "# 円グラフのため、横と縦の最小値がグラフのサイズになる\n",
    "fig=plt.figure(figsize=(5,5))\n",
    "\n",
    "plt.pie(values, labels=labels, colors=colors)\n",
    "plt.title(\"Pie Chart\")\n",
    "plt.show()"
   ]
  },
  {
   "cell_type": "markdown",
   "metadata": {},
   "source": [
    "## 影をつける"
   ]
  },
  {
   "cell_type": "code",
   "execution_count": null,
   "metadata": {},
   "outputs": [],
   "source": [
    "labels=['Python','Java','C++','Ruby']\n",
    "values=[20,30,40,10]\n",
    "colors=['yellow','green','red','blue']\n",
    "\n",
    "fig=plt.figure(figsize=(5,5))\n",
    "# shadow： グラフに影をつける\n",
    "plt.pie(values, labels=labels, colors=colors, shadow = True)\n",
    "plt.title(\"Pie Chart\")\n",
    "plt.show()"
   ]
  },
  {
   "cell_type": "markdown",
   "metadata": {},
   "source": [
    "## 一部を中心から離れる"
   ]
  },
  {
   "cell_type": "code",
   "execution_count": null,
   "metadata": {},
   "outputs": [],
   "source": [
    "labels=['Python','Java','C++','Ruby']\n",
    "values=[20,30,40,10]\n",
    "colors=['yellow','green','red','blue']\n",
    "# python を中心から離れる\n",
    "# 位置が1 対 1\n",
    "explode = [0.2, 0, 0, 0]\n",
    "\n",
    "fig=plt.figure(figsize=(5,5))\n",
    "plt.pie(values, labels=labels, colors=colors, \n",
    "        shadow = True, explode = explode)\n",
    "plt.title(\"Pie Chart\")\n",
    "plt.show()"
   ]
  },
  {
   "cell_type": "markdown",
   "metadata": {},
   "source": [
    "## 円に比例をつける"
   ]
  },
  {
   "cell_type": "code",
   "execution_count": null,
   "metadata": {},
   "outputs": [],
   "source": [
    "labels=['Python','Java','C++','Ruby']\n",
    "values=[20,30,40,10]\n",
    "colors=['yellow','green','red','blue']\n",
    "explode = [0.2, 0, 0, 0]\n",
    "\n",
    "fig=plt.figure(figsize=(5,5))\n",
    "\n",
    "# autopct は各部分の大きさをパーセンテージで表示する\n",
    "plt.pie(values, labels=labels, colors=colors, \n",
    "        shadow = True, explode = explode, autopct='%0.1f%%')\n",
    "plt.title(\"Pie Chart\")\n",
    "plt.show()"
   ]
  },
  {
   "cell_type": "markdown",
   "metadata": {},
   "source": [
    "## 円中の数値の位置"
   ]
  },
  {
   "cell_type": "code",
   "execution_count": null,
   "metadata": {},
   "outputs": [],
   "source": [
    "labels=['Python','Java','C++','Ruby']\n",
    "values=[20,30,40,10]\n",
    "colors=['yellow','green','red','blue']\n",
    "explode = [0.2, 0, 0, 0]\n",
    "\n",
    "fig=plt.figure(figsize=(5,5))\n",
    "\n",
    "# pctdistance：autopctの数値が中心からどれぐらい離れる\n",
    "plt.pie(values, labels=labels, colors=colors, \n",
    "        shadow = True, explode = explode, \n",
    "        autopct='%0.1f%%', pctdistance=0.3)\n",
    "plt.title(\"Pie Chart\")\n",
    "plt.show()"
   ]
  },
  {
   "cell_type": "markdown",
   "metadata": {},
   "source": [
    "## 円のサイズ"
   ]
  },
  {
   "cell_type": "code",
   "execution_count": null,
   "metadata": {},
   "outputs": [],
   "source": [
    "labels=['Python','Java','C++','Ruby']\n",
    "values=[20,30,40,10]\n",
    "colors=['yellow','green','red','blue']\n",
    "explode = [0.2, 0, 0, 0]\n",
    "\n",
    "fig=plt.figure(figsize=(5,5))\n",
    "\n",
    "# radius 円のサイズ\n",
    "plt.pie(values, labels=labels, colors=colors, \n",
    "        shadow = True, explode = explode, \n",
    "        autopct='%0.1f%%', pctdistance=0.3,\n",
    "       radius = 1.5)\n",
    "plt.title(\"Pie Chart\")\n",
    "plt.show()"
   ]
  },
  {
   "cell_type": "markdown",
   "metadata": {},
   "source": [
    "## 空白円"
   ]
  },
  {
   "cell_type": "code",
   "execution_count": null,
   "metadata": {},
   "outputs": [],
   "source": [
    "# 枠線のスタイルの指定\n",
    "labels=['Python','Java','C++','Ruby']\n",
    "values=[20,30,40,10]\n",
    "colors=['yellow','green','red','blue']\n",
    "explode = [0.2, 0, 0, 0]\n",
    "\n",
    "fig=plt.figure(figsize=(5,5))\n",
    "\n",
    "# wedgeprops = {\"linewidth\":  , \"width\":  , \"edgecolor\":  }\n",
    "# linewidth: 枠線の太さ\n",
    "# width: 円中心の空白\n",
    "# edgecolor: 枠線の色\n",
    "plt.pie(values, labels=labels, colors=colors, \n",
    "        shadow = True, explode = explode, \n",
    "        autopct='%0.1f%%', pctdistance=0.8,\n",
    "       radius = 1, wedgeprops={\"linewidth\": 3, \"width\": 0.4, \"edgecolor\": \"white\"})\n",
    "plt.title(\"Pie Chart\")\n",
    "plt.show()"
   ]
  },
  {
   "cell_type": "markdown",
   "metadata": {},
   "source": [
    "## 回転"
   ]
  },
  {
   "cell_type": "code",
   "execution_count": null,
   "metadata": {},
   "outputs": [],
   "source": [
    "# startangle\n",
    "labels=['Python','Java','C++','Ruby']\n",
    "values=[20,30,40,10]\n",
    "colors=['yellow','green','red','blue']\n",
    "explode = [0.2, 0, 0, 0]\n",
    "\n",
    "fig=plt.figure(figsize=(5,5))\n",
    "\n",
    "# startangle はグラフを回転される\n",
    "plt.pie(values, labels=labels, colors=colors, \n",
    "        shadow = True, explode = explode, \n",
    "        autopct='%0.1f%%', pctdistance=0.8,\n",
    "       radius = 1, wedgeprops={\"linewidth\": 3, \"width\": 0.4, \"edgecolor\": \"white\"},\n",
    "       startangle = 180)\n",
    "plt.title(\"Pie Chart\")\n",
    "plt.show()"
   ]
  },
  {
   "cell_type": "markdown",
   "metadata": {},
   "source": [
    "## 文字の設定"
   ]
  },
  {
   "cell_type": "code",
   "execution_count": null,
   "metadata": {},
   "outputs": [],
   "source": [
    "# textprops\n",
    "labels=['Python','Java','C++','Ruby']\n",
    "values=[20,30,40,10]\n",
    "colors=['yellow','green','red','blue']\n",
    "explode = [0.2, 0, 0, 0]\n",
    "\n",
    "fig=plt.figure(figsize=(5,5))\n",
    "\n",
    "# textprops は文字のスタイルを設定する\n",
    "plt.pie(values, labels=labels, colors=colors, \n",
    "        shadow = True, explode = explode, \n",
    "        autopct='%0.1f%%', pctdistance=0.8,\n",
    "       radius = 1, wedgeprops={\"linewidth\": 3, \"width\": 0.4, \"edgecolor\": \"white\"},\n",
    "       startangle = 180, textprops = {\"color\": \"purple\", \"weight\": \"bold\"})\n",
    "plt.title(\"Pie Chart\")\n",
    "plt.show()"
   ]
  },
  {
   "cell_type": "markdown",
   "metadata": {},
   "source": [
    "## 練習：下記の円グラフを作成してみてください（割合は自由です）"
   ]
  },
  {
   "cell_type": "code",
   "execution_count": null,
   "metadata": {
    "scrolled": false
   },
   "outputs": [],
   "source": [
    "# pei chart 1\n",
    "labels=['Python','Java','C++','Ruby']\n",
    "values=[20,30,40,10]\n",
    "colors=['yellow','green','red','blue']\n",
    "explode = [0.2, 0, 0, 0]\n",
    "# pie chart 2\n",
    "labels2=[\"Amater\", \"Pro\",\n",
    "       \"Amater\", \"Pro\",\n",
    "       \"Amater\", \"Pro\",\n",
    "       \"Amater\", \"Pro\"]\n",
    "values2 = [10,10,20,10,15,25,3,7]\n",
    "colors2 = [\"greenyellow\", \"khaki\",\n",
    "          \"limegreen\", \"olive\",\n",
    "          \"darkorange\", \"salmon\",\n",
    "          \"skyblue\", \"violet\"]\n",
    "explode2 = [0.2, 0.2, 0, 0, 0, 0, 0, 0]\n",
    "\n",
    "fig=plt.figure(figsize=(8,8))\n",
    "\n",
    "plt.pie(values, labels=labels, colors=colors, \n",
    "        shadow = False, explode = explode, \n",
    "        autopct='%0.1f%%', pctdistance=1.3,\n",
    "        radius = 1, wedgeprops={\"linewidth\": 3, \"width\": 0.4, \"edgecolor\": \"white\"},\n",
    "        textprops = {\"fontsize\": 13, \"color\": \"purple\", \"weight\": \"bold\"})\n",
    "# fontsize が matplotlib 2.X バージョンで使えます\n",
    "\n",
    "plt.pie(values2, labels=labels2, colors=colors2, \n",
    "        shadow = False, explode = explode2, \n",
    "        autopct='%0.1f%%', pctdistance=0.7,\n",
    "        radius = 0.7, wedgeprops={\"linewidth\": 3, \"width\": 0.4, \"edgecolor\": \"white\"},\n",
    "        textprops = {\"fontsize\": 13, \"color\": \"white\", \"weight\": \"bold\"})\n",
    "# fontsize が matplotlib 2.X バージョンで使えます\n",
    "\n",
    "plt.title(\"Most Popular Programming Language\", size=20)\n",
    "plt.show()"
   ]
  }
 ],
 "metadata": {
  "kernelspec": {
   "display_name": "Python 3",
   "language": "python",
   "name": "python3"
  },
  "language_info": {
   "codemirror_mode": {
    "name": "ipython",
    "version": 3
   },
   "file_extension": ".py",
   "mimetype": "text/x-python",
   "name": "python",
   "nbconvert_exporter": "python",
   "pygments_lexer": "ipython3",
   "version": "3.6.8"
  },
  "toc": {
   "base_numbering": 1,
   "nav_menu": {},
   "number_sections": true,
   "sideBar": true,
   "skip_h1_title": false,
   "title_cell": "Table of Contents",
   "title_sidebar": "Contents",
   "toc_cell": false,
   "toc_position": {},
   "toc_section_display": true,
   "toc_window_display": true
  }
 },
 "nbformat": 4,
 "nbformat_minor": 2
}
