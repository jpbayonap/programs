{
 "cells": [
  {
   "cell_type": "code",
   "execution_count": 7,
   "metadata": {},
   "outputs": [
    {
     "name": "stdout",
     "output_type": "stream",
     "text": [
      "[1, 2, 3, 4, 5]\n"
     ]
    }
   ],
   "source": [
    "aaa = [1,2,3,4,5]\n",
    "type(aaa)\n",
    "\n",
    "print(aaa)"
   ]
  },
  {
   "cell_type": "code",
   "execution_count": 8,
   "metadata": {},
   "outputs": [
    {
     "name": "stdout",
     "output_type": "stream",
     "text": [
      "[2 3 4 5 6]\n"
     ]
    }
   ],
   "source": [
    "import numpy as np\n",
    "aaa = np.array(aaa)\n",
    "type(aaa)\n",
    "print(aaa + 1)"
   ]
  },
  {
   "cell_type": "code",
   "execution_count": 13,
   "metadata": {
    "scrolled": true
   },
   "outputs": [
    {
     "name": "stdout",
     "output_type": "stream",
     "text": [
      "[16 10]\n",
      "[ True  True False]\n",
      "[16 10]\n"
     ]
    }
   ],
   "source": [
    "import numpy as np\n",
    "\n",
    "array1 = np.array([16,10,3])\n",
    "#print(array1)\n",
    "#全要素を取り出す\n",
    "print(array1[[True,True,False]])\n",
    "\n",
    "print(array1 > 3)\n",
    "\n",
    "#1つ目と2つ目の要素を取り出す\n",
    "print(array1[array1 > 3])\n",
    "#print(array1[[True, True, False]])"
   ]
  },
  {
   "cell_type": "code",
   "execution_count": 5,
   "metadata": {},
   "outputs": [
    {
     "name": "stdout",
     "output_type": "stream",
     "text": [
      "[ True  True False]\n",
      "[False  True  True]\n",
      "[10  3]\n"
     ]
    }
   ],
   "source": [
    "#array1の各要素が5より大きいかの判定\n",
    "print(array1 > 5)\n",
    "\n",
    "#array1の各要素が10以下かの判定\n",
    "print(array1 <= 10)\n",
    "\n",
    "#array1から10以下の要素のみを抽出する\n",
    "print(array1[array1 <= 10])"
   ]
  }
 ],
 "metadata": {
  "kernelspec": {
   "display_name": "Python 3",
   "language": "python",
   "name": "python3"
  },
  "language_info": {
   "codemirror_mode": {
    "name": "ipython",
    "version": 3
   },
   "file_extension": ".py",
   "mimetype": "text/x-python",
   "name": "python",
   "nbconvert_exporter": "python",
   "pygments_lexer": "ipython3",
   "version": "3.6.8"
  }
 },
 "nbformat": 4,
 "nbformat_minor": 2
}
