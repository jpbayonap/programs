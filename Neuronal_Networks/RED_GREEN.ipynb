{
 "cells": [
  {
   "cell_type": "code",
   "execution_count": 12,
   "metadata": {},
   "outputs": [
    {
     "data": {
      "image/png": "[encoded data removed]",
      "text/plain": [
       "<matplotlib.figure.Figure at 0x7fa5a0814c18>"
      ]
     },
     "metadata": {
      "needs_background": "light"
     },
     "output_type": "display_data"
    }
   ],
   "source": [
    "import numpy as np\n",
    "import matplotlib.pyplot as plt\n",
    "def sigmoid(x):\n",
    "    return 1/(1+np.exp(-x))\n",
    "\n",
    "\n",
    "def activate(x):\n",
    "    return sigmoid(x)\n",
    "\n",
    "\n",
    "w_1 = np.random.random((2,5))\n",
    "w_2 = np.random.random((5,2))\n",
    "\n",
    "#theta\n",
    "theta_1 = np.random.random(5)\n",
    "theta_2 = np.random.random(2)\n",
    "\n",
    "#input \n",
    "input = 10*np.random.random((20,2)) -5\n",
    "# test\n",
    "test = []\n",
    "for element in input :\n",
    "    if element[1] > 2*element[0]:\n",
    "        test.append([1,0])\n",
    "    else :\n",
    "        test.append([0,1])\n",
    "#in numpy      \n",
    "test = np.array(test)\n",
    "\n",
    "# Train\n",
    "for i in range(5):\n",
    "    O_1= activate(input.dot(w_1)+ theta_1)\n",
    "    O_2 = activate(O_1.dot(w_2)+ theta_2)\n",
    "    D_2 = (O_2 - test)*O_2*(1-O_2)\n",
    "    D_1 = D_2.dot(w_2.T)*O_1*(1-O_1)\n",
    "    # ACTUALIZAR\n",
    "    w_1 = w_1 - input.T.dot(D_1)\n",
    "    w_2 = w_2 - O_1.T.dot(D_2)\n",
    "\n",
    "    \n",
    "O_1= activate(input.dot(w_1)+ theta_1)\n",
    "O_2 = activate(O_1.dot(w_2)+ theta_2)\n",
    "\n",
    "\n",
    "\n",
    "I =np.zeros((50,50,3))\n",
    "\n",
    "for i in range(50):\n",
    "    for j in range(50):\n",
    "        x = (i/5 -5)\n",
    "        y = -j/5 +5 \n",
    "        TMP=[[x,y]]\n",
    "        TMP = np.array(TMP)\n",
    "        O_1= activate(TMP.dot(w_1)+ theta_1)\n",
    "        O_2 = activate(O_1.dot(w_2)+ theta_2)\n",
    "        if O_2[0][1] >O_2[0][0]:\n",
    "            I[i][j][0]= 0.8\n",
    "        else:\n",
    "            I[i][j][1]= 0.5\n",
    "        \n",
    "for e,f in zip(input,test):\n",
    "    x= int(5*(e[0]+5))\n",
    "    y= int(-5*(e[1]-5))\n",
    "    if f[1]>f[0]:\n",
    "        I[x][y][0]= 1\n",
    "    else:\n",
    "        I[x][y][1]= 1\n",
    "        \n",
    "    \n",
    "plt.imshow(I)\n",
    "\n",
    "plt.show()"
   ]
  },
  {
   "cell_type": "code",
   "execution_count": 2,
   "metadata": {},
   "outputs": [
    {
     "ename": "TypeError",
     "evalue": "scatter() missing 2 required positional arguments: 'x' and 'y'",
     "output_type": "error",
     "traceback": [
      "\u001b[0;31m---------------------------------------------------------------------------\u001b[0m",
      "\u001b[0;31mTypeError\u001b[0m                                 Traceback (most recent call last)",
      "\u001b[0;32m<ipython-input-2-1516a20b26b1>\u001b[0m in \u001b[0;36m<module>\u001b[0;34m\u001b[0m\n\u001b[0;32m----> 1\u001b[0;31m \u001b[0mplt\u001b[0m\u001b[0;34m.\u001b[0m\u001b[0mscatter\u001b[0m\u001b[0;34m(\u001b[0m\u001b[0;34m)\u001b[0m\u001b[0;34m\u001b[0m\u001b[0;34m\u001b[0m\u001b[0m\n\u001b[0m",
      "\u001b[0;31mTypeError\u001b[0m: scatter() missing 2 required positional arguments: 'x' and 'y'"
     ]
    }
   ],
   "source": []
  }
 ],
 "metadata": {
  "kernelspec": {
   "display_name": "Python 3",
   "language": "python",
   "name": "python3"
  },
  "language_info": {
   "codemirror_mode": {
    "name": "ipython",
    "version": 3
   },
   "file_extension": ".py",
   "mimetype": "text/x-python",
   "name": "python",
   "nbconvert_exporter": "python",
   "pygments_lexer": "ipython3",
   "version": "3.6.9"
  }
 },
 "nbformat": 4,
 "nbformat_minor": 2
}
