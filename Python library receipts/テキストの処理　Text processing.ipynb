{
 "cells": [
  {
   "cell_type": "code",
   "execution_count": 1,
   "metadata": {},
   "outputs": [
    {
     "data": {
      "text/plain": [
       "True"
      ]
     },
     "execution_count": 1,
     "metadata": {},
     "output_type": "execute_result"
    }
   ],
   "source": [
    "#文字列のチェックメソッド　method for cheking strings\n",
    "'  isolate alphanumeric  文字列が数字と文字のみ'\n",
    "a = '14hey'\n",
    "a.isalnum()"
   ]
  },
  {
   "cell_type": "code",
   "execution_count": 2,
   "metadata": {},
   "outputs": [
    {
     "name": "stdout",
     "output_type": "stream",
     "text": [
      "True\n",
      "True\n"
     ]
    }
   ],
   "source": [
    "'isolate alphabet 文字のみ'\n",
    "'space doesnt count as string'\n",
    "b = 'toncesque'\n",
    "c = '凄い'\n",
    "print((b.isalpha()))\n",
    "print(c.isalpha())\n",
    "\n"
   ]
  },
  {
   "cell_type": "code",
   "execution_count": 4,
   "metadata": {},
   "outputs": [
    {
     "name": "stdout",
     "output_type": "stream",
     "text": [
      "True True True\n",
      "True False True\n",
      "False False True\n"
     ]
    }
   ],
   "source": [
    "'isolate decimal 　,isolate digit, isolate numeric'\n",
    "'文字列が10進数字を表すか,文字が数字を表す文字,文字が数を表す漢数字も含む'\n",
    " \n",
    "num1 = '1452'\n",
    "num2 = '①②'\n",
    "num3 = 'ⅠⅡⅢ'\n",
    "\n",
    "print(num1.isdigit(), num1.isdecimal(), num1.isnumeric())\n",
    "print(num2.isdigit(), num2.isdecimal(), num2.isnumeric())\n",
    "print(num3.isdigit(), num3.isdecimal(), num3.isnumeric())\n",
    "\n",
    "\n"
   ]
  },
  {
   "cell_type": "code",
   "execution_count": 6,
   "metadata": {},
   "outputs": [
    {
     "name": "stdout",
     "output_type": "stream",
     "text": [
      "True\n",
      "True\n"
     ]
    }
   ],
   "source": [
    "'is  lower case  only , is upper case only  '\n",
    "\"少文字か大文字かを判別\"\n",
    "print(\"UPP\".isupper())\n",
    "print('omg'.islower())"
   ]
  },
  {
   "cell_type": "code",
   "execution_count": 11,
   "metadata": {},
   "outputs": [
    {
     "data": {
      "text/plain": [
       "(True, True, True, False)"
      ]
     },
     "execution_count": 11,
     "metadata": {},
     "output_type": "execute_result"
    }
   ],
   "source": [
    "'is identifier  can be identified, is printable , is title first consonat is upper case, is space does it have a space '\n",
    "\n",
    "'壱拾弐'.isidentifier(),'壱拾弐'.isprintable(),'Total'.istitle(),'hey you!'.isspace()\n"
   ]
  },
  {
   "cell_type": "code",
   "execution_count": 13,
   "metadata": {},
   "outputs": [
    {
     "data": {
      "text/plain": [
       "('TONCES QUE ',\n",
       " 'tonces que ',\n",
       " 'tonces QUE ',\n",
       " 'Tonces que ',\n",
       " 'Tonces Que ',\n",
       " 'TONCES qu5 ')"
      ]
     },
     "execution_count": 13,
     "metadata": {},
     "output_type": "execute_result"
    }
   ],
   "source": [
    "'変換メソッド　convertion methods'\n",
    "'''\n",
    "upper() = turn into upper case 大文字に変換\n",
    "lower() = turn into lower case　　小文字に変換\n",
    "swapcase()= upper case to lower case and viceversa　　大文字を小文字に、小文字を大文字に変換\n",
    "capitalize() = first consonat to upper case , rest to lower case　先頭1文字を大文字化、それ以外小文字\n",
    "title() = capitalize per word 単語ごとに大文字1文字+小文字に変換する\n",
    "replace(old,new[,count]) = count tells how many characters should be replaced 　count は先頭から指定した数だけ変換する\n",
    "\n",
    "'''\n",
    "\n",
    "text  = 'TONCES que '\n",
    "text.upper(), text.lower(), text.swapcase(), text.capitalize(), text.title(), text.replace(\"e\", \"5\")\n",
    "\n",
    "\n",
    "\n"
   ]
  },
  {
   "cell_type": "code",
   "execution_count": 34,
   "metadata": {},
   "outputs": [
    {
     "name": "stdout",
     "output_type": "stream",
     "text": [
      "the residue  of dividing 45 with 6 is equal to 3\n",
      "waiting is better than rushing\n",
      "mansion is bigger than house\n",
      "This is a dictionary\n",
      "My name is Juan and my facebook id is inexisting \n",
      "My name is Juan\n",
      "I would like  to  eat gapao for birthday\n",
      "Today is 2019-10-17\n"
     ]
    }
   ],
   "source": [
    "'書式化メソッド　書式化メソッド　FORMAT'\n",
    "'''\n",
    "予めフォーマットを指定し、それに従って引数を配置して文字列を作る\n",
    "format(0,1,2)\n",
    "Define a command  () and generate a string with this  at the specified position {}  \n",
    "'''\n",
    "'4+5 = {0}'.format(4+5)\n",
    "from datetime import datetime \n",
    "c = 45\n",
    "d = 6\n",
    "\n",
    "person = {'name' :'Juan',\n",
    "         'facebook': 'inexisting'\n",
    "         }\n",
    "\n",
    "words = ['gapao', 'shabu', 'yakiniku']\n",
    "\n",
    "\n",
    "today = datetime.now()\n",
    "\n",
    "print('the residue  of dividing {0} with {1} is equal to {2}'.format(c,d ,c%d))\n",
    "\n",
    "\n",
    "\n",
    "'''\n",
    "置換フフィールド replace  field\n",
    "{}{} replace from left to right \n",
    "{0}{1}{2} determine the order of the variables 指定された位置の引数の値に置換される\n",
    "{name}{key} kwargs またformat_map() で指定された辞書キーに対応する値に置換\n",
    "\n",
    "'''\n",
    "\n",
    "print('{} is better than {}'.format('waiting','rushing'))\n",
    "print('{1} is bigger than {0}'.format('house','mansion'))\n",
    "print('This is a {name}'.format(name ='dictionary'))\n",
    "print('My name is {name} and my facebook id is {facebook} '.format_map(person))\n",
    "print('My name is {person[name]}'.format(person= person))\n",
    "print('I would like  to  eat {0[0]} for birthday'.format(words))\n",
    "print('Today is {0.year}-{0.month}-{0.day}'.format(today))\n"
   ]
  },
  {
   "cell_type": "code",
   "execution_count": null,
   "metadata": {},
   "outputs": [],
   "source": [
    "'''\n",
    "\n",
    "フォーマットの指定方法　define the format \n",
    "\n",
    ":<n :>n :^n 指定した幅ｎで左右寄せ、中央揃えする　n lenght spacing , left right middle positioning \n",
    "　：-< n , :->n , :^-30  左右寄せ、中央揃えでスペースの代わりに指定した文字で埋める（-） n legnth spacing with  a determined symbol,\n",
    " left right middle positioning\n",
    "  :b , :o , :d :x :X ,  binary octagonal decimal hexagesimal base of () 2 8 10 16進数変換\n",
    "  :f 固定小数点の文字列\n",
    "   \n",
    "'''\n",
    "\n"
   ]
  }
 ],
 "metadata": {
  "kernelspec": {
   "display_name": "Python 3",
   "language": "python",
   "name": "python3"
  },
  "language_info": {
   "codemirror_mode": {
    "name": "ipython",
    "version": 3
   },
   "file_extension": ".py",
   "mimetype": "text/x-python",
   "name": "python",
   "nbconvert_exporter": "python",
   "pygments_lexer": "ipython3",
   "version": "3.7.3"
  }
 },
 "nbformat": 4,
 "nbformat_minor": 2
}
