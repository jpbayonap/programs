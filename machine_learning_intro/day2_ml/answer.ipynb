{
 "cells": [
  {
   "cell_type": "markdown",
   "metadata": {},
   "source": [
    "# 演習問題1"
   ]
  },
  {
   "cell_type": "code",
   "execution_count": 1,
   "metadata": {},
   "outputs": [
    {
     "name": "stdout",
     "output_type": "stream",
     "text": [
      "0\n"
     ]
    }
   ],
   "source": [
    "class Animal:\n",
    "    number = 0\n",
    "print(Animal.number)"
   ]
  },
  {
   "cell_type": "markdown",
   "metadata": {},
   "source": [
    "# 演習問題2"
   ]
  },
  {
   "cell_type": "code",
   "execution_count": 2,
   "metadata": {},
   "outputs": [
    {
     "name": "stdout",
     "output_type": "stream",
     "text": [
      "Mike\n"
     ]
    }
   ],
   "source": [
    "cat = Animal()\n",
    "cat.name = \"Mike\"\n",
    "print(cat.name)"
   ]
  },
  {
   "cell_type": "markdown",
   "metadata": {},
   "source": [
    "# 演習問題3"
   ]
  },
  {
   "cell_type": "code",
   "execution_count": 4,
   "metadata": {},
   "outputs": [
    {
     "name": "stdout",
     "output_type": "stream",
     "text": [
      "<class '__main__.Animal'>\n"
     ]
    }
   ],
   "source": [
    "def func():\n",
    "    a = Animal()\n",
    "    \n",
    "    return a\n",
    "dog = func()\n",
    "print(type(dog))"
   ]
  },
  {
   "cell_type": "markdown",
   "metadata": {},
   "source": [
    "# 演習問題4"
   ]
  },
  {
   "cell_type": "code",
   "execution_count": 5,
   "metadata": {},
   "outputs": [
    {
     "name": "stdout",
     "output_type": "stream",
     "text": [
      "monkey name is Taro\n",
      "削除されました\n"
     ]
    }
   ],
   "source": [
    "class Animal():\n",
    "    number = 0\n",
    "    #ここからを追記\n",
    "    def __init__(self, arg_name, arg_species, arg_age):\n",
    "        self.name = arg_name\n",
    "        self.species = arg_species\n",
    "        self.age = arg_age\n",
    "        \n",
    "    def __del__(self):\n",
    "        print(\"削除されました\")\n",
    "monkey = Animal(\"Taro\", \"Monkey\", 30)\n",
    "print(\"monkey name is\", monkey.name)\n",
    "del monkey"
   ]
  },
  {
   "cell_type": "markdown",
   "metadata": {},
   "source": [
    "# 演習問題5"
   ]
  },
  {
   "cell_type": "code",
   "execution_count": 6,
   "metadata": {},
   "outputs": [
    {
     "name": "stdout",
     "output_type": "stream",
     "text": [
      "Michael\n",
      "30\n",
      "31\n",
      "number : 1\n"
     ]
    }
   ],
   "source": [
    "class Animal():\n",
    "    number = 0\n",
    "    def __init__(self, arg_name, arg_species, arg_age):\n",
    "        self.name = arg_name\n",
    "        self.species = arg_species\n",
    "        self.age = arg_age\n",
    "    #ここからを追記\n",
    "    def show_name(self):\n",
    "        print(self.name)\n",
    "        \n",
    "    def add_age(self):\n",
    "        self.age += 1\n",
    "    \n",
    "    @classmethod\n",
    "    def add_number(cls):\n",
    "        cls.number += 1\n",
    "        print(\"number : \" + str(cls.number))\n",
    "        \n",
    "monkey = Animal(\"Michael\", \"Monkey\", 30)\n",
    "monkey.show_name()\n",
    "print(monkey.age)\n",
    "monkey.add_age()\n",
    "print(monkey.age)\n",
    "Animal.add_number()"
   ]
  },
  {
   "cell_type": "markdown",
   "metadata": {},
   "source": [
    "# 演習問題6"
   ]
  },
  {
   "cell_type": "code",
   "execution_count": 1,
   "metadata": {},
   "outputs": [
    {
     "name": "stdout",
     "output_type": "stream",
     "text": [
      "30\n",
      "30\n",
      "25\n"
     ]
    }
   ],
   "source": [
    "class Animal():\n",
    "    number = 0\n",
    "    def __init__(self, arg_name, arg_species, arg_age):\n",
    "        self.name = arg_name\n",
    "        self.species = arg_species\n",
    "        self.__age = arg_age #変更箇所\n",
    "\n",
    "    def show_name(self):\n",
    "        print(self.name)\n",
    "        \n",
    "    def add_age(self):\n",
    "        self.__age += 1\n",
    "    \n",
    "    @classmethod\n",
    "    def add_number(cls):\n",
    "        cls.number += 1\n",
    "        print(\"number : \" + str(cls.number))\n",
    "    #追記          \n",
    "    @property\n",
    "    def age(self):\n",
    "        return self.__age\n",
    "    \n",
    "    @age.setter\n",
    "    def age(self,age):\n",
    "        if type(age) == int:\n",
    "            if age > 0:\n",
    "                self.__age = age\n",
    "                return\n",
    "            raise ValueError(\"0より大きい数で入れてください\")\n",
    "        raise TypeError(\"int型で入れてください\")\n",
    "\n",
    "monkey = Animal(\"Michael\", \"Monkey\", 30)\n",
    "print(monkey._Animal__age)\n",
    "print(monkey.age)\n",
    "#monkey.age = \"15\"\n",
    "#monkey.age = -1\n",
    "monkey.age = 25\n",
    "print(monkey.age)"
   ]
  },
  {
   "cell_type": "markdown",
   "metadata": {},
   "source": [
    "# 演習問題7"
   ]
  },
  {
   "cell_type": "code",
   "execution_count": 2,
   "metadata": {},
   "outputs": [
    {
     "name": "stdout",
     "output_type": "stream",
     "text": [
      "ひげは… True\n",
      "これは親クラス\n",
      "子クラスに変わったよ\n"
     ]
    }
   ],
   "source": [
    "#親クラス\n",
    "class Animal():\n",
    "    number = 0\n",
    "    def __init__(self, arg_name, arg_species, arg_age):\n",
    "        self.name = arg_name\n",
    "        self.species = arg_species\n",
    "        self.__age = arg_age\n",
    "\n",
    "    def show_name(self):\n",
    "        print(self.name)\n",
    "        \n",
    "    def add_age(self):\n",
    "        self.__age += 1\n",
    "        \n",
    "    def echo(self):\n",
    "        print(\"これは親クラス\")#追記箇所\n",
    "\n",
    "    @classmethod\n",
    "    def add_number(cls):\n",
    "        cls.number += 1\n",
    "        print(\"number : \" + str(cls.number))\n",
    "        \n",
    "    @property\n",
    "    def age(self):\n",
    "        return self.__age\n",
    "    \n",
    "    @age.setter\n",
    "    def age(self,age):\n",
    "        if type(age) == int:\n",
    "            if age > 0:\n",
    "                self.__age = age\n",
    "                return\n",
    "            raise ValueError(\"0より大きい数で入れてください\")\n",
    "        raise TypeError(\"int型で入れてください\")\n",
    "\n",
    "#子クラス\n",
    "class Cat(Animal):\n",
    "    def __init__(self, arg_name, arg_species, arg_age, arg_beard):\n",
    "        super().__init__(arg_name, arg_species, arg_age)\n",
    "        self.beard = arg_beard\n",
    "    \n",
    "    def echo(self):\n",
    "        print(\"子クラスに変わったよ\")\n",
    "        \n",
    "mike = Cat(\"Mike\", \"cat\", 5, True)\n",
    "print(\"ひげは…\",mike.beard)\n",
    "\n",
    "monkey = Animal(\"Michael\", \"Monkey\", 30)\n",
    "''' mistake print(echo) double print'''\n",
    "#print(monkey.echo())\n",
    "#print(mike.echo())\n",
    "monkey.echo()\n",
    "mike.echo()"
   ]
  },
  {
   "cell_type": "markdown",
   "metadata": {},
   "source": [
    "# 演習問題8"
   ]
  },
  {
   "cell_type": "code",
   "execution_count": 27,
   "metadata": {},
   "outputs": [
    {
     "name": "stdout",
     "output_type": "stream",
     "text": [
      "Mike : にゃー\n"
     ]
    }
   ],
   "source": [
    "class Cat(Animal):\n",
    "    \n",
    "    def __init__(self, arg_name, arg_species, arg_age, arg_beard):\n",
    "        super().__init__(arg_name, arg_species, arg_age)\n",
    "        self.beard = arg_beard\n",
    "        \n",
    "    def echo(self):\n",
    "        print(\"子クラスに変わったよ\")\n",
    "        \n",
    "    #ここから追記\n",
    "    def __call__(self):\n",
    "        print(str(self.name) + \" : にゃー\")\n",
    "        \n",
    "        \n",
    "mike = Cat(\"Mike\", \"cat\", 5, True)\n",
    "mike()"
   ]
  }
 ],
 "metadata": {
  "kernelspec": {
   "display_name": "Python 3",
   "language": "python",
   "name": "python3"
  },
  "language_info": {
   "codemirror_mode": {
    "name": "ipython",
    "version": 3
   },
   "file_extension": ".py",
   "mimetype": "text/x-python",
   "name": "python",
   "nbconvert_exporter": "python",
   "pygments_lexer": "ipython3",
   "version": "3.6.8"
  }
 },
 "nbformat": 4,
 "nbformat_minor": 2
}
