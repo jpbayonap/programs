{
 "cells": [
  {
   "cell_type": "markdown",
   "metadata": {},
   "source": [
    "# 演習問題1 分類 (Easy)\n",
    "\n",
    "## 問題\n",
    "\n",
    "以下の1~4の変数からアヤメの品種を推定するモデルを作成せよ.\n",
    "\n",
    "1. Sepal Length（がく片の長さ）\n",
    "2. Sepal Width（がく片の幅）\n",
    "3. Petal Length（花びらの長さ）\n",
    "4. Petal Width（花びらの幅）\n",
    "\n",
    "今回はSetosa→0, Versicolour→1, Virginica→2 と、目的変数はすでに数値化されている.\n",
    "\n",
    "#### ヒント　\n",
    "手順は以下の順番でおこなうとよい.\n",
    "\n",
    "1. 欠損値があるかを確認する.\n",
    "2. データを見て, どのアルゴリズムを使うかを決める.\n",
    "3. ハイパーパラメータの最適化を行う.\n",
    "\n",
    "(2と3は同時平行に行なってもよい.)"
   ]
  },
  {
   "cell_type": "markdown",
   "metadata": {},
   "source": [
    "### ランダムフォレストの解答例"
   ]
  },
  {
   "cell_type": "code",
   "execution_count": null,
   "metadata": {},
   "outputs": [],
   "source": [
    "import warnings\n",
    "warnings.filterwarnings('ignore')\n",
    "import numpy as np\n",
    "import pandas as pd\n",
    "import matplotlib.pyplot as plt\n",
    "from sklearn.datasets import load_iris\n",
    "#ランダムフォレストを使ってみる.\n",
    "from sklearn.ensemble import RandomForestClassifier\n",
    "from sklearn.model_selection import GridSearchCV\n",
    "iris = load_iris()\n",
    "iris_df = pd.DataFrame(iris.data)\n",
    "iris_df.columns = iris.feature_names\n",
    "#今回の演習の目的変数に相当\n",
    "iris_df[\"target_names\"] = iris.target\n",
    "iris_df.head()"
   ]
  },
  {
   "cell_type": "markdown",
   "metadata": {},
   "source": [
    "目的変数にどの品種がどれくらいあるかを確認."
   ]
  },
  {
   "cell_type": "code",
   "execution_count": null,
   "metadata": {},
   "outputs": [],
   "source": [
    "iris_df[\"target_names\"].value_counts()"
   ]
  },
  {
   "cell_type": "markdown",
   "metadata": {},
   "source": [
    "データに欠損値があるかを確認."
   ]
  },
  {
   "cell_type": "code",
   "execution_count": null,
   "metadata": {},
   "outputs": [],
   "source": [
    "iris_df.isnull().sum()"
   ]
  },
  {
   "cell_type": "markdown",
   "metadata": {},
   "source": [
    "欠損値がないため、アルゴリズムを検討する。とりあえずハイパーパラメータ調節の楽なランダムフォレストを使ってみる。\n",
    "説明変数が目的変数とどの程度相関しているかを見てみる."
   ]
  },
  {
   "cell_type": "code",
   "execution_count": null,
   "metadata": {},
   "outputs": [],
   "source": [
    "iris_df.corr() #各変数の相関値を表示"
   ]
  },
  {
   "cell_type": "markdown",
   "metadata": {},
   "source": [
    "目的変数と説明変数に強い相関が見られたので, 正答率の高いモデルが作成できそう!"
   ]
  },
  {
   "cell_type": "code",
   "execution_count": null,
   "metadata": {},
   "outputs": [],
   "source": [
    "#列名が扱いづらいのでリネームする.\n",
    "iris_df.columns = [\"sepal_length\", \"sepal_width\",\"petal_length\",\"petal_width\",\"target_names\"]"
   ]
  },
  {
   "cell_type": "markdown",
   "metadata": {},
   "source": [
    "まずは, 大域的にハイパーパラメータの候補を羅列し、そのあと範囲を絞って最適なパラメータを見つける。"
   ]
  },
  {
   "cell_type": "code",
   "execution_count": null,
   "metadata": {},
   "outputs": [],
   "source": [
    "clf = RandomForestClassifier()#分類器の生成\n",
    "#今回試すハイパーパラメータ\n",
    "params = {'n_estimators'  : [10, 20, 30 ],'max_depth': [1,  5, 10],'random_state':[0]}\n",
    "X_iris = iris_df[[\"sepal_length\", \"sepal_width\",\"petal_length\",\"petal_width\"]]\n",
    "y_iris = iris_df[\"target_names\"]\n",
    "cv_1 = GridSearchCV(clf, params, cv = 10 , n_jobs =-1,scoring= \"accuracy\")\n",
    "cv_1.fit(X_iris, y_iris)\n",
    "print(\"計算終了\")"
   ]
  },
  {
   "cell_type": "code",
   "execution_count": null,
   "metadata": {},
   "outputs": [],
   "source": [
    "#スコアを確認\n",
    "print(cv_1.cv_results_[\"mean_test_score\"])\n",
    "print(cv_1.cv_results_[\"params\"])"
   ]
  },
  {
   "cell_type": "markdown",
   "metadata": {},
   "source": [
    "正答率を確認すると, max_depth = 5から10, estimators　= 10から20くらいの値が良さそう !"
   ]
  },
  {
   "cell_type": "code",
   "execution_count": null,
   "metadata": {},
   "outputs": [],
   "source": [
    "params = {'n_estimators'  : [10,15,20],'max_depth': [5,7,9],'random_state':[0,1]}\n",
    "cv_1 = GridSearchCV(clf, params, cv = 10 , n_jobs =-1,scoring= \"accuracy\")\n",
    "cv_1.fit(X_iris, y_iris)\n",
    "print(\"範囲限定後の計算完了\")"
   ]
  },
  {
   "cell_type": "code",
   "execution_count": null,
   "metadata": {},
   "outputs": [],
   "source": [
    "cv_1.cv_results_[\"mean_test_score\"]"
   ]
  },
  {
   "cell_type": "markdown",
   "metadata": {},
   "source": [
    "最適なハイパーパラメータを表示"
   ]
  },
  {
   "cell_type": "code",
   "execution_count": null,
   "metadata": {},
   "outputs": [],
   "source": [
    "cv_1.best_params_"
   ]
  },
  {
   "cell_type": "markdown",
   "metadata": {},
   "source": [
    "### SVMの解答例\n",
    "\n",
    "今回のデータセットは低次元でデータ数が少ないため、こちらの手法を用いるのがよいと思われる。\n",
    "SVMの設定すべきハイパーパラメータは以下の2つである。\n",
    "\n",
    "1. コストパラメータCCは、誤分類をどの程度許容するかを決めるパラメータである。\n",
    "2. の値が小さいほど単純な決定境界となり, 大きいほど複雑な決定境界となる。"
   ]
  },
  {
   "cell_type": "code",
   "execution_count": null,
   "metadata": {},
   "outputs": [],
   "source": [
    "from sklearn.svm import SVC\n",
    "\n",
    "clf2 = SVC()\n",
    "params2 = {\"C\":[0.01,0.1, 1,10],\"gamma\":[0.01,0.1, 1,10],'random_state':[0]}\n",
    "cv_2 = GridSearchCV(clf2, params2, cv = 10 , n_jobs =-1, scoring= \"accuracy\")\n",
    "cv_2.fit(X_iris, y_iris)\n",
    "print(\"計算完了\")"
   ]
  },
  {
   "cell_type": "code",
   "execution_count": null,
   "metadata": {
    "scrolled": true
   },
   "outputs": [],
   "source": [
    "cv_2.cv_results_[\"mean_test_score\"]#SVMの結果を表示."
   ]
  },
  {
   "cell_type": "markdown",
   "metadata": {},
   "source": [
    "最適なハイパーパラメータを表示"
   ]
  },
  {
   "cell_type": "code",
   "execution_count": null,
   "metadata": {},
   "outputs": [],
   "source": [
    "cv_2.best_params_"
   ]
  },
  {
   "cell_type": "markdown",
   "metadata": {},
   "source": [
    "学習済みモデルを用いてクラスを予測したい場合には以下の関数\n",
    "\n",
    "#### cv_1.predict(データ)\n",
    "\n",
    "を用いればよい。"
   ]
  },
  {
   "cell_type": "markdown",
   "metadata": {},
   "source": [
    "### まとめ\n",
    "ランダムフォレストを用いた場合,  Acurracyが96パーセントのモデル, SVMを用いた場合は98パーセントのモデルを作成することができた\n",
    "今回の問題の場合にはデータの次元数が少なくデータ数も少ないため、SVMを使うとよいモデルが作れた。"
   ]
  }
 ],
 "metadata": {
  "kernelspec": {
   "display_name": "Python 3",
   "language": "python",
   "name": "python3"
  },
  "language_info": {
   "codemirror_mode": {
    "name": "ipython",
    "version": 3
   },
   "file_extension": ".py",
   "mimetype": "text/x-python",
   "name": "python",
   "nbconvert_exporter": "python",
   "pygments_lexer": "ipython3",
   "version": "3.7.0"
  }
 },
 "nbformat": 4,
 "nbformat_minor": 2
}
