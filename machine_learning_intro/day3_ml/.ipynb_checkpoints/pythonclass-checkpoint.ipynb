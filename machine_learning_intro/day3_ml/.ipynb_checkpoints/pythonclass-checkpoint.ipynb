{
 "cells": [
  {
   "cell_type": "markdown",
   "metadata": {},
   "source": [
    "# クラスの宣言"
   ]
  },
  {
   "cell_type": "code",
   "execution_count": 1,
   "metadata": {},
   "outputs": [],
   "source": [
    "#クラスの宣言方法\n",
    "class Person:\n",
    "    pass"
   ]
  },
  {
   "cell_type": "code",
   "execution_count": 2,
   "metadata": {},
   "outputs": [
    {
     "name": "stdout",
     "output_type": "stream",
     "text": [
      "Homo sapiens\n",
      "1\n"
     ]
    }
   ],
   "source": [
    "#クラス変数\n",
    "class Person:\n",
    "    species = \"Homo sapiens\"\n",
    "    number = 1\n",
    "print(Person.species)\n",
    "print(Person.number)"
   ]
  },
  {
   "cell_type": "markdown",
   "metadata": {},
   "source": [
    "# 演習問題1\n",
    "<p>問題1：Animalという名前のクラスを宣言しましょう</p>\n",
    "<p>問題2：Animalクラスにnumberというクラス変数を追加し、値0を代入しましょう</p>\n",
    "<p>問題3：Animalクラスのクラス変数、numberをprintしましょう</p>"
   ]
  },
  {
   "cell_type": "code",
   "execution_count": null,
   "metadata": {},
   "outputs": [],
   "source": [
    "#演習問題１\n"
   ]
  },
  {
   "cell_type": "markdown",
   "metadata": {},
   "source": [
    "# オブジェクト"
   ]
  },
  {
   "cell_type": "code",
   "execution_count": 3,
   "metadata": {},
   "outputs": [
    {
     "name": "stdout",
     "output_type": "stream",
     "text": [
      "inazawa\n",
      "24\n"
     ]
    }
   ],
   "source": [
    "#インスタンス変数\n",
    "inazawa = Person()\n",
    "inazawa.name = \"inazawa\"\n",
    "inazawa.age = 24\n",
    "print(inazawa.name)\n",
    "print(inazawa.age)"
   ]
  },
  {
   "cell_type": "markdown",
   "metadata": {},
   "source": [
    "# 演習問題2\n",
    "<p>問題1：Animalクラスのオブジェクトcatを宣言しましょう</p>\n",
    "<p>問題2：オブジェクトcatにインスタンス変数nameを追加し、値を適当に代入しましょう</p>"
   ]
  },
  {
   "cell_type": "code",
   "execution_count": null,
   "metadata": {},
   "outputs": [],
   "source": [
    "#演習問題２\n"
   ]
  },
  {
   "cell_type": "markdown",
   "metadata": {},
   "source": [
    "# クラスを使う関数"
   ]
  },
  {
   "cell_type": "code",
   "execution_count": 4,
   "metadata": {},
   "outputs": [
    {
     "name": "stdout",
     "output_type": "stream",
     "text": [
      "inazawa\n",
      "harayama\n"
     ]
    }
   ],
   "source": [
    "#クラスを使う関数\n",
    "def fanc1(person):\n",
    "    print(person.name)\n",
    "fanc1(inazawa)\n",
    "\n",
    "def fanc2(name):\n",
    "    p = Person()\n",
    "    p.name = name\n",
    "    \n",
    "    return p\n",
    "\n",
    "harayama = fanc2(\"harayama\")\n",
    "print(harayama.name)"
   ]
  },
  {
   "cell_type": "markdown",
   "metadata": {},
   "source": [
    "# 演習問題3\n",
    "<p>問題1：Animalクラスのオブジェクトを返す関数を作成しましょう</p>\n",
    "<p>問題2：dogという変数に、問題1の関数の返り値を代入し、dogというオブジェクトを生成しましょう</p>"
   ]
  },
  {
   "cell_type": "code",
   "execution_count": null,
   "metadata": {},
   "outputs": [],
   "source": [
    "#演習問題３\n"
   ]
  },
  {
   "cell_type": "markdown",
   "metadata": {},
   "source": [
    "# コンストラクタとデストラクタ"
   ]
  },
  {
   "cell_type": "code",
   "execution_count": 4,
   "metadata": {},
   "outputs": [
    {
     "name": "stdout",
     "output_type": "stream",
     "text": [
      "コンストラクタだよ\n"
     ]
    }
   ],
   "source": [
    "#コンストラクタ\n",
    "class Person:\n",
    "    species = \"Homo sapiens\"\n",
    "    number = 1\n",
    "    def __init__(self):\n",
    "        print(\"コンストラクタだよ\")\n",
    "inazawa = Person()"
   ]
  },
  {
   "cell_type": "code",
   "execution_count": 2,
   "metadata": {},
   "outputs": [
    {
     "name": "stdout",
     "output_type": "stream",
     "text": [
      "コンストラクタだよ\n",
      "inazawa\n",
      "24\n"
     ]
    }
   ],
   "source": [
    "#コンストラクタに引数を追加\n",
    "class Person:\n",
    "    species = \"Homo sapiens\"\n",
    "    number = 1\n",
    "    def __init__(self, name_arg, age_arg):\n",
    "        print(\"コンストラクタだよ\")\n",
    "        self.name = name_arg\n",
    "        self.age = age_arg\n",
    "        \n",
    "inazawa = Person(\"inazawa\", 24)\n",
    "print(inazawa.name)\n",
    "print(inazawa.age)"
   ]
  },
  {
   "cell_type": "code",
   "execution_count": 3,
   "metadata": {},
   "outputs": [
    {
     "name": "stdout",
     "output_type": "stream",
     "text": [
      "コンストラクタだよ\n",
      "コンストラクタだよ\n",
      "3\n"
     ]
    }
   ],
   "source": [
    "#コンストラクタでクラス変数を操作\n",
    "class Person:\n",
    "    species = \"Homo sapiens\"\n",
    "    number = 1\n",
    "    def __init__(self, name_arg, age_arg):\n",
    "        print(\"コンストラクタだよ\")\n",
    "        self.name = name_arg\n",
    "        self.age = age_arg\n",
    "        Person.number += 1\n",
    "        #self.number\n",
    "        \n",
    "inazawa = Person(\"inazawa\", 24)\n",
    "watanebe = Person(\"watanabe\",23)\n",
    "print(Person.number)"
   ]
  },
  {
   "cell_type": "code",
   "execution_count": 8,
   "metadata": {},
   "outputs": [
    {
     "name": "stdout",
     "output_type": "stream",
     "text": [
      "コンストラクタだよ\n",
      "2\n",
      "-------\n",
      "デストラクタだよ\n",
      "1\n"
     ]
    }
   ],
   "source": [
    "#デストラクタ\n",
    "class Person:\n",
    "    species = \"Homo sapiens\"\n",
    "    number = 1\n",
    "    def __init__(self, name_arg, age_arg):\n",
    "        print(\"コンストラクタだよ\")\n",
    "        self.name = name_arg\n",
    "        self.age = age_arg\n",
    "        Person.number += 1\n",
    "\n",
    "    def __del__(self):\n",
    "        print(\"デストラクタだよ\")\n",
    "        Person.number -= 1\n",
    "        \n",
    "inazawa = Person(\"inazawa\", 24)\n",
    "print(Person.number)\n",
    "print(\"-------\")\n",
    "del inazawa\n",
    "print(Person.number)"
   ]
  },
  {
   "cell_type": "markdown",
   "metadata": {},
   "source": [
    "# 演習問題4\n",
    "<p>問題1：Animalクラスのコンストラクタにおいて、nameとspecies(種別),ageを引数にし、インスタンス変数に代入しましょう</p>\n",
    "<p>問題2：Animalクラスのデストラクタにおいて、オブジェクトが削除されたことを示す適当な文言をprintしましょう</p>"
   ]
  },
  {
   "cell_type": "code",
   "execution_count": null,
   "metadata": {},
   "outputs": [],
   "source": [
    "#演習問題４\n"
   ]
  },
  {
   "cell_type": "markdown",
   "metadata": {},
   "source": [
    "# メソッド"
   ]
  },
  {
   "cell_type": "code",
   "execution_count": 9,
   "metadata": {},
   "outputs": [
    {
     "name": "stdout",
     "output_type": "stream",
     "text": [
      "コンストラクタだよ\n",
      "inazawaの誕生日です\n",
      "25\n"
     ]
    }
   ],
   "source": [
    "#メソッド\n",
    "class Person:\n",
    "    species = \"Homo sapiens\"\n",
    "    number = 1\n",
    "    def __init__(self, name_arg, age_arg):\n",
    "        print(\"コンストラクタだよ\")\n",
    "        self.name = name_arg\n",
    "        self.age = age_arg\n",
    "        Person.number += 1\n",
    "        \n",
    "    def birthday(self):\n",
    "        print(self.name+\"の誕生日です\")\n",
    "        self.age += 1\n",
    "        \n",
    "inazawa = Person(\"inazawa\",24)\n",
    "inazawa.birthday()\n",
    "print(inazawa.age)"
   ]
  },
  {
   "cell_type": "code",
   "execution_count": 10,
   "metadata": {},
   "outputs": [
    {
     "name": "stdout",
     "output_type": "stream",
     "text": [
      "この種はHomo sapiensです\n",
      "<class '__main__.Person'>\n"
     ]
    }
   ],
   "source": [
    "#クラスメソッド\n",
    "class Person:\n",
    "    species = \"Homo sapiens\"\n",
    "    number = 1\n",
    "    def __init__(self, name_arg, age_arg):\n",
    "        print(\"コンストラクタだよ\")\n",
    "        self.name = name_arg\n",
    "        self.age = age_arg\n",
    "        Person.number += 1\n",
    "        \n",
    "    def birthday(self):\n",
    "        print(self.name+\"の誕生日です\")\n",
    "        self.age += 1\n",
    "        \n",
    "    @classmethod\n",
    "    def get_species(cls):\n",
    "        print(\"この種は\" + cls.species + \"です\")\n",
    "        print(cls)\n",
    "        \n",
    "Person.get_species()"
   ]
  },
  {
   "cell_type": "markdown",
   "metadata": {},
   "source": [
    "# 演習問題5\n",
    "<p>問題1：Animalクラスにおいて、自分の名前をprintするメソッドを追加しましょう</p>\n",
    "<p>問題2：Animalクラスにおいて、age(年齢)を一つ上げるメソッドを追加しましょう</p>\n",
    "<p>問題3：問題1・2のメソッドを実行してみましょう</p>\n",
    "<p>問題4：Animalクラスにおいて、クラス変数numberを1つ上げるクラスメソッドを追加しましょう</p>"
   ]
  },
  {
   "cell_type": "code",
   "execution_count": null,
   "metadata": {},
   "outputs": [],
   "source": [
    "#演習問題５\n"
   ]
  },
  {
   "cell_type": "markdown",
   "metadata": {},
   "source": [
    "# カプセル化とgetter,setter"
   ]
  },
  {
   "cell_type": "code",
   "execution_count": 12,
   "metadata": {},
   "outputs": [
    {
     "name": "stdout",
     "output_type": "stream",
     "text": [
      "コンストラクタだよ\n"
     ]
    },
    {
     "ename": "AttributeError",
     "evalue": "'Person' object has no attribute '__name'",
     "output_type": "error",
     "traceback": [
      "\u001b[0;31m---------------------------------------------------------------------------\u001b[0m",
      "\u001b[0;31mAttributeError\u001b[0m                            Traceback (most recent call last)",
      "\u001b[0;32m<ipython-input-12-632dc19f7153>\u001b[0m in \u001b[0;36m<module>\u001b[0;34m()\u001b[0m\n\u001b[1;32m     22\u001b[0m \u001b[0;34m\u001b[0m\u001b[0m\n\u001b[1;32m     23\u001b[0m \u001b[0minazawa\u001b[0m \u001b[0;34m=\u001b[0m \u001b[0mPerson\u001b[0m\u001b[0;34m(\u001b[0m\u001b[0;34m\"inazawa\"\u001b[0m\u001b[0;34m,\u001b[0m\u001b[0;36m24\u001b[0m\u001b[0;34m)\u001b[0m\u001b[0;34m\u001b[0m\u001b[0m\n\u001b[0;32m---> 24\u001b[0;31m \u001b[0minazawa\u001b[0m\u001b[0;34m.\u001b[0m\u001b[0m__name\u001b[0m\u001b[0;31m#外部からアクセスできないためエラー\u001b[0m\u001b[0;34m\u001b[0m\u001b[0m\n\u001b[0m\u001b[1;32m     25\u001b[0m \u001b[0minazawa\u001b[0m\u001b[0;34m.\u001b[0m\u001b[0mname\u001b[0m\u001b[0;34m\u001b[0m\u001b[0m\n",
      "\u001b[0;31mAttributeError\u001b[0m: 'Person' object has no attribute '__name'"
     ]
    }
   ],
   "source": [
    "#カプセル化\n",
    "class Person:\n",
    "    species = \"Homo sapiens\"\n",
    "    number = 1\n",
    "    def __init__(self, name_arg, age_arg):\n",
    "        print(\"コンストラクタだよ\")\n",
    "        self.__name = name_arg\n",
    "        self.__age = age_arg\n",
    "        Person.number += 1\n",
    "        \n",
    "    def birthday(self):\n",
    "        print(self.__name+\"の誕生日です\")\n",
    "        self.__age += 1\n",
    "        \n",
    "    def __change_name(self,new_name):\n",
    "        self.__name = new_name\n",
    "        \n",
    "    @classmethod\n",
    "    def get_species(cls):\n",
    "        print(\"この種は\" + cls.species + \"です\")\n",
    "        print(cls)\n",
    "        \n",
    "inazawa = Person(\"inazawa\",24)\n",
    "inazawa.__name#外部からアクセスできないためエラー\n",
    "inazawa.name"
   ]
  },
  {
   "cell_type": "code",
   "execution_count": 13,
   "metadata": {},
   "outputs": [
    {
     "name": "stdout",
     "output_type": "stream",
     "text": [
      "コンストラクタだよ\n",
      "inazawa\n",
      "watanabe\n"
     ]
    },
    {
     "ename": "ValueError",
     "evalue": "一文字以上の名前を入れてください",
     "output_type": "error",
     "traceback": [
      "\u001b[0;31m---------------------------------------------------------------------------\u001b[0m",
      "\u001b[0;31mValueError\u001b[0m                                Traceback (most recent call last)",
      "\u001b[0;32m<ipython-input-13-99d6f128316b>\u001b[0m in \u001b[0;36m<module>\u001b[0;34m()\u001b[0m\n\u001b[1;32m     36\u001b[0m \u001b[0minazawa\u001b[0m\u001b[0;34m.\u001b[0m\u001b[0mname\u001b[0m \u001b[0;34m=\u001b[0m \u001b[0;34m\"watanabe\"\u001b[0m\u001b[0;34m\u001b[0m\u001b[0m\n\u001b[1;32m     37\u001b[0m \u001b[0mprint\u001b[0m\u001b[0;34m(\u001b[0m\u001b[0minazawa\u001b[0m\u001b[0;34m.\u001b[0m\u001b[0mname\u001b[0m\u001b[0;34m)\u001b[0m\u001b[0;34m\u001b[0m\u001b[0m\n\u001b[0;32m---> 38\u001b[0;31m \u001b[0minazawa\u001b[0m\u001b[0;34m.\u001b[0m\u001b[0mname\u001b[0m \u001b[0;34m=\u001b[0m \u001b[0;34m\"\"\u001b[0m\u001b[0;31m#ValueErrorをこちらで設定できるようになった（通常との違い）\u001b[0m\u001b[0;34m\u001b[0m\u001b[0m\n\u001b[0m",
      "\u001b[0;32m<ipython-input-13-99d6f128316b>\u001b[0m in \u001b[0;36mname\u001b[0;34m(self, name)\u001b[0m\n\u001b[1;32m     30\u001b[0m             \u001b[0mself\u001b[0m\u001b[0;34m.\u001b[0m\u001b[0m__name\u001b[0m \u001b[0;34m=\u001b[0m \u001b[0mname\u001b[0m\u001b[0;34m\u001b[0m\u001b[0m\n\u001b[1;32m     31\u001b[0m             \u001b[0;32mreturn\u001b[0m\u001b[0;34m\u001b[0m\u001b[0m\n\u001b[0;32m---> 32\u001b[0;31m         \u001b[0;32mraise\u001b[0m \u001b[0mValueError\u001b[0m\u001b[0;34m(\u001b[0m\u001b[0;34m\"一文字以上の名前を入れてください\"\u001b[0m\u001b[0;34m)\u001b[0m\u001b[0;34m\u001b[0m\u001b[0m\n\u001b[0m\u001b[1;32m     33\u001b[0m \u001b[0;34m\u001b[0m\u001b[0m\n\u001b[1;32m     34\u001b[0m \u001b[0minazawa\u001b[0m \u001b[0;34m=\u001b[0m \u001b[0mPerson\u001b[0m\u001b[0;34m(\u001b[0m\u001b[0;34m\"inazawa\"\u001b[0m\u001b[0;34m,\u001b[0m\u001b[0;36m24\u001b[0m\u001b[0;34m)\u001b[0m\u001b[0;34m\u001b[0m\u001b[0m\n",
      "\u001b[0;31mValueError\u001b[0m: 一文字以上の名前を入れてください"
     ]
    }
   ],
   "source": [
    "#ゲッターとセッター\n",
    "class Person:\n",
    "    species = \"Homo sapiens\"\n",
    "    number = 1\n",
    "    def __init__(self, name_arg, age_arg):\n",
    "        print(\"コンストラクタだよ\")\n",
    "        self.__name = name_arg\n",
    "        self.__age = age_arg\n",
    "        Person.number += 1\n",
    "        \n",
    "    def birthday(self):\n",
    "        print(self.__name+\"の誕生日です\")\n",
    "        self.__age += 1\n",
    "        \n",
    "    def __change_name(self,new_name):\n",
    "        self.__name = new_name\n",
    "        \n",
    "    @classmethod\n",
    "    def get_species(cls):\n",
    "        print(\"この種は\" + cls.species + \"です\")\n",
    "        print(cls)\n",
    "        \n",
    "    @property\n",
    "    def name(self):\n",
    "        return self.__name\n",
    "    \n",
    "    @name.setter\n",
    "    def name(self,name):\n",
    "        if len(name) > 0:\n",
    "            self.__name = name\n",
    "            return\n",
    "        raise ValueError(\"一文字以上の名前を入れてください\")\n",
    "\n",
    "inazawa = Person(\"inazawa\",24)\n",
    "print(inazawa.name)\n",
    "inazawa.name = \"watanabe\"\n",
    "print(inazawa.name)\n",
    "inazawa.name = \"\"#ValueErrorをこちらで設定できるようになった（通常との違い）"
   ]
  },
  {
   "cell_type": "markdown",
   "metadata": {},
   "source": [
    "# 演習問題6\n",
    "<p>問題1：Animalクラスにおいて、インスタンス変数ageを擬似プライベートにしましょう</p>\n",
    "<p>問題2：秘匿にされたageに対してプロパティを使ってgetterとsetterを作成しましょう。setterに関しては、代入の際に値がint型で0以上であるかをチェックしましょう。</p>\n",
    "<p>問題3：変数ageを通常の属性アクセスとgetterでのアクセスの両方を使ってアクセスしてみましょう。また問題２で作ったsetterを使用してみましょう。</p>"
   ]
  },
  {
   "cell_type": "code",
   "execution_count": null,
   "metadata": {},
   "outputs": [],
   "source": [
    "#演習問題６\n"
   ]
  },
  {
   "cell_type": "markdown",
   "metadata": {},
   "source": [
    "# 継承"
   ]
  },
  {
   "cell_type": "code",
   "execution_count": 17,
   "metadata": {},
   "outputs": [
    {
     "name": "stdout",
     "output_type": "stream",
     "text": [
      "コンストラクタだよ\n"
     ]
    },
    {
     "data": {
      "text/plain": [
       "'inazawa'"
      ]
     },
     "execution_count": 17,
     "metadata": {},
     "output_type": "execute_result"
    }
   ],
   "source": [
    "#継承\n",
    "class NewPerson(Person):\n",
    "    pass\n",
    "\n",
    "new_inazawa = NewPerson(\"inazawa\",24)\n",
    "new_inazawa.name"
   ]
  },
  {
   "cell_type": "code",
   "execution_count": 19,
   "metadata": {},
   "outputs": [
    {
     "name": "stdout",
     "output_type": "stream",
     "text": [
      "コンストラクタだよ\n",
      "空を飛べる\n",
      "inazawa\n"
     ]
    }
   ],
   "source": [
    "#super()クラス\n",
    "class NewPerson(Person):\n",
    "    \n",
    "    def __init__(self, arg_name, arg_age, ability):\n",
    "        super().__init__(arg_name, arg_age)\n",
    "        self.ability = ability\n",
    "        \n",
    "new_inazawa = NewPerson(\"inazawa\",24, \"空を飛べる\")\n",
    "print(new_inazawa.ability)\n",
    "print(new_inazawa.name)"
   ]
  },
  {
   "cell_type": "markdown",
   "metadata": {},
   "source": [
    "# 演習問題7\n",
    "<p>問題1：：Animalクラスを親クラスとして、それを継承したCatクラスを作成しましょう</p>\n",
    "<p>問題2：Catクラス独自のコンストラクタとして、ひげ(beard)の有無(True,False)を引数とし、インスタンス変数に追加しましょう</p>\n",
    "<p>問題3：Animalクラスに文を出力するメソッドを作り、それをCatクラスでオーバーライドしてみましょう。</p>"
   ]
  },
  {
   "cell_type": "code",
   "execution_count": null,
   "metadata": {},
   "outputs": [],
   "source": [
    "#演習問題７\n"
   ]
  },
  {
   "cell_type": "markdown",
   "metadata": {},
   "source": [
    "# 関数オブジェクト"
   ]
  },
  {
   "cell_type": "code",
   "execution_count": 73,
   "metadata": {},
   "outputs": [
    {
     "name": "stdout",
     "output_type": "stream",
     "text": [
      "コンストラクタだよ\n",
      "関数オブジェクトだよ\n"
     ]
    }
   ],
   "source": [
    "#関数オブジェクト\n",
    "class NewPerson(Person):\n",
    "    \n",
    "    def __init__(self, arg_name, arg_age, ability):\n",
    "        super().__init__(arg_name, arg_age)\n",
    "        self.ability = ability\n",
    "        \n",
    "    def __call__(self):\n",
    "        print(\"関数オブジェクトだよ\")\n",
    "        \n",
    "new_inazawa = NewPerson(\"inazawa\",24, \"空を飛べる\")\n",
    "new_inazawa()"
   ]
  },
  {
   "cell_type": "markdown",
   "metadata": {},
   "source": [
    "# 演習問題8\n",
    "<p>問題1：Catクラスにおいて、鳴き声(“にゃー”)をprintする関数オブジェクトを作成しましょう</p>"
   ]
  },
  {
   "cell_type": "code",
   "execution_count": null,
   "metadata": {},
   "outputs": [],
   "source": [
    "#演習問題８\n"
   ]
  }
 ],
 "metadata": {
  "kernelspec": {
   "display_name": "Python 3",
   "language": "python",
   "name": "python3"
  },
  "language_info": {
   "codemirror_mode": {
    "name": "ipython",
    "version": 3
   },
   "file_extension": ".py",
   "mimetype": "text/x-python",
   "name": "python",
   "nbconvert_exporter": "python",
   "pygments_lexer": "ipython3",
   "version": "3.6.8"
  }
 },
 "nbformat": 4,
 "nbformat_minor": 2
}
