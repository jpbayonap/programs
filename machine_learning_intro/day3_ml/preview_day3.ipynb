{
 "cells": [
  {
   "cell_type": "code",
   "execution_count": 1,
   "metadata": {},
   "outputs": [
    {
     "data": {
      "text/plain": [
       "int"
      ]
     },
     "execution_count": 1,
     "metadata": {},
     "output_type": "execute_result"
    }
   ],
   "source": [
    "#型と変数\n",
    "a= 1\n",
    "type(a) #int  \n",
    "\"\"\"取り込む型\n",
    "整数\n",
    "浮動小数点\n",
    "配列\n",
    "文字列\n",
    "真偽\n",
    "辞書型\n",
    "\"\"\""
   ]
  },
  {
   "cell_type": "code",
   "execution_count": 2,
   "metadata": {},
   "outputs": [],
   "source": [
    "#クラスは型である\n",
    "'''class: name\n",
    "    variable=value'''\n",
    "class Person:\n",
    "    pass\n"
   ]
  },
  {
   "cell_type": "code",
   "execution_count": 7,
   "metadata": {},
   "outputs": [
    {
     "name": "stdout",
     "output_type": "stream",
     "text": [
      "Homo sapiens\n",
      "1\n"
     ]
    }
   ],
   "source": [
    "'''class: name\n",
    "    variable=value'''\n",
    "class Person:\n",
    "    species ='Homo sapiens'\n",
    "    number = 1\n",
    "\n",
    "print(Person.species)\n",
    "print(Person.number)\n",
    "#Personクラスは全て、speciesとnumberと言うクラス変数を所有（しょゆう）\n"
   ]
  },
  {
   "cell_type": "code",
   "execution_count": 29,
   "metadata": {},
   "outputs": [
    {
     "name": "stdout",
     "output_type": "stream",
     "text": [
      "0\n"
     ]
    }
   ],
   "source": [
    "#演習問題 \n",
    "#クラス宣言\n",
    "\n",
    "class Animal:\n",
    "    number = 0\n",
    "    \n",
    "# print  Object_name.variables    \n",
    "print(Animal.number)\n",
    "\n"
   ]
  },
  {
   "cell_type": "code",
   "execution_count": 43,
   "metadata": {},
   "outputs": [
    {
     "name": "stdout",
     "output_type": "stream",
     "text": [
      "Juan\n",
      "22\n",
      "1\n"
     ]
    }
   ],
   "source": [
    "#How to create objects  object_name= class_name\n",
    "#インスタンス変数を追加  add instance to the object Juan(Person +new instance)\n",
    "Juan = Person()\n",
    "Juan.name = 'Juan'\n",
    "Juan.age = 22\n",
    "print(Juan.name)\n",
    "print(Juan.age)\n",
    "print(Juan.number)\n"
   ]
  },
  {
   "cell_type": "code",
   "execution_count": 42,
   "metadata": {},
   "outputs": [
    {
     "name": "stdout",
     "output_type": "stream",
     "text": [
      "meow\n",
      "cat is : <class '__main__.Animal'>\n"
     ]
    }
   ],
   "source": [
    "#オブジェクトcatを宣言する\n",
    "class Animal:\n",
    "    number = 0\n",
    "    \n",
    "    \n",
    "cat= Animal()\n",
    "cat.name = 'meow'\n",
    "cat.type =type(cat)\n",
    "\n",
    "print(cat.name)\n",
    "print('cat is :',cat.type)"
   ]
  },
  {
   "cell_type": "code",
   "execution_count": 24,
   "metadata": {},
   "outputs": [
    {
     "name": "stdout",
     "output_type": "stream",
     "text": [
      "Juan\n"
     ]
    }
   ],
   "source": [
    "#クラスを使う関数\n",
    "#クラスを引数にする use a class object as a variable \n",
    "def nemu1(person):\n",
    "    print(person.name)\n",
    "    \n",
    "nemu1(Juan)"
   ]
  },
  {
   "cell_type": "code",
   "execution_count": 40,
   "metadata": {},
   "outputs": [
    {
     "name": "stdout",
     "output_type": "stream",
     "text": [
      "Pablo is bullied by Elle\n"
     ]
    }
   ],
   "source": [
    "#関数の返り値(かえりち）にクラスを使う　Make a function that returns an object \n",
    "class Person:\n",
    "    species ='Homo sapiens'\n",
    "    number = 1\n",
    "    \n",
    "def nemu2(name):\n",
    "    p = Person()\n",
    "    p.name = name\n",
    "    return p\n",
    "    \n",
    "Pablo = nemu2('Pablo')\n",
    "Elle = nemu2('Elle')\n",
    "print(Pablo.name +' is bullied by '+ Elle.name)"
   ]
  },
  {
   "cell_type": "code",
   "execution_count": 44,
   "metadata": {},
   "outputs": [
    {
     "name": "stdout",
     "output_type": "stream",
     "text": [
      "<class '__main__.Animal'>\n"
     ]
    }
   ],
   "source": [
    "#Animalクラスのオブジェクトを返す関数を作成する\n",
    "# Doesnt need a variable to work (properties of the class )\n",
    "def nemu3():\n",
    "    A = Animal()\n",
    "    return A\n",
    "\n",
    "dog = nemu3()\n",
    "print(type(dog))\n",
    "    \n",
    "\n",
    "    "
   ]
  },
  {
   "cell_type": "code",
   "execution_count": 33,
   "metadata": {},
   "outputs": [
    {
     "name": "stdout",
     "output_type": "stream",
     "text": [
      "This is a constructor\n"
     ]
    },
    {
     "data": {
      "text/plain": [
       "<__main__.Person at 0x7f85e27c7780>"
      ]
     },
     "execution_count": 33,
     "metadata": {},
     "output_type": "execute_result"
    }
   ],
   "source": [
    "#constructor\n",
    "#after calling class object you will always get the constructor function\n",
    "''' class 名：\n",
    "　　　def_init_(self):　always self\n",
    "      関数の中身'''\n",
    "\n",
    "class Person:\n",
    "    species = 'Homo sapiens'\n",
    "    number = 1\n",
    "    def __init__(self):   #two _\n",
    "        print('This is a constructor')\n",
    "        \n",
    "Person()"
   ]
  },
  {
   "cell_type": "code",
   "execution_count": 34,
   "metadata": {},
   "outputs": [
    {
     "name": "stdout",
     "output_type": "stream",
     "text": [
      "Im a constructor\n",
      "Bob\n",
      "22\n"
     ]
    }
   ],
   "source": [
    "# コンストラクタに引数を追加\n",
    "''' def__init__(self,引数1,引数２)：\n",
    "        self.インスタンス変数＝　引数1\n",
    "        。。。\n",
    "'''\n",
    "    \n",
    "\n",
    "class Person:\n",
    "    species = 'Homo sapiens'\n",
    "    number = 1\n",
    "    # add variables after self \n",
    "    def __init__(self, name_arg, age_arg ):\n",
    "        print('Im a constructor')\n",
    "        self.name = name_arg\n",
    "        self.age = age_arg\n",
    "        \n",
    "Bob = Person('Bob', 22)\n",
    "\n",
    "print(Bob.name)\n",
    "print(Bob.age)"
   ]
  },
  {
   "cell_type": "code",
   "execution_count": 13,
   "metadata": {},
   "outputs": [
    {
     "name": "stdout",
     "output_type": "stream",
     "text": [
      "Im a constructor\n",
      "Pablo number 3\n",
      "Person number 2\n"
     ]
    }
   ],
   "source": [
    "# コンストラクタでクラス変数を操作\n",
    "class Person:\n",
    "    species = 'Homo sapines'\n",
    "    number = 1\n",
    "    def __init__(self,name_arg,age_arg):\n",
    "        print('Im a constructor')\n",
    "        self.name = name_arg\n",
    "        self.age = age_arg\n",
    "        # cool\n",
    "        Person.number += 1\n",
    "        # not cool  n　numberがインスタンス変数に変化してしまう get 3 (Person +Object)\n",
    "        self.number += 1 \n",
    "        \n",
    "Pablo = Person('Pablo',22)\n",
    "print('Pablo number', Pablo.number)\n",
    "print('Person number', Person.number)"
   ]
  },
  {
   "cell_type": "code",
   "execution_count": 3,
   "metadata": {},
   "outputs": [
    {
     "name": "stdout",
     "output_type": "stream",
     "text": [
      "Im a constructor\n",
      "Janela 2\n",
      "-----/----\n",
      "This is a deconstructor\n",
      "1\n"
     ]
    }
   ],
   "source": [
    "#デストラクタ\n",
    "class Person:\n",
    "    species= 'homosapines'\n",
    "    number = 1\n",
    "    def __init__(self, name, age):\n",
    "        print('Im a constructor')\n",
    "        self.name = name\n",
    "        self.age = age\n",
    "        Person.number += 1\n",
    "    def __del__(self):\n",
    "        print('This is a deconstructor')\n",
    "        Person.number -= 1\n",
    "Janela = Person('Janela', 54)\n",
    "print(Janela.name, Person.number)\n",
    "print(\"-----/----\")\n",
    "del Janela\n",
    "print(Person.number)"
   ]
  },
  {
   "cell_type": "code",
   "execution_count": 2,
   "metadata": {},
   "outputs": [
    {
     "name": "stdout",
     "output_type": "stream",
     "text": [
      "Animal constructor\n",
      "meow cat 5\n"
     ]
    }
   ],
   "source": [
    "#Animalクラスのコンストラクタにおいて、nameとｓp引数s、ageをひきすう\n",
    "class Animal:\n",
    "    def __init__(self, name_arg, species_arg, age_arg):\n",
    "        print('Animal constructor')\n",
    "        self.name = name_arg\n",
    "        self.species = species_arg\n",
    "        self.age = age_arg\n",
    "        \n",
    "        \n",
    "Cat = Animal(\"meow\", \"cat\", 5)\n",
    "print(Cat.name, Cat.species, Cat.age)\n",
    "        \n"
   ]
  },
  {
   "cell_type": "code",
   "execution_count": 4,
   "metadata": {},
   "outputs": [
    {
     "name": "stdout",
     "output_type": "stream",
     "text": [
      "Animal constructor\n",
      "Destroying the Object  meow\n"
     ]
    }
   ],
   "source": [
    "#デストラクタにおいて、オブジェクトが消除されたことを示す適当な文言をだす　\n",
    "class Animal:\n",
    "    def __init__(self, name_arg, species_arg, age_arg):\n",
    "        \n",
    "        print('Animal constructor')\n",
    "        self.name = name_arg\n",
    "        self.species = species_arg\n",
    "        self.age = age_arg\n",
    "        \n",
    "    def __del__(self):\n",
    "        print('Destroying the Object ',self.name)\n",
    "        \n",
    "Cat = Animal(\"meow\", \"cat\", 5)\n",
    "del Cat"
   ]
  },
  {
   "cell_type": "code",
   "execution_count": 95,
   "metadata": {},
   "outputs": [
    {
     "name": "stdout",
     "output_type": "stream",
     "text": [
      "Today is Juan birthday\n",
      "23\n",
      "This gyuHomo Sapiensです\n",
      "<class '__main__.Person'>\n"
     ]
    }
   ],
   "source": [
    "# Method メソッドひＫ Functions inside the class object \n",
    "''' class クきすス名：\n",
    "        def 関数名（self,引数、..）\n",
    "        〜中身〜\n",
    "referred as cf\n",
    "'''\n",
    "class Person:\n",
    "    species = 'Homo Sapiens'\n",
    "    number = 1\n",
    "    \n",
    "    def __init__(self,name_arg,age_arg):\n",
    "        self.name = name_arg\n",
    "        self.age = age_arg\n",
    "        Person.number += 1\n",
    "        \n",
    "    def birthday(self):\n",
    "        print('Today is '+self.name+\" birthday\")\n",
    "        self.age += 1\n",
    "    @classmethod      \n",
    "    def get_species(cls):\n",
    "        print(\"This guy is \" + cls.species )\n",
    "        print(cls)\n",
    "        \n",
    "Juan = Person('Juan',22)\n",
    "Juan.birthday()\n",
    "print(Juan.age) \n",
    "\n",
    "Person.get_species()     \n"
   ]
  },
  {
   "cell_type": "code",
   "execution_count": 91,
   "metadata": {},
   "outputs": [
    {
     "name": "stdout",
     "output_type": "stream",
     "text": [
      "my name is Juan\n",
      "I will be 23 years old\n",
      "number : 1\n",
      "Animal number 1\n",
      "Juan number 1\n"
     ]
    }
   ],
   "source": [
    "class Animal:\n",
    "    \n",
    "    number = 0\n",
    "    \n",
    "    def __init__(self,name, species,age):\n",
    "        self.name = name\n",
    "        self.species = species\n",
    "        self.age = age\n",
    "        \n",
    "    def me(self):\n",
    "        print('my name is '+ self.name   )\n",
    "     \n",
    "    def older(self):\n",
    "        \n",
    "        self.age += 1\n",
    "        print('I will be '+str(self.age)+' years old')\n",
    "     \n",
    "    \n",
    "    '''def add_num(self):\n",
    "            Animal.number += 1\n",
    "    '''\n",
    "    @classmethod \n",
    "    def aDD(cls):\n",
    "        cls.number += 1\n",
    "        print('number : '+str(cls.number))\n",
    "    \n",
    "    \n",
    "        \n",
    "Juan = Animal('Juan','Alien',  22)\n",
    "Juan.me()\n",
    "Juan.older()\n",
    "Animal.aDD()\n",
    "print('Animal number '+str(Animal.number))\n",
    "print('Juan number '+str(Juan.number))\n",
    "#Juan.add_num()\n",
    "#print(Animal.number)\n",
    "\n",
    "\n",
    "        \n",
    "    "
   ]
  },
  {
   "cell_type": "code",
   "execution_count": 78,
   "metadata": {},
   "outputs": [
    {
     "name": "stdout",
     "output_type": "stream",
     "text": [
      "Welcome to the class object\n",
      "kuro\n",
      "shiro\n"
     ]
    },
    {
     "ename": "ValueError",
     "evalue": "your name needs more than one character",
     "output_type": "error",
     "traceback": [
      "\u001b[0;31m---------------------------------------------------------------------------\u001b[0m",
      "\u001b[0;31mValueError\u001b[0m                                Traceback (most recent call last)",
      "\u001b[0;32m<ipython-input-78-3f495bda01c7>\u001b[0m in \u001b[0;36m<module>\u001b[0;34m\u001b[0m\n\u001b[1;32m     43\u001b[0m \u001b[0mKuro\u001b[0m\u001b[0;34m.\u001b[0m\u001b[0mname\u001b[0m \u001b[0;34m=\u001b[0m \u001b[0;34m'shiro'\u001b[0m\u001b[0;34m\u001b[0m\u001b[0;34m\u001b[0m\u001b[0m\n\u001b[1;32m     44\u001b[0m \u001b[0mprint\u001b[0m\u001b[0;34m(\u001b[0m\u001b[0mKuro\u001b[0m\u001b[0;34m.\u001b[0m\u001b[0mname\u001b[0m\u001b[0;34m)\u001b[0m\u001b[0;34m\u001b[0m\u001b[0;34m\u001b[0m\u001b[0m\n\u001b[0;32m---> 45\u001b[0;31m \u001b[0mKuro\u001b[0m\u001b[0;34m.\u001b[0m\u001b[0mname\u001b[0m \u001b[0;34m=\u001b[0m \u001b[0;34m''\u001b[0m \u001b[0;31m#ValueErrorをこちらで設定できるようになった（通常との違い）\u001b[0m\u001b[0;34m\u001b[0m\u001b[0;34m\u001b[0m\u001b[0m\n\u001b[0m\u001b[1;32m     46\u001b[0m \u001b[0mprint\u001b[0m\u001b[0;34m(\u001b[0m\u001b[0mKuro\u001b[0m\u001b[0;34m.\u001b[0m\u001b[0mname\u001b[0m\u001b[0;34m)\u001b[0m\u001b[0;34m\u001b[0m\u001b[0;34m\u001b[0m\u001b[0m\n",
      "\u001b[0;32m<ipython-input-78-3f495bda01c7>\u001b[0m in \u001b[0;36mname\u001b[0;34m(self, name)\u001b[0m\n\u001b[1;32m     36\u001b[0m             \u001b[0;32mreturn\u001b[0m\u001b[0;34m\u001b[0m\u001b[0;34m\u001b[0m\u001b[0m\n\u001b[1;32m     37\u001b[0m \u001b[0;34m\u001b[0m\u001b[0m\n\u001b[0;32m---> 38\u001b[0;31m         \u001b[0;32mraise\u001b[0m \u001b[0mValueError\u001b[0m\u001b[0;34m(\u001b[0m\u001b[0;34m'your name needs more than one character'\u001b[0m\u001b[0;34m)\u001b[0m\u001b[0;34m\u001b[0m\u001b[0;34m\u001b[0m\u001b[0m\n\u001b[0m\u001b[1;32m     39\u001b[0m \u001b[0;34m\u001b[0m\u001b[0m\n\u001b[1;32m     40\u001b[0m \u001b[0;34m\u001b[0m\u001b[0m\n",
      "\u001b[0;31mValueError\u001b[0m: your name needs more than one character"
     ]
    }
   ],
   "source": [
    "#疑似プライベート  __変数名 pseudo private two downbars\n",
    "'''\n",
    "class ClassName():\n",
    "    def __init__(self,arg):\n",
    "        self.__arg = arg \n",
    "'''\n",
    "class Person:\n",
    "    species= 'Homo Sapiens'\n",
    "    number = 0\n",
    "    \n",
    "    def __init__(self,name,age):\n",
    "        print('Welcome to the class object')\n",
    "        self.__name = name\n",
    "        self.__age = age\n",
    "        Person.number += 1\n",
    "        \n",
    "    def birth(self):\n",
    "        print(self.__name+' birthday')\n",
    "        \n",
    "    def __change_name(self,new_name):\n",
    "        sel.__name = new_name\n",
    "        \n",
    "    @classmethod\n",
    "    def spe(cls):\n",
    "        print('This individual is (a/an)'+cls.species)\n",
    "        print(cls)\n",
    "        \n",
    "    @property\n",
    "    def name(self):\n",
    "        return self.__name\n",
    "    \n",
    "    @name.setter\n",
    "    def name(self, name):\n",
    "        if len(name)> 0:\n",
    "            self.__name = name\n",
    "            return\n",
    "        \n",
    "        raise ValueError('your name needs more than one character')\n",
    "    \n",
    "\n",
    "Kuro = Person('kuro' ,22)\n",
    "print(Kuro.name)\n",
    "Kuro.name = 'shiro'\n",
    "print(Kuro.name)\n",
    "Kuro.name = '' #ValueErrorをこちらで設定できるようになった（通常との違い）\n",
    "print(Kuro.name)"
   ]
  },
  {
   "cell_type": "code",
   "execution_count": 28,
   "metadata": {},
   "outputs": [
    {
     "name": "stdout",
     "output_type": "stream",
     "text": [
      "Constructor\n",
      "Bob age is 13\n",
      "Bob\n",
      "specimen is number:1\n",
      "13\n"
     ]
    }
   ],
   "source": [
    "# 演習　6\n",
    "class Animal :\n",
    "    number = 0\n",
    "    def __init__(self,name, species, age):\n",
    "        print('Constructor')\n",
    "        self.name = name\n",
    "        self.__age = age #変更箇所（かしょ）\n",
    "        self.species = species\n",
    "        \n",
    "    def get_name(self):\n",
    "        print(self.name)\n",
    "        \n",
    "    @classmethod\n",
    "    def add_num(cls):\n",
    "        cls.number +=1\n",
    "        print('specimen is number:'+str(cls.number))\n",
    "        \n",
    "    @overwrite\n",
    "    def over(self):\n",
    "        print('I am Animal')\n",
    "        \n",
    "    \n",
    "    @property\n",
    "    def age(self):\n",
    "        return self.__age\n",
    "    \n",
    "    @age.setter\n",
    "    \n",
    "    def age(self,age):\n",
    "        \n",
    "        if type(age)== int:\n",
    "            if age > 0:\n",
    "                self.__age = age\n",
    "                return\n",
    "            raise ValueError('Your age needs to be positive')\n",
    "        raise ValueError('Your age needs to be an integer')\n",
    "        \n",
    "Bob = Animal('Bob', 'dog', '13')\n",
    "print('Bob age is '+str(Bob.age))\n",
    "#Bob.age = 'age'\n",
    "#Bob.age = 0\n",
    "Bob.get_name()\n",
    "Animal.add_num()\n",
    "print(Bob.age)\n",
    "\n",
    "    "
   ]
  },
  {
   "cell_type": "code",
   "execution_count": 24,
   "metadata": {},
   "outputs": [
    {
     "name": "stdout",
     "output_type": "stream",
     "text": [
      "specimen is number:2\n",
      "bob\n"
     ]
    }
   ],
   "source": [
    "# 継承\n",
    "''' class 子クラス（親クラス）  子は親クラスのメンバー\n",
    "　　　　　pass'''\n",
    "class NewAnimal(Animal):\n",
    "    pass\n",
    "\n",
    "new_bob = NewAnimal('bob','dog',6)\n",
    "new_bob.add_num()\n",
    "new_bob.get_name()"
   ]
  },
  {
   "cell_type": "code",
   "execution_count": 23,
   "metadata": {},
   "outputs": [
    {
     "name": "stdout",
     "output_type": "stream",
     "text": [
      "IM YOUR FATHER CLASS\n",
      "IM YOUR CHILD CLASS\n"
     ]
    }
   ],
   "source": [
    "# Overwrite\n",
    "\n",
    "class Parent():\n",
    "    def say(self):\n",
    "        print('IM YOUR FATHER CLASS')\n",
    "        \n",
    "class Child(Parent):\n",
    "    def say(self):\n",
    "        print('IM YOUR CHILD CLASS')\n",
    "        \n",
    "A = Parent()\n",
    "B = Child()\n",
    "A.say()\n",
    "B.say()\n"
   ]
  },
  {
   "cell_type": "code",
   "execution_count": 32,
   "metadata": {},
   "outputs": [
    {
     "name": "stdout",
     "output_type": "stream",
     "text": [
      "Constructor\n",
      "寝る\n",
      "meow\n"
     ]
    }
   ],
   "source": [
    "# 子クラスで親クラスのメソッドを呼び出すsuper()\n",
    "# Initialize constructor from Parents with super()\n",
    "\n",
    "''' class child(Paraent):\n",
    "        def __init__(self,arguments...);\n",
    "            super().__init__(arguments)\n",
    "                special agruments of child特有の処理'''\n",
    "\n",
    "class NewAn(Animal):\n",
    "    \n",
    "    def __init__(self, name, species, age, ability):\n",
    "        super().__init__(name, species, age)\n",
    "        self.ability = ability\n",
    "        \n",
    "\n",
    "new_meow = NewAn('meow', 'cat', 10, '寝る')\n",
    "print(new_meow.ability)\n",
    "new_meow.get_name()"
   ]
  },
  {
   "cell_type": "code",
   "execution_count": 80,
   "metadata": {},
   "outputs": [
    {
     "name": "stdout",
     "output_type": "stream",
     "text": [
      "Constructor\n",
      "Constructor\n",
      "False\n",
      "I am Animal The parent\n",
      "I am NewA the child\n"
     ]
    }
   ],
   "source": [
    "# 演習問題7\n",
    "class Animal :\n",
    "    number = 0\n",
    "    def __init__(self,name, species, age):\n",
    "        print('Constructor')\n",
    "        self.name = name\n",
    "        self.__age = age #変更箇所（かしょ）\n",
    "        self.species = species\n",
    "        \n",
    "    def get_name(self):\n",
    "        print(self.name)\n",
    "        \n",
    "    @classmethod\n",
    "    def add_num(cls):\n",
    "        cls.number +=1\n",
    "        print('specimen is number:'+str(cls.number))\n",
    "        \n",
    "    #over_write \n",
    "    def over(self):\n",
    "        print('I am Animal The parent')\n",
    "        \n",
    "    \n",
    "    @property\n",
    "    def age(self):\n",
    "        return self.__age\n",
    "    \n",
    "    @age.setter\n",
    "    \n",
    "    def age(self,age):\n",
    "        \n",
    "        if type(age)== int:\n",
    "            if age > 0:\n",
    "                self.__age = age\n",
    "                return\n",
    "            raise ValueError('Your age needs to be positive')\n",
    "        raise ValueError('Your age needs to be an integer')\n",
    "\n",
    "\n",
    "class NewA(Animal):\n",
    "    def __init__(self, name, species, age , beard):\n",
    "        super().__init__(name,species,age)\n",
    "        # or condition ()|()\n",
    "        if (beard is True) | (beard is False) :\n",
    "            self.beard = beard\n",
    "            return\n",
    "        raise ValueError('baerd should be boolean ')\n",
    "    def over(self):\n",
    "        print('I am NewA the child')\n",
    "        \n",
    "Cat = NewA('Garfield', 'cat', 5, False)\n",
    "Bob = Animal('Bob', 'dog', 6)\n",
    "print(Cat.beard)\n",
    "Bob.over()\n",
    "Cat.over()\n",
    "\n"
   ]
  },
  {
   "cell_type": "code",
   "execution_count": 79,
   "metadata": {},
   "outputs": [
    {
     "name": "stdout",
     "output_type": "stream",
     "text": [
      "Welcome to the class object\n",
      "vampire\n",
      "This is an function object\n"
     ]
    }
   ],
   "source": [
    "#関数オブジェクト\n",
    "class Person:\n",
    "    species= 'Homo Sapiens'\n",
    "    number = 0\n",
    "    \n",
    "    def __init__(self,name,age):\n",
    "        print('Welcome to the class object')\n",
    "        self.__name = name\n",
    "        self.__age = age\n",
    "        Person.number += 1\n",
    "        \n",
    "    def birth(self):\n",
    "        print(self.__name+' birthday')\n",
    "        \n",
    "    def __change_name(self,new_name):\n",
    "        self.__name = new_name\n",
    "        \n",
    "    @classmethod\n",
    "    def spe(cls):\n",
    "        print('This individual is (a/an)'+cls.species)\n",
    "        print(cls)\n",
    "        \n",
    "    @property\n",
    "    def name(self):\n",
    "        return self.__name\n",
    "    \n",
    "    @name.setter\n",
    "    def name(self, name):\n",
    "        if len(name)> 0:\n",
    "            self.__name = name\n",
    "            return\n",
    "        \n",
    "        raise ValueError('your name needs more than one character')\n",
    "      \n",
    "    @property\n",
    "    def age(self):\n",
    "        return self.__age\n",
    "    \n",
    "    @age.setter\n",
    "    \n",
    "    def age(self,age):\n",
    "        \n",
    "        if type(age)== int:\n",
    "            if age > 0:\n",
    "                self.__age = age\n",
    "                return\n",
    "            raise ValueError('Your age needs to be positive')\n",
    "        raise ValueError('Your age needs to be an integer')\n",
    "        \n",
    "        \n",
    "\n",
    "class NewPerson(Person):\n",
    "    \n",
    "    def __init__(self, name, age, ability):\n",
    "        super().__init__(name, age)\n",
    "        self.ability = ability\n",
    "        \n",
    "    def __call__(self):\n",
    "        print('This is an function object')\n",
    "        \n",
    "New_Koyomi =NewPerson('Koyomi', 18, 'vampire' )\n",
    "print(New_Koyomi.ability)\n",
    "New_Koyomi()\n",
    "\n",
    "        "
   ]
  },
  {
   "cell_type": "code",
   "execution_count": 77,
   "metadata": {},
   "outputs": [
    {
     "name": "stdout",
     "output_type": "stream",
     "text": [
      "Constructor\n",
      "bwe\n",
      "Nyanko Sensei ですにゃ〜\n"
     ]
    }
   ],
   "source": [
    "#演習問題8\n",
    "\n",
    "class Animal :\n",
    "    number = 0\n",
    "    def __init__(self,name, species, age):\n",
    "        print('Constructor')\n",
    "        self.name = name\n",
    "        self.__age = age #変更箇所（かしょ）\n",
    "        self.species = species\n",
    "        \n",
    "    def get_name(self):\n",
    "        print(self.name)\n",
    "        \n",
    "    @classmethod\n",
    "    def add_num(cls):\n",
    "        cls.number +=1\n",
    "        print('specimen is number:'+str(cls.number))\n",
    "        \n",
    "    #over_write \n",
    "    def over(self):\n",
    "        print('I am Animal The parent')\n",
    "        \n",
    "    \n",
    "    @property\n",
    "    def age(self):\n",
    "        return self.__age\n",
    "    \n",
    "    @age.setter\n",
    "    \n",
    "    def age(self,age):\n",
    "        \n",
    "        if type(age)== int:\n",
    "            if age > 0:\n",
    "                self.__age = age\n",
    "                return\n",
    "            raise ValueError('Your age needs to be positive')\n",
    "        raise ValueError('Your age needs to be an integer')\n",
    "        \n",
    "        \n",
    "        \n",
    "class Animal_voice(Animal):\n",
    "    def __init__(self, name, species, age, mood):\n",
    "        super().__init__(name, species, age)\n",
    "        self.mood = mood\n",
    "        \n",
    "    def __call__(self):\n",
    "        print(self.name+' ですにゃ〜')\n",
    "        \n",
    "        \n",
    "Cat_nya = Animal_voice('Nyanko Sensei', 'youkai', 500, 'bwe')\n",
    "print(Cat_nya.mood)\n",
    "Cat_nya()"
   ]
  },
  {
   "cell_type": "code",
   "execution_count": null,
   "metadata": {},
   "outputs": [],
   "source": []
  }
 ],
 "metadata": {
  "kernelspec": {
   "display_name": "Python 3",
   "language": "python",
   "name": "python3"
  },
  "language_info": {
   "codemirror_mode": {
    "name": "ipython",
    "version": 3
   },
   "file_extension": ".py",
   "mimetype": "text/x-python",
   "name": "python",
   "nbconvert_exporter": "python",
   "pygments_lexer": "ipython3",
   "version": "3.6.9"
  }
 },
 "nbformat": 4,
 "nbformat_minor": 2
}
