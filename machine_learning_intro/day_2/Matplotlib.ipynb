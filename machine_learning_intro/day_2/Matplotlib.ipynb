{
 "cells": [
  {
   "cell_type": "markdown",
   "metadata": {},
   "source": [
    "# Matplotlib 紹介"
   ]
  },
  {
   "cell_type": "markdown",
   "metadata": {},
   "source": [
    "Matplotlib Gallery: https://matplotlib.org/gallery/index.html"
   ]
  },
  {
   "cell_type": "markdown",
   "metadata": {},
   "source": [
    "# Matplotlibの基礎操作"
   ]
  },
  {
   "cell_type": "code",
   "execution_count": 1,
   "metadata": {},
   "outputs": [],
   "source": [
    "# ライブラリーの導入\n",
    "import numpy as np\n",
    "import matplotlib\n",
    "import matplotlib.pyplot as plt"
   ]
  },
  {
   "cell_type": "code",
   "execution_count": 2,
   "metadata": {
    "scrolled": true
   },
   "outputs": [
    {
     "data": {
      "text/plain": [
       "'3.0.3'"
      ]
     },
     "execution_count": 2,
     "metadata": {},
     "output_type": "execute_result"
    }
   ],
   "source": [
    "# Matplotlibバージョン確認\n",
    "matplotlib.__version__"
   ]
  },
  {
   "cell_type": "code",
   "execution_count": null,
   "metadata": {},
   "outputs": [],
   "source": [
    "# 3.0.0 より低い場合\n",
    "# Mac: terminalを開いていただいて\n",
    "# Windows: condaを開いていただいて、下記のコードを実行してください\n",
    "# conda update matplotlib"
   ]
  },
  {
   "cell_type": "markdown",
   "metadata": {},
   "source": [
    "## 1軸グラフ"
   ]
  },
  {
   "cell_type": "code",
   "execution_count": null,
   "metadata": {},
   "outputs": [],
   "source": [
    "# 1次元、9要素の配列を作成\n",
    "data = np.array([3,1,4,1,5,9,2,6,5])\n",
    "\n",
    "# 配列 data をプロット\n",
    "plt.plot(data)  # data図を作成する\n",
    "plt.show() # 作成した図を表示する"
   ]
  },
  {
   "cell_type": "markdown",
   "metadata": {},
   "source": [
    "## 2軸の配列をグラフする"
   ]
  },
  {
   "cell_type": "code",
   "execution_count": null,
   "metadata": {},
   "outputs": [],
   "source": [
    "# xとyを作成する\n",
    "x = np.array([1,2,3])\n",
    "y = np.array([1,4,9])\n",
    "\n",
    "# pltでグラフを描く\n",
    "plt.plot(x, y)  # (x軸, y軸)\n",
    "plt.show()"
   ]
  },
  {
   "cell_type": "markdown",
   "metadata": {},
   "source": [
    "## 軸のラベル & 図のタイトル"
   ]
  },
  {
   "cell_type": "code",
   "execution_count": null,
   "metadata": {},
   "outputs": [],
   "source": [
    "x = np.array([1,2,3])\n",
    "y = np.array([1,4,9])\n",
    "\n",
    "plt.title(\"test\") # タイトル\n",
    "plt.xlabel(\"x\") # x軸レベル\n",
    "plt.ylabel(\"y\") # y軸レベル\n",
    "\n",
    "plt.plot(x, y)\n",
    "plt.show()"
   ]
  },
  {
   "cell_type": "markdown",
   "metadata": {},
   "source": [
    "## ラベルとタイトルのサイズ"
   ]
  },
  {
   "cell_type": "code",
   "execution_count": null,
   "metadata": {},
   "outputs": [],
   "source": [
    "x = np.array([1,2,3])\n",
    "y = np.array([1,4,9])\n",
    "\n",
    "plt.title(\"test\", fontsize = 20) # タイトル\n",
    "plt.xlabel(\"x\", fontsize = 20) # x軸ラベルサイズ\n",
    "plt.ylabel(\"y\", fontsize = 20) # y軸ラベルサイズ\n",
    "\n",
    "plt.plot(x, y)\n",
    "plt.show()"
   ]
  },
  {
   "cell_type": "markdown",
   "metadata": {},
   "source": [
    "## グラフの凡例"
   ]
  },
  {
   "cell_type": "code",
   "execution_count": null,
   "metadata": {},
   "outputs": [],
   "source": [
    "x = np.array([1,2,3])\n",
    "y = np.array([1,4,9])\n",
    "plt.title(\"test\")\n",
    "plt.xlabel(\"x\")\n",
    "plt.ylabel(\"y\")\n",
    "plt.plot(x, y)\n",
    "\n",
    "# グラフに凡例を付ける\n",
    "# 付ける場所に注意\n",
    "plt.legend([\"Blue Team\"])\n",
    "plt.show()"
   ]
  },
  {
   "cell_type": "markdown",
   "metadata": {},
   "source": [
    "## グラフの凡例の表示場所"
   ]
  },
  {
   "cell_type": "code",
   "execution_count": null,
   "metadata": {},
   "outputs": [],
   "source": [
    "x = np.array([1,2,3])\n",
    "y = np.array([1,4,9])\n",
    "plt.title(\"test\")\n",
    "plt.xlabel(\"x\")\n",
    "plt.ylabel(\"y\")\n",
    "plt.plot(x, y)\n",
    "\n",
    "# legend(loc) 数字でもできます\n",
    "plt.legend([\"Blue Team\"], loc=1)\n",
    "plt.show()"
   ]
  },
  {
   "cell_type": "markdown",
   "metadata": {},
   "source": [
    "## 線の色 & 幅 & スタイル"
   ]
  },
  {
   "cell_type": "code",
   "execution_count": null,
   "metadata": {},
   "outputs": [],
   "source": [
    "x = np.array([1,2,3])\n",
    "y = np.array([1,4,9])\n",
    "plt.title(\"test\")\n",
    "plt.xlabel(\"x\")\n",
    "plt.ylabel(\"y\")\n",
    "# colorは色、linewidthは線の太さ、linestyleは線のタイプ\n",
    "plt.plot(x, y, color='red', linewidth=2, \n",
    "         linestyle='--')\n",
    "\n",
    "plt.legend([\"Blue Team\"], loc=1)\n",
    "plt.show()"
   ]
  },
  {
   "cell_type": "markdown",
   "metadata": {},
   "source": [
    "# 数学グラフ"
   ]
  },
  {
   "cell_type": "markdown",
   "metadata": {},
   "source": [
    "## 直線"
   ]
  },
  {
   "cell_type": "code",
   "execution_count": null,
   "metadata": {},
   "outputs": [],
   "source": [
    "# 直線 y = 2x +1 をプロットする\n",
    "x = np.linspace(-1, 1, 50)  # 1 から 1 まで等間隔で50個区切る\n",
    "y = 2*x + 1\n",
    "plt.plot(x, y)\n",
    "plt.legend([\"y = 2x + 1\"])\n",
    "plt.show()"
   ]
  },
  {
   "cell_type": "markdown",
   "metadata": {},
   "source": [
    "## 放物線"
   ]
  },
  {
   "cell_type": "code",
   "execution_count": null,
   "metadata": {},
   "outputs": [],
   "source": [
    "x = np.linspace(-1, 1, 50)\n",
    "y = x**2  # ** 2乗\n",
    "plt.plot(x, y)\n",
    "plt.legend([\"y = x^2\"])\n",
    "plt.show()"
   ]
  },
  {
   "cell_type": "markdown",
   "metadata": {},
   "source": [
    "## 三角関数 sin(x)"
   ]
  },
  {
   "cell_type": "code",
   "execution_count": null,
   "metadata": {},
   "outputs": [],
   "source": [
    "# 0 から 10 まで 0.01 ずつ変化させた配列を生成\n",
    "X = np.arange(0, 10, 0.01)\n",
    "# X の各要素に sin() 関数を適用\n",
    "Y = np.sin(X)\n",
    "\n",
    "plt.plot(X, Y)\n",
    "plt.show()"
   ]
  },
  {
   "cell_type": "markdown",
   "metadata": {},
   "source": [
    "## 複数線を一つグラフに描く"
   ]
  },
  {
   "cell_type": "code",
   "execution_count": null,
   "metadata": {},
   "outputs": [],
   "source": [
    "x = np.linspace(-1, 1, 50)\n",
    "\n",
    "y1 = 2*x + 1\n",
    "y2 = x**2\n",
    "\n",
    "plt.plot(x, y1)\n",
    "plt.plot(x, y2)\n",
    "plt.legend([\"y = 2x + 1\", \"y = x^2\"])\n",
    "plt.show()"
   ]
  },
  {
   "cell_type": "markdown",
   "metadata": {},
   "source": [
    "## 軸の表示範囲指定①"
   ]
  },
  {
   "cell_type": "code",
   "execution_count": null,
   "metadata": {},
   "outputs": [],
   "source": [
    "# x軸の表示範囲を指定する\n",
    "x = np.linspace(-5, 5, 50)  \n",
    "\n",
    "# y軸もx軸に応じて表示範囲が変更する\n",
    "y1 = 2*x + 1\n",
    "y2 = x**2\n",
    "\n",
    "plt.plot(x, y1)\n",
    "plt.plot(x, y2)\n",
    "plt.legend([\"y = 2x + 1\", \"y = x^2\"])\n",
    "plt.show()"
   ]
  },
  {
   "cell_type": "markdown",
   "metadata": {},
   "source": [
    "## 軸の表示範囲指定②"
   ]
  },
  {
   "cell_type": "code",
   "execution_count": null,
   "metadata": {},
   "outputs": [],
   "source": [
    "x = np.linspace(-5, 5, 50)\n",
    "y1 = 2*x + 1\n",
    "y2 = x**2\n",
    "plt.plot(x, y1)\n",
    "plt.plot(x, y2)\n",
    "\n",
    "plt.xlim((2,3))  # x軸の表示範囲指定\n",
    "plt.ylim((4,8)) # y軸の表示範囲指定\n",
    "plt.legend([\"y = 2x + 1\", \"y = x^2\"])\n",
    "plt.show()"
   ]
  },
  {
   "cell_type": "markdown",
   "metadata": {},
   "source": [
    "## 練習\n",
    "- Sigmoid function"
   ]
  },
  {
   "cell_type": "code",
   "execution_count": null,
   "metadata": {},
   "outputs": [],
   "source": []
  },
  {
   "cell_type": "markdown",
   "metadata": {},
   "source": [
    "# 棒グラフ"
   ]
  },
  {
   "cell_type": "markdown",
   "metadata": {},
   "source": [
    "## 棒グラフ"
   ]
  },
  {
   "cell_type": "code",
   "execution_count": null,
   "metadata": {},
   "outputs": [],
   "source": [
    "Score = np.array([20, 35, 30, 35, 27])\n",
    "\n",
    "plt.bar([0,1,2,3,4], Score)\n",
    "plt.show()"
   ]
  },
  {
   "cell_type": "markdown",
   "metadata": {},
   "source": [
    "## 色と棒の太さ"
   ]
  },
  {
   "cell_type": "code",
   "execution_count": null,
   "metadata": {},
   "outputs": [],
   "source": [
    "height = np.array([10, 45, 30, 15, 50])\n",
    "\n",
    "plt.bar(x=[0,1,2,3,4], height=height, \n",
    "        color=\"green\", width=0.5)\n",
    "plt.show()"
   ]
  },
  {
   "cell_type": "markdown",
   "metadata": {},
   "source": [
    "## 積み上げ棒グラフ"
   ]
  },
  {
   "cell_type": "code",
   "execution_count": null,
   "metadata": {},
   "outputs": [],
   "source": [
    "# 積み上げ棒グラフ\n",
    "height1 = np.array([10, 45, 30, 15, 50])\n",
    "height2 = np.array([35, 15, 20, 15, 20])\n",
    "\n",
    "plt.bar(x=[0,1,2,3,4], height=height1, \n",
    "        color=\"green\", width=0.5)\n",
    "plt.bar(x=[0,1,2,3,4], height=height2, \n",
    "        bottom=height1, color=\"orange\", width=0.5)\n",
    "plt.show()"
   ]
  },
  {
   "cell_type": "markdown",
   "metadata": {},
   "source": [
    "## エラーバー"
   ]
  },
  {
   "cell_type": "code",
   "execution_count": null,
   "metadata": {},
   "outputs": [],
   "source": [
    "price = np.array([10, 45, 30, 15, 50])\n",
    "std = np.array([2, 5, 8, 3, 1])\n",
    "\n",
    "plt.bar(x=[0,1,2,3,4], height=price, yerr = std,\n",
    "        color=\"green\", width=0.5)\n",
    "plt.show()"
   ]
  },
  {
   "cell_type": "markdown",
   "metadata": {},
   "source": [
    "## ラベルとタイトル"
   ]
  },
  {
   "cell_type": "code",
   "execution_count": null,
   "metadata": {},
   "outputs": [],
   "source": [
    "price = np.array([10, 45, 30, 15, 50])\n",
    "std = np.array([2, 5, 8, 3, 1])\n",
    "\n",
    "plt.xlabel(\"Stock\")\n",
    "plt.ylabel(\"Price\")\n",
    "plt.title(\"Stock Price\")\n",
    "plt.bar(x=[0,1,2,3,4], height=price, yerr = std,\n",
    "        color=\"green\", width=0.5)\n",
    "\n",
    "plt.show()"
   ]
  },
  {
   "cell_type": "markdown",
   "metadata": {},
   "source": [
    "## 軸目盛の表示内容"
   ]
  },
  {
   "cell_type": "code",
   "execution_count": null,
   "metadata": {},
   "outputs": [],
   "source": [
    "price = np.array([10, 45, 30, 15, 50])\n",
    "std = np.array([2, 5, 8, 3, 1])\n",
    "x_axis = [\"APPLE\", \"AMAZON\", \"YAHOO\", \"GOOGLE\", \"FACEBOOK\"]\n",
    "\n",
    "plt.xlabel(\"Stock\")\n",
    "plt.ylabel(\"Price\")\n",
    "plt.title(\"Stock Price\")\n",
    "plt.bar(x=x_axis, height=price, yerr = std,\n",
    "        color=\"green\", width=0.5)\n",
    "\n",
    "plt.show()"
   ]
  },
  {
   "cell_type": "markdown",
   "metadata": {},
   "source": [
    "## グリッド"
   ]
  },
  {
   "cell_type": "code",
   "execution_count": null,
   "metadata": {
    "scrolled": true
   },
   "outputs": [],
   "source": [
    "price = np.array([10, 45, 30, 15, 50])\n",
    "std = np.array([2, 5, 8, 3, 1])\n",
    "x_axis = [\"APPLE\", \"AMAZON\", \"YAHOO\", \"GOOGLE\", \"FACEBOOK\"]\n",
    "\n",
    "plt.xlabel(\"Stock\")\n",
    "plt.ylabel(\"Price\")\n",
    "plt.title(\"Stock Price\")\n",
    "plt.bar(x=x_axis, height=price, yerr = std,\n",
    "        color=\"green\", width=0.5)\n",
    "\n",
    "plt.grid(True)\n",
    "plt.show()"
   ]
  },
  {
   "cell_type": "markdown",
   "metadata": {},
   "source": [
    "## 各棒の上にその棒の数字を入れる"
   ]
  },
  {
   "cell_type": "code",
   "execution_count": null,
   "metadata": {},
   "outputs": [],
   "source": [
    "price = np.array([10, 45, 30, 15, 50])\n",
    "std = np.array([2, 5, 8, 3, 1])\n",
    "x_axis = [\"APPLE\", \"AMAZON\", \"YAHOO\", \"GOOGLE\", \"FACEBOOK\"]\n",
    "\n",
    "plt.xlabel(\"Stock\")\n",
    "plt.ylabel(\"Price\")\n",
    "plt.title(\"Stock Price\")\n",
    "plt.bar(x=x_axis, height=price,  # 数字を見やすくするため、エラーバーを外す\n",
    "        color=\"green\", width=0.5)\n",
    "for x, y in zip(x_axis, price):\n",
    "    plt.text(x, y, y, ha='center', va='bottom')\n",
    "\n",
    "plt.grid(True)\n",
    "plt.show()"
   ]
  },
  {
   "cell_type": "markdown",
   "metadata": {},
   "source": [
    "## 練習：Bitcoin 価格"
   ]
  },
  {
   "cell_type": "code",
   "execution_count": null,
   "metadata": {
    "scrolled": true
   },
   "outputs": [],
   "source": [
    "# csvを導入するため、pandasを使います\n",
    "import pandas as pd\n",
    "\n",
    "# Bitcoin.csv には 2017/10/8 - 2018/1/29\n",
    "# 週ごとのクロージング価格(USD)です。\n",
    "bitcoin = pd.read_csv(\"Bitcoin.csv\")\n",
    "bitcoin # データの中身"
   ]
  },
  {
   "cell_type": "markdown",
   "metadata": {},
   "source": [
    "### 折れ線グラフで価格変動をプロットしてください"
   ]
  },
  {
   "cell_type": "code",
   "execution_count": null,
   "metadata": {},
   "outputs": [],
   "source": []
  },
  {
   "cell_type": "markdown",
   "metadata": {},
   "source": [
    "### 棒グラフで日付と価格を両方プロットしてください"
   ]
  },
  {
   "cell_type": "code",
   "execution_count": null,
   "metadata": {
    "scrolled": true
   },
   "outputs": [],
   "source": []
  },
  {
   "cell_type": "markdown",
   "metadata": {},
   "source": [
    "# 散布図"
   ]
  },
  {
   "cell_type": "markdown",
   "metadata": {},
   "source": [
    "## 散布図"
   ]
  },
  {
   "cell_type": "code",
   "execution_count": 3,
   "metadata": {},
   "outputs": [
    {
     "data": {
      "text/html": [
       "<div>\n",
       "<style scoped>\n",
       "    .dataframe tbody tr th:only-of-type {\n",
       "        vertical-align: middle;\n",
       "    }\n",
       "\n",
       "    .dataframe tbody tr th {\n",
       "        vertical-align: top;\n",
       "    }\n",
       "\n",
       "    .dataframe thead th {\n",
       "        text-align: right;\n",
       "    }\n",
       "</style>\n",
       "<table border=\"1\" class=\"dataframe\">\n",
       "  <thead>\n",
       "    <tr style=\"text-align: right;\">\n",
       "      <th></th>\n",
       "      <th>Country</th>\n",
       "      <th>Continent</th>\n",
       "      <th>Life_expectancy</th>\n",
       "      <th>GDP_per_capita</th>\n",
       "      <th>Population</th>\n",
       "    </tr>\n",
       "  </thead>\n",
       "  <tbody>\n",
       "    <tr>\n",
       "      <th>0</th>\n",
       "      <td>Algeria</td>\n",
       "      <td>Africa</td>\n",
       "      <td>75.042537</td>\n",
       "      <td>4132.760292</td>\n",
       "      <td>39871528.0</td>\n",
       "    </tr>\n",
       "    <tr>\n",
       "      <th>1</th>\n",
       "      <td>Angola</td>\n",
       "      <td>Africa</td>\n",
       "      <td>52.666098</td>\n",
       "      <td>3695.793748</td>\n",
       "      <td>27859305.0</td>\n",
       "    </tr>\n",
       "    <tr>\n",
       "      <th>2</th>\n",
       "      <td>Benin</td>\n",
       "      <td>Africa</td>\n",
       "      <td>59.720707</td>\n",
       "      <td>783.947091</td>\n",
       "      <td>10575952.0</td>\n",
       "    </tr>\n",
       "    <tr>\n",
       "      <th>3</th>\n",
       "      <td>Botswana</td>\n",
       "      <td>Africa</td>\n",
       "      <td>64.487415</td>\n",
       "      <td>6532.060501</td>\n",
       "      <td>2209197.0</td>\n",
       "    </tr>\n",
       "    <tr>\n",
       "      <th>4</th>\n",
       "      <td>Burundi</td>\n",
       "      <td>Africa</td>\n",
       "      <td>57.107049</td>\n",
       "      <td>303.681022</td>\n",
       "      <td>10199270.0</td>\n",
       "    </tr>\n",
       "  </tbody>\n",
       "</table>\n",
       "</div>"
      ],
      "text/plain": [
       "    Country Continent  Life_expectancy  GDP_per_capita  Population\n",
       "0   Algeria    Africa        75.042537     4132.760292  39871528.0\n",
       "1    Angola    Africa        52.666098     3695.793748  27859305.0\n",
       "2     Benin    Africa        59.720707      783.947091  10575952.0\n",
       "3  Botswana    Africa        64.487415     6532.060501   2209197.0\n",
       "4   Burundi    Africa        57.107049      303.681022  10199270.0"
      ]
     },
     "execution_count": 3,
     "metadata": {},
     "output_type": "execute_result"
    }
   ],
   "source": [
    "# 使用するデータをインポートする\n",
    "\n",
    "# pandasというライブラリーの導入\n",
    "import pandas as pd\n",
    "# world.csvファイルをインポートする\n",
    "world = pd.read_csv(\"world2015.csv\")\n",
    "# データ最初の5行を確認する\n",
    "world.head()"
   ]
  },
  {
   "cell_type": "code",
   "execution_count": 2,
   "metadata": {},
   "outputs": [
    {
     "ename": "NameError",
     "evalue": "name 'plt' is not defined",
     "output_type": "error",
     "traceback": [
      "\u001b[0;31m---------------------------------------------------------------------------\u001b[0m",
      "\u001b[0;31mNameError\u001b[0m                                 Traceback (most recent call last)",
      "\u001b[0;32m<ipython-input-2-38f81eeaabda>\u001b[0m in \u001b[0;36m<module>\u001b[0;34m\u001b[0m\n\u001b[1;32m      1\u001b[0m \u001b[0;31m# 平均寿命と一人あたりGDPの関係\u001b[0m\u001b[0;34m\u001b[0m\u001b[0;34m\u001b[0m\u001b[0;34m\u001b[0m\u001b[0m\n\u001b[1;32m      2\u001b[0m \u001b[0;31m# scatter(x軸のデータ, y軸のデータ)\u001b[0m\u001b[0;34m\u001b[0m\u001b[0;34m\u001b[0m\u001b[0;34m\u001b[0m\u001b[0m\n\u001b[0;32m----> 3\u001b[0;31m \u001b[0mplt\u001b[0m\u001b[0;34m.\u001b[0m\u001b[0mscatter\u001b[0m\u001b[0;34m(\u001b[0m\u001b[0mworld\u001b[0m\u001b[0;34m.\u001b[0m\u001b[0mGDP_per_capita\u001b[0m\u001b[0;34m,\u001b[0m \u001b[0mworld\u001b[0m\u001b[0;34m.\u001b[0m\u001b[0mLife_expectancy\u001b[0m\u001b[0;34m)\u001b[0m\u001b[0;34m\u001b[0m\u001b[0;34m\u001b[0m\u001b[0m\n\u001b[0m",
      "\u001b[0;31mNameError\u001b[0m: name 'plt' is not defined"
     ]
    }
   ],
   "source": [
    "# 平均寿命と一人あたりGDPの関係\n",
    "# scatter(x軸のデータ, y軸のデータ)\n",
    "plt.scatter(world.GDP_per_capita, world.Life_expectancy)"
   ]
  },
  {
   "cell_type": "markdown",
   "metadata": {},
   "source": [
    "## 点のサイズ & 透明度"
   ]
  },
  {
   "cell_type": "code",
   "execution_count": null,
   "metadata": {},
   "outputs": [],
   "source": [
    "# 点の大きさを人口数と正比例で連動する\n",
    "size = world.Population / 1e6 # 1e6 = 1×(10の6乗) = 1,000,000\n",
    "\n",
    "# s は点のサイズ、alpha は透明度を設定する\n",
    "plt.scatter(world.GDP_per_capita, world.Life_expectancy, s=size, alpha = 0.5)\n",
    "\n",
    "plt.show()"
   ]
  },
  {
   "cell_type": "markdown",
   "metadata": {},
   "source": [
    "## 対数グラフ"
   ]
  },
  {
   "cell_type": "code",
   "execution_count": 2,
   "metadata": {},
   "outputs": [
    {
     "data": {
      "image/png": "[encoded data removed]",
      "text/plain": [
       "<matplotlib.figure.Figure at 0x7f6deed0cbe0>"
      ]
     },
     "metadata": {
      "needs_background": "light"
     },
     "output_type": "display_data"
    }
   ],
   "source": [
    "# 使用するデータをインポートする\n",
    "import matplotlib.pyplot as plt\n",
    "# pandasというライブラリーの導入\n",
    "import pandas as pd\n",
    "# world.csvファイルをインポートする\n",
    "world = pd.read_csv(\"world2015.csv\")\n",
    "# データ最初の5行を確認する\n",
    "world.head()\n",
    "size = world.Population / 1e6\n",
    "plt.xscale('log')  # グラフを見やすくするため、x軸のラベルに対数を取る\n",
    "plt.scatter(world.GDP_per_capita, world.Life_expectancy, s=size, alpha = 0.5)\n",
    "\n",
    "plt.show()\n"
   ]
  },
  {
   "cell_type": "markdown",
   "metadata": {},
   "source": [
    "## なんで対数グラフ"
   ]
  },
  {
   "cell_type": "markdown",
   "metadata": {},
   "source": [
    "## 色をつける"
   ]
  },
  {
   "cell_type": "code",
   "execution_count": 3,
   "metadata": {},
   "outputs": [
    {
     "data": {
      "image/png": "[encoded data removed]",
      "text/plain": [
       "<matplotlib.figure.Figure at 0x7f6daf377ac8>"
      ]
     },
     "metadata": {
      "needs_background": "light"
     },
     "output_type": "display_data"
    }
   ],
   "source": [
    "# map_dictという辞書型の配列を作る\n",
    "map_dict = {      \n",
    "    'Asia':'red',\n",
    "    'Europe':'green',\n",
    "    'Africa':'blue',\n",
    "    'North America':'yellow',\n",
    "    'South America':'yellow',\n",
    "    'Oceania':'black'\n",
    "}\n",
    "# map関数は受け取った数字を特定の関数に渡して実行する\n",
    "# world csv中の「Continent」コラムの要素をそれぞれの色に変換する\n",
    "colors = world.Continent.map(map_dict)\n",
    "\n",
    "size = world.Population / 1e6\n",
    "plt.xscale('log')\n",
    "plt.scatter(world.GDP_per_capita, world.Life_expectancy, c=colors, s=size, alpha = 0.5)\n",
    "plt.show()"
   ]
  },
  {
   "cell_type": "markdown",
   "metadata": {},
   "source": [
    "## 仕上げ"
   ]
  },
  {
   "cell_type": "code",
   "execution_count": 8,
   "metadata": {},
   "outputs": [
    {
     "name": "stderr",
     "output_type": "stream",
     "text": [
      "findfont: Font family ['YuGothic'] not found. Falling back to DejaVu Sans.\n"
     ]
    },
    {
     "data": {
      "image/png": "[encoded data removed]",
      "text/plain": [
       "<Figure size 432x288 with 1 Axes>"
      ]
     },
     "metadata": {
      "needs_background": "light"
     },
     "output_type": "display_data"
    }
   ],
   "source": [
    "import pandas as pd\n",
    "import matplotlib.pyplot as plt\n",
    "world = pd.read_csv('world2015.csv')\n",
    "map_dict = {      \n",
    "    'Asia':'red',\n",
    "    'Europe':'green',\n",
    "    'Africa':'blue',\n",
    "    'North America':'yellow',\n",
    "    'South America':'yellow',\n",
    "    'Oceania':'black'\n",
    "}\n",
    "colors = world.Continent.map(map_dict)\n",
    "size = world.Population / 1e6\n",
    "plt.xscale('log')\n",
    "\n",
    "plt.rcParams['font.family'] = 'YuGothic' # 日本語を表示するため\n",
    "plt.xlabel(\"一人あたりGDP\")\n",
    "plt.ylabel(\"平均寿命\")\n",
    "plt.title(\"平均寿命と一人当たりGDPの関係\")\n",
    "# グラフの説明文章を入れる\n",
    "plt.text(8000, 50, \"一人あたりGDPが大きほど\\n平均寿命が高くなります\", size=12)\n",
    "\n",
    "plt.scatter(world.GDP_per_capita, world.Life_expectancy, c=colors, s=size, alpha = 0.5)\n",
    "plt.grid(True)\n",
    "plt.show()"
   ]
  },
  {
   "cell_type": "markdown",
   "metadata": {},
   "source": [
    "## 練習：人口と一人当たりGDPの関係"
   ]
  },
  {
   "cell_type": "code",
   "execution_count": null,
   "metadata": {},
   "outputs": [],
   "source": [
    "world.head()"
   ]
  },
  {
   "cell_type": "code",
   "execution_count": null,
   "metadata": {},
   "outputs": [],
   "source": []
  },
  {
   "cell_type": "markdown",
   "metadata": {},
   "source": [
    "# 円グラフ"
   ]
  },
  {
   "cell_type": "markdown",
   "metadata": {},
   "source": [
    "## 円グラフ"
   ]
  },
  {
   "cell_type": "code",
   "execution_count": null,
   "metadata": {},
   "outputs": [],
   "source": [
    "# 円グラフ各部分のラベル\n",
    "labels=['Python','Java','C++','Ruby']\n",
    "# 各部分の数字（比率）\n",
    "values=[20,30,40,10]\n",
    "# 各部分の色\n",
    "colors=['yellow','green','red','blue']\n",
    "\n",
    "plt.pie(values, labels=labels, colors=colors)\n",
    "plt.title(\"Pie Chart\")\n",
    "plt.show()"
   ]
  },
  {
   "cell_type": "markdown",
   "metadata": {},
   "source": [
    "## グラフの大きさ"
   ]
  },
  {
   "cell_type": "code",
   "execution_count": null,
   "metadata": {},
   "outputs": [],
   "source": [
    "labels=['Python','Java','C++','Ruby']\n",
    "values=[20,30,40,10]\n",
    "colors=['yellow','green','red','blue']\n",
    "\n",
    "# figsize(横サイズ, 縦サイズ)  \n",
    "# このコードが全てのグラフに適用する\n",
    "# 円グラフのため、横と縦の最小値がグラフのサイズになる\n",
    "fig=plt.figure(figsize=(5,5))\n",
    "\n",
    "plt.pie(values, labels=labels, colors=colors)\n",
    "plt.title(\"Pie Chart\")\n",
    "plt.show()"
   ]
  },
  {
   "cell_type": "markdown",
   "metadata": {},
   "source": [
    "## 影をつける"
   ]
  },
  {
   "cell_type": "code",
   "execution_count": null,
   "metadata": {},
   "outputs": [],
   "source": [
    "labels=['Python','Java','C++','Ruby']\n",
    "values=[20,30,40,10]\n",
    "colors=['yellow','green','red','blue']\n",
    "\n",
    "fig=plt.figure(figsize=(5,5))\n",
    "# shadow： グラフに影をつける\n",
    "plt.pie(values, labels=labels, colors=colors, shadow = True)\n",
    "plt.title(\"Pie Chart\")\n",
    "plt.show()"
   ]
  },
  {
   "cell_type": "markdown",
   "metadata": {},
   "source": [
    "## 一部を中心から離れる"
   ]
  },
  {
   "cell_type": "code",
   "execution_count": null,
   "metadata": {},
   "outputs": [],
   "source": [
    "labels=['Python','Java','C++','Ruby']\n",
    "values=[20,30,40,10]\n",
    "colors=['yellow','green','red','blue']\n",
    "# python を中心から離れる\n",
    "# 位置が1 対 1\n",
    "explode = [0.2, 0, 0, 0]\n",
    "\n",
    "fig=plt.figure(figsize=(5,5))\n",
    "plt.pie(values, labels=labels, colors=colors, \n",
    "        shadow = True, explode = explode)\n",
    "plt.title(\"Pie Chart\")\n",
    "plt.show()"
   ]
  },
  {
   "cell_type": "markdown",
   "metadata": {},
   "source": [
    "## 円に比例をつける"
   ]
  },
  {
   "cell_type": "code",
   "execution_count": null,
   "metadata": {},
   "outputs": [],
   "source": [
    "labels=['Python','Java','C++','Ruby']\n",
    "values=[20,30,40,10]\n",
    "colors=['yellow','green','red','blue']\n",
    "explode = [0.2, 0, 0, 0]\n",
    "\n",
    "fig=plt.figure(figsize=(5,5))\n",
    "\n",
    "# autopct は各部分の大きさをパーセンテージで表示する\n",
    "plt.pie(values, labels=labels, colors=colors, \n",
    "        shadow = True, explode = explode, autopct='%0.1f%%')\n",
    "plt.title(\"Pie Chart\")\n",
    "plt.show()"
   ]
  },
  {
   "cell_type": "markdown",
   "metadata": {},
   "source": [
    "## 円中の数値の位置"
   ]
  },
  {
   "cell_type": "code",
   "execution_count": null,
   "metadata": {},
   "outputs": [],
   "source": [
    "labels=['Python','Java','C++','Ruby']\n",
    "values=[20,30,40,10]\n",
    "colors=['yellow','green','red','blue']\n",
    "explode = [0.2, 0, 0, 0]\n",
    "\n",
    "fig=plt.figure(figsize=(5,5))\n",
    "\n",
    "# pctdistance：autopctの数値が中心からどれぐらい離れる\n",
    "plt.pie(values, labels=labels, colors=colors, \n",
    "        shadow = True, explode = explode, \n",
    "        autopct='%0.1f%%', pctdistance=0.3)\n",
    "plt.title(\"Pie Chart\")\n",
    "plt.show()"
   ]
  },
  {
   "cell_type": "markdown",
   "metadata": {},
   "source": [
    "## 円のサイズ"
   ]
  },
  {
   "cell_type": "code",
   "execution_count": null,
   "metadata": {},
   "outputs": [],
   "source": [
    "labels=['Python','Java','C++','Ruby']\n",
    "values=[20,30,40,10]\n",
    "colors=['yellow','green','red','blue']\n",
    "explode = [0.2, 0, 0, 0]\n",
    "\n",
    "fig=plt.figure(figsize=(5,5))\n",
    "\n",
    "# radius 円のサイズ\n",
    "plt.pie(values, labels=labels, colors=colors, \n",
    "        shadow = True, explode = explode, \n",
    "        autopct='%0.1f%%', pctdistance=0.3,\n",
    "       radius = 1.5)\n",
    "plt.title(\"Pie Chart\")\n",
    "plt.show()"
   ]
  },
  {
   "cell_type": "markdown",
   "metadata": {},
   "source": [
    "## 空白円"
   ]
  },
  {
   "cell_type": "code",
   "execution_count": null,
   "metadata": {},
   "outputs": [],
   "source": [
    "# 枠線のスタイルの指定\n",
    "labels=['Python','Java','C++','Ruby']\n",
    "values=[20,30,40,10]\n",
    "colors=['yellow','green','red','blue']\n",
    "explode = [0.2, 0, 0, 0]\n",
    "\n",
    "fig=plt.figure(figsize=(5,5))\n",
    "\n",
    "# wedgeprops = {\"linewidth\":  , \"width\":  , \"edgecolor\":  }\n",
    "# linewidth: 枠線の太さ\n",
    "# width: 円中心の空白\n",
    "# edgecolor: 枠線の色\n",
    "plt.pie(values, labels=labels, colors=colors, \n",
    "        shadow = True, explode = explode, \n",
    "        autopct='%0.1f%%', pctdistance=0.8,\n",
    "       radius = 1, wedgeprops={\"linewidth\": 3, \"width\": 0.4, \"edgecolor\": \"white\"})\n",
    "plt.title(\"Pie Chart\")\n",
    "plt.show()"
   ]
  },
  {
   "cell_type": "markdown",
   "metadata": {},
   "source": [
    "## 回転"
   ]
  },
  {
   "cell_type": "code",
   "execution_count": null,
   "metadata": {},
   "outputs": [],
   "source": [
    "# startangle\n",
    "labels=['Python','Java','C++','Ruby']\n",
    "values=[20,30,40,10]\n",
    "colors=['yellow','green','red','blue']\n",
    "explode = [0.2, 0, 0, 0]\n",
    "\n",
    "fig=plt.figure(figsize=(5,5))\n",
    "\n",
    "# startangle はグラフを回転される\n",
    "plt.pie(values, labels=labels, colors=colors, \n",
    "        shadow = True, explode = explode, \n",
    "        autopct='%0.1f%%', pctdistance=0.8,\n",
    "       radius = 1, wedgeprops={\"linewidth\": 3, \"width\": 0.4, \"edgecolor\": \"white\"},\n",
    "       startangle = 180)\n",
    "plt.title(\"Pie Chart\")\n",
    "plt.show()"
   ]
  },
  {
   "cell_type": "markdown",
   "metadata": {},
   "source": [
    "## 文字の設定"
   ]
  },
  {
   "cell_type": "code",
   "execution_count": null,
   "metadata": {},
   "outputs": [],
   "source": [
    "# textprops\n",
    "labels=['Python','Java','C++','Ruby']\n",
    "values=[20,30,40,10]\n",
    "colors=['yellow','green','red','blue']\n",
    "explode = [0.2, 0, 0, 0]\n",
    "\n",
    "fig=plt.figure(figsize=(5,5))\n",
    "\n",
    "# textprops は文字のスタイルを設定する\n",
    "plt.pie(values, labels=labels, colors=colors, \n",
    "        shadow = True, explode = explode, \n",
    "        autopct='%0.1f%%', pctdistance=0.8,\n",
    "       radius = 1, wedgeprops={\"linewidth\": 3, \"width\": 0.4, \"edgecolor\": \"white\"},\n",
    "       startangle = 180, textprops = {\"color\": \"purple\", \"weight\": \"bold\"})\n",
    "plt.title(\"Pie Chart\")\n",
    "plt.show()"
   ]
  },
  {
   "cell_type": "markdown",
   "metadata": {},
   "source": [
    "## 練習：下記の円グラフを作成してみてください（割合は自由です）"
   ]
  },
  {
   "cell_type": "code",
   "execution_count": null,
   "metadata": {
    "scrolled": false
   },
   "outputs": [],
   "source": []
  }
 ],
 "metadata": {
  "kernelspec": {
   "display_name": "Python 3",
   "language": "python",
   "name": "python3"
  },
  "language_info": {
   "codemirror_mode": {
    "name": "ipython",
    "version": 3
   },
   "file_extension": ".py",
   "mimetype": "text/x-python",
   "name": "python",
   "nbconvert_exporter": "python",
   "pygments_lexer": "ipython3",
   "version": "3.6.8"
  },
  "toc": {
   "base_numbering": 1,
   "nav_menu": {},
   "number_sections": true,
   "sideBar": true,
   "skip_h1_title": false,
   "title_cell": "Table of Contents",
   "title_sidebar": "Contents",
   "toc_cell": false,
   "toc_position": {},
   "toc_section_display": true,
   "toc_window_display": true
  }
 },
 "nbformat": 4,
 "nbformat_minor": 2
}
