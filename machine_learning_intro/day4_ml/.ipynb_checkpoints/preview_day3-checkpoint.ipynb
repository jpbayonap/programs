{
 "cells": [
  {
   "cell_type": "code",
   "execution_count": 1,
   "metadata": {},
   "outputs": [
    {
     "name": "stdout",
     "output_type": "stream",
     "text": [
      "hey, Scikit-learn!\n"
     ]
    }
   ],
   "source": [
    "print('hey, Scikit-learn!')\n"
   ]
  },
  {
   "cell_type": "code",
   "execution_count": 2,
   "metadata": {},
   "outputs": [
    {
     "data": {
      "text/plain": [
       "20"
      ]
     },
     "execution_count": 2,
     "metadata": {},
     "output_type": "execute_result"
    }
   ],
   "source": [
    "def mul(x,y):\n",
    "    return x*y\n",
    "\n",
    "mul(4,5)\n"
   ]
  },
  {
   "cell_type": "code",
   "execution_count": 2,
   "metadata": {},
   "outputs": [
    {
     "name": "stdout",
     "output_type": "stream",
     "text": [
      "<module 'numpy' from '/home/juan/.local/lib/python3.6/site-packages/numpy/__init__.py'>\n",
      "1.17.0\n"
     ]
    }
   ],
   "source": [
    "import numpy as np\n",
    "import  pandas as pd\n",
    "import matplotlib.pyplot as plt\n",
    "print(np)\n",
    "#print(dir(np))\n",
    "# np.array?\n",
    "#print(help(np.array))\n",
    "print(np.__version__)"
   ]
  },
  {
   "cell_type": "code",
   "execution_count": 3,
   "metadata": {},
   "outputs": [
    {
     "data": {
      "text/html": [
       "<div>\n",
       "<style scoped>\n",
       "    .dataframe tbody tr th:only-of-type {\n",
       "        vertical-align: middle;\n",
       "    }\n",
       "\n",
       "    .dataframe tbody tr th {\n",
       "        vertical-align: top;\n",
       "    }\n",
       "\n",
       "    .dataframe thead th {\n",
       "        text-align: right;\n",
       "    }\n",
       "</style>\n",
       "<table border=\"1\" class=\"dataframe\">\n",
       "  <thead>\n",
       "    <tr style=\"text-align: right;\">\n",
       "      <th></th>\n",
       "      <th>date</th>\n",
       "      <th>price</th>\n",
       "      <th>bedrooms</th>\n",
       "      <th>bathrooms</th>\n",
       "      <th>sqft_living</th>\n",
       "      <th>sqft_lot</th>\n",
       "      <th>floors</th>\n",
       "      <th>condition</th>\n",
       "      <th>grade</th>\n",
       "      <th>yr_built</th>\n",
       "      <th>yr_renovated</th>\n",
       "    </tr>\n",
       "  </thead>\n",
       "  <tbody>\n",
       "    <tr>\n",
       "      <td>0</td>\n",
       "      <td>20141013T000000</td>\n",
       "      <td>221900.0</td>\n",
       "      <td>3</td>\n",
       "      <td>1.00</td>\n",
       "      <td>1180</td>\n",
       "      <td>5650</td>\n",
       "      <td>1.0</td>\n",
       "      <td>3</td>\n",
       "      <td>7</td>\n",
       "      <td>1955</td>\n",
       "      <td>0</td>\n",
       "    </tr>\n",
       "    <tr>\n",
       "      <td>1</td>\n",
       "      <td>20141209T000000</td>\n",
       "      <td>538000.0</td>\n",
       "      <td>3</td>\n",
       "      <td>2.25</td>\n",
       "      <td>2570</td>\n",
       "      <td>7242</td>\n",
       "      <td>2.0</td>\n",
       "      <td>3</td>\n",
       "      <td>7</td>\n",
       "      <td>1951</td>\n",
       "      <td>1991</td>\n",
       "    </tr>\n",
       "    <tr>\n",
       "      <td>2</td>\n",
       "      <td>20150225T000000</td>\n",
       "      <td>180000.0</td>\n",
       "      <td>2</td>\n",
       "      <td>1.00</td>\n",
       "      <td>770</td>\n",
       "      <td>10000</td>\n",
       "      <td>1.0</td>\n",
       "      <td>3</td>\n",
       "      <td>6</td>\n",
       "      <td>1933</td>\n",
       "      <td>0</td>\n",
       "    </tr>\n",
       "    <tr>\n",
       "      <td>3</td>\n",
       "      <td>20141209T000000</td>\n",
       "      <td>604000.0</td>\n",
       "      <td>4</td>\n",
       "      <td>3.00</td>\n",
       "      <td>1960</td>\n",
       "      <td>5000</td>\n",
       "      <td>1.0</td>\n",
       "      <td>5</td>\n",
       "      <td>7</td>\n",
       "      <td>1965</td>\n",
       "      <td>0</td>\n",
       "    </tr>\n",
       "    <tr>\n",
       "      <td>4</td>\n",
       "      <td>20150218T000000</td>\n",
       "      <td>510000.0</td>\n",
       "      <td>3</td>\n",
       "      <td>2.00</td>\n",
       "      <td>1680</td>\n",
       "      <td>8080</td>\n",
       "      <td>1.0</td>\n",
       "      <td>3</td>\n",
       "      <td>8</td>\n",
       "      <td>1987</td>\n",
       "      <td>0</td>\n",
       "    </tr>\n",
       "  </tbody>\n",
       "</table>\n",
       "</div>"
      ],
      "text/plain": [
       "              date     price  bedrooms  bathrooms  sqft_living  sqft_lot  \\\n",
       "0  20141013T000000  221900.0         3       1.00         1180      5650   \n",
       "1  20141209T000000  538000.0         3       2.25         2570      7242   \n",
       "2  20150225T000000  180000.0         2       1.00          770     10000   \n",
       "3  20141209T000000  604000.0         4       3.00         1960      5000   \n",
       "4  20150218T000000  510000.0         3       2.00         1680      8080   \n",
       "\n",
       "   floors  condition  grade  yr_built  yr_renovated  \n",
       "0     1.0          3      7      1955             0  \n",
       "1     2.0          3      7      1951          1991  \n",
       "2     1.0          3      6      1933             0  \n",
       "3     1.0          5      7      1965             0  \n",
       "4     1.0          3      8      1987             0  "
      ]
     },
     "execution_count": 3,
     "metadata": {},
     "output_type": "execute_result"
    }
   ],
   "source": [
    "# from kaggle use house.csv file\n",
    "# sqft square feet ,敷地SHIKICHI area of the lot\n",
    "df = pd.read_csv('house.csv')\n",
    "df.head()\n"
   ]
  },
  {
   "cell_type": "code",
   "execution_count": 53,
   "metadata": {},
   "outputs": [
    {
     "data": {
      "text/html": [
       "<div>\n",
       "<style scoped>\n",
       "    .dataframe tbody tr th:only-of-type {\n",
       "        vertical-align: middle;\n",
       "    }\n",
       "\n",
       "    .dataframe tbody tr th {\n",
       "        vertical-align: top;\n",
       "    }\n",
       "\n",
       "    .dataframe thead th {\n",
       "        text-align: right;\n",
       "    }\n",
       "</style>\n",
       "<table border=\"1\" class=\"dataframe\">\n",
       "  <thead>\n",
       "    <tr style=\"text-align: right;\">\n",
       "      <th></th>\n",
       "      <th>price</th>\n",
       "      <th>condition</th>\n",
       "    </tr>\n",
       "  </thead>\n",
       "  <tbody>\n",
       "    <tr>\n",
       "      <td>0</td>\n",
       "      <td>221900.0</td>\n",
       "      <td>3</td>\n",
       "    </tr>\n",
       "    <tr>\n",
       "      <td>2</td>\n",
       "      <td>180000.0</td>\n",
       "      <td>3</td>\n",
       "    </tr>\n",
       "    <tr>\n",
       "      <td>4</td>\n",
       "      <td>510000.0</td>\n",
       "      <td>3</td>\n",
       "    </tr>\n",
       "    <tr>\n",
       "      <td>6</td>\n",
       "      <td>257500.0</td>\n",
       "      <td>3</td>\n",
       "    </tr>\n",
       "    <tr>\n",
       "      <td>8</td>\n",
       "      <td>229500.0</td>\n",
       "      <td>3</td>\n",
       "    </tr>\n",
       "    <tr>\n",
       "      <td>10</td>\n",
       "      <td>662500.0</td>\n",
       "      <td>3</td>\n",
       "    </tr>\n",
       "    <tr>\n",
       "      <td>12</td>\n",
       "      <td>310000.0</td>\n",
       "      <td>4</td>\n",
       "    </tr>\n",
       "    <tr>\n",
       "      <td>14</td>\n",
       "      <td>530000.0</td>\n",
       "      <td>3</td>\n",
       "    </tr>\n",
       "    <tr>\n",
       "      <td>16</td>\n",
       "      <td>395000.0</td>\n",
       "      <td>3</td>\n",
       "    </tr>\n",
       "    <tr>\n",
       "      <td>18</td>\n",
       "      <td>189000.0</td>\n",
       "      <td>4</td>\n",
       "    </tr>\n",
       "    <tr>\n",
       "      <td>20</td>\n",
       "      <td>385000.0</td>\n",
       "      <td>4</td>\n",
       "    </tr>\n",
       "    <tr>\n",
       "      <td>22</td>\n",
       "      <td>285000.0</td>\n",
       "      <td>3</td>\n",
       "    </tr>\n",
       "    <tr>\n",
       "      <td>24</td>\n",
       "      <td>329000.0</td>\n",
       "      <td>4</td>\n",
       "    </tr>\n",
       "    <tr>\n",
       "      <td>26</td>\n",
       "      <td>937000.0</td>\n",
       "      <td>3</td>\n",
       "    </tr>\n",
       "    <tr>\n",
       "      <td>28</td>\n",
       "      <td>438000.0</td>\n",
       "      <td>3</td>\n",
       "    </tr>\n",
       "    <tr>\n",
       "      <td>30</td>\n",
       "      <td>580500.0</td>\n",
       "      <td>3</td>\n",
       "    </tr>\n",
       "    <tr>\n",
       "      <td>32</td>\n",
       "      <td>687500.0</td>\n",
       "      <td>4</td>\n",
       "    </tr>\n",
       "    <tr>\n",
       "      <td>34</td>\n",
       "      <td>322500.0</td>\n",
       "      <td>3</td>\n",
       "    </tr>\n",
       "    <tr>\n",
       "      <td>36</td>\n",
       "      <td>550000.0</td>\n",
       "      <td>1</td>\n",
       "    </tr>\n",
       "    <tr>\n",
       "      <td>38</td>\n",
       "      <td>240000.0</td>\n",
       "      <td>2</td>\n",
       "    </tr>\n",
       "    <tr>\n",
       "      <td>40</td>\n",
       "      <td>625000.0</td>\n",
       "      <td>3</td>\n",
       "    </tr>\n",
       "    <tr>\n",
       "      <td>42</td>\n",
       "      <td>861990.0</td>\n",
       "      <td>3</td>\n",
       "    </tr>\n",
       "    <tr>\n",
       "      <td>44</td>\n",
       "      <td>309000.0</td>\n",
       "      <td>4</td>\n",
       "    </tr>\n",
       "    <tr>\n",
       "      <td>46</td>\n",
       "      <td>210490.0</td>\n",
       "      <td>3</td>\n",
       "    </tr>\n",
       "    <tr>\n",
       "      <td>48</td>\n",
       "      <td>450000.0</td>\n",
       "      <td>4</td>\n",
       "    </tr>\n",
       "  </tbody>\n",
       "</table>\n",
       "</div>"
      ],
      "text/plain": [
       "       price  condition\n",
       "0   221900.0          3\n",
       "2   180000.0          3\n",
       "4   510000.0          3\n",
       "6   257500.0          3\n",
       "8   229500.0          3\n",
       "10  662500.0          3\n",
       "12  310000.0          4\n",
       "14  530000.0          3\n",
       "16  395000.0          3\n",
       "18  189000.0          4\n",
       "20  385000.0          4\n",
       "22  285000.0          3\n",
       "24  329000.0          4\n",
       "26  937000.0          3\n",
       "28  438000.0          3\n",
       "30  580500.0          3\n",
       "32  687500.0          4\n",
       "34  322500.0          3\n",
       "36  550000.0          1\n",
       "38  240000.0          2\n",
       "40  625000.0          3\n",
       "42  861990.0          3\n",
       "44  309000.0          4\n",
       "46  210490.0          3\n",
       "48  450000.0          4"
      ]
     },
     "execution_count": 53,
     "metadata": {},
     "output_type": "execute_result"
    }
   ],
   "source": [
    "# rooms price and condition column first 50 rows\n",
    "df[['price','condition']][0:50:2]\n",
    "#df.iloc[:, 2:]  everything aside price and date"
   ]
  },
  {
   "cell_type": "code",
   "execution_count": 8,
   "metadata": {},
   "outputs": [
    {
     "name": "stdout",
     "output_type": "stream",
     "text": [
      "<class 'pandas.core.frame.DataFrame'>\n",
      "RangeIndex: 2000 entries, 0 to 1999\n",
      "Data columns (total 11 columns):\n",
      "date            2000 non-null object\n",
      "price           2000 non-null float64\n",
      "bedrooms        2000 non-null int64\n",
      "bathrooms       2000 non-null float64\n",
      "sqft_living     2000 non-null int64\n",
      "sqft_lot        2000 non-null int64\n",
      "floors          2000 non-null float64\n",
      "condition       2000 non-null int64\n",
      "grade           2000 non-null int64\n",
      "yr_built        2000 non-null int64\n",
      "yr_renovated    2000 non-null int64\n",
      "dtypes: float64(3), int64(7), object(1)\n",
      "memory usage: 172.0+ KB\n"
     ]
    }
   ],
   "source": [
    "df.info()\n"
   ]
  },
  {
   "cell_type": "code",
   "execution_count": 6,
   "metadata": {},
   "outputs": [
    {
     "data": {
      "image/png": "[encoded data removed]",
      "text/plain": [
       "<matplotlib.figure.Figure at 0x7fa7019b76a0>"
      ]
     },
     "metadata": {
      "needs_background": "light"
     },
     "output_type": "display_data"
    }
   ],
   "source": [
    "#家の大きさと価格の関係　散布図\n",
    "plt.scatter(df['sqft_living'], df['price'], s=1)\n",
    "plt.xlabel('sqft_living ', size = 18)\n",
    "plt.ylabel('price', size= 20)\n",
    "plt.grid(True)\n",
    "plt.xlim(df.sqft_living.min(),df.sqft_living.max())\n",
    "plt.show() #出力\n",
    "\n",
    "# plt.hist for histogram"
   ]
  },
  {
   "cell_type": "code",
   "execution_count": 14,
   "metadata": {},
   "outputs": [
    {
     "data": {
      "image/png": "[encoded data removed]",
      "text/plain": [
       "<matplotlib.figure.Figure at 0x7fa6fe646c18>"
      ]
     },
     "metadata": {
      "needs_background": "light"
     },
     "output_type": "display_data"
    }
   ],
   "source": [
    "#normalized graph\n",
    "df = pd.read_csv('house.csv')\n",
    "def min_max(v, df):\n",
    "    min = np.min(df)\n",
    "    max = np.max(df)\n",
    "    result= (df[v]-min)/(max-min)\n",
    "    return result\n",
    "\n",
    "sqmin = np.array([min_max(i,df.sqft_living) for i in range(len(df.sqft_living))])\n",
    "pricemin = np.array([min_max(i,df.price) for i in range(len(df.price))])\n",
    "\n",
    "plt.scatter(sqmin, pricemin, s=1)\n",
    "plt.xlabel('sqft_living ', size = 18)\n",
    "plt.ylabel('price', size= 20)\n",
    "plt.grid(True)\n",
    "plt.xlim(sqmin.min(),sqmin.max())\n",
    "plt.show() #出力\n"
   ]
  },
  {
   "cell_type": "code",
   "execution_count": 23,
   "metadata": {},
   "outputs": [],
   "source": [
    "# 学習用データとテストデータへの分類  First method\n",
    "from sklearn.model_selection import train_test_split\n",
    "\n",
    "# 75%学習用、　25％検証用\n",
    "train_df, test_df = train_test_split(df)"
   ]
  },
  {
   "cell_type": "code",
   "execution_count": 21,
   "metadata": {},
   "outputs": [
    {
     "name": "stdout",
     "output_type": "stream",
     "text": [
      "[[3.402e+03 2.000e+00 3.000e+00 2.009e+03 0.000e+00]\n",
      " [7.490e+03 2.000e+00 3.000e+00 1.979e+03 0.000e+00]\n",
      " [3.250e+03 1.500e+00 3.000e+00 1.901e+03 0.000e+00]\n",
      " ...\n",
      " [7.500e+03 2.000e+00 3.000e+00 1.990e+03 0.000e+00]\n",
      " [5.500e+03 1.000e+00 3.000e+00 1.951e+03 0.000e+00]\n",
      " [8.548e+03 2.000e+00 3.000e+00 1.993e+03 0.000e+00]]\n"
     ]
    }
   ],
   "source": [
    "\n",
    "train_X = train_df[['sqft_lot', 'floors', 'condition', 'yr_built', 'yr_renovated']].values\n",
    "train_Y = train_df['price'].values\n",
    "test_X = test_df[['sqft_lot', 'floors', 'condition', 'yr_built', 'yr_renovated']].values\n",
    "test_Y = test_df['price'].values\n",
    "\n",
    "print(train_X)"
   ]
  },
  {
   "cell_type": "code",
   "execution_count": 13,
   "metadata": {},
   "outputs": [
    {
     "name": "stdout",
     "output_type": "stream",
     "text": [
      "[[5.6500e+03 1.0000e+00 3.0000e+00 1.9550e+03 0.0000e+00]\n",
      " [7.2420e+03 2.0000e+00 3.0000e+00 1.9510e+03 1.9910e+03]\n",
      " [1.0000e+04 1.0000e+00 3.0000e+00 1.9330e+03 0.0000e+00]\n",
      " ...\n",
      " [8.5810e+03 1.0000e+00 4.0000e+00 1.9200e+03 0.0000e+00]\n",
      " [1.3383e+04 1.0000e+00 3.0000e+00 1.9830e+03 0.0000e+00]\n",
      " [5.0000e+03 2.0000e+00 3.0000e+00 1.9790e+03 0.0000e+00]]\n",
      "[221900. 538000. 180000. ... 180000. 465000. 650000.]\n"
     ]
    }
   ],
   "source": [
    "#回帰分析 regression analysis\n",
    "# 取得したデータから未来のデータを予測する\n",
    "#　説明変数（学習）目的変数　　同じモデルでで予測\n",
    "\n",
    "#線形回帰、　最小二乗回　過学習を起こしやすい\n",
    "# 過学習の代わりlassoとRidge\n",
    "#lasso 正則化の概念　l1 norm drop useless parameters (dimension) ||\n",
    "#Ridge 正則化の概念　l2 norm prevents overtraining  sqrt()\n",
    "\n",
    "#学習用データとテスト用データへの分割\n",
    "from sklearn.model_selection import train_test_split\n",
    "\n",
    "X_lim = df[['sqft_lot','floors','condition', 'yr_built', 'yr_renovated']].values \n",
    "# values でnumpy 配列にする\n",
    "Y_lim =  df['price'].values\n",
    "\n",
    "#75%学習用、25検証用にランダム分割 split 75% learning, 25% testing  predict Y_lim\n",
    "train_X_lim, test_X_lim, train_Y_lim, test_Y_lim = train_test_split(X_lim, Y_lim,test_size=0.25, shuffle=True, random_state=0)\n",
    "\n",
    "\n",
    "\n",
    "print(X_lim)\n",
    "print(Y_lim)"
   ]
  },
  {
   "cell_type": "code",
   "execution_count": 43,
   "metadata": {},
   "outputs": [
    {
     "name": "stdout",
     "output_type": "stream",
     "text": [
      "First regression coefficients: [ 5.84483280e-01  2.29888521e+05  6.81119033e+04 -1.90884153e+02\n",
      "  9.87892441e+01]\n",
      "First regression intercept:  326973.16083481826\n",
      "Second regression coefficients: [ 1.54164016e+00  2.39768556e+05  6.25023787e+04 -5.66449100e+02\n",
      "  7.43979340e+01]\n",
      "Second regression intercept:  1062938.5444310764\n"
     ]
    }
   ],
   "source": [
    "#データの全処理\n",
    "from sklearn import linear_model\n",
    "\n",
    "rgs1 = linear_model.LinearRegression()\n",
    "rgs1.fit(train_X_lim, train_Y_lim) # 説明変数と目的変数の関係を学習\n",
    "\n",
    "rgs2 = linear_model.LinearRegression()\n",
    "rgs2.fit(train_X, train_Y)\n",
    "print('First regression coefficients:', rgs1.coef_) #回帰係数を出力\n",
    "print('First regression intercept: ', rgs1.intercept_) #切片（せっぺん）\n",
    "print('Second regression coefficients:', rgs2.coef_) #回帰係数を出力\n",
    "print('Second regression intercept: ', rgs2.intercept_) #切片（せっぺん）\n"
   ]
  },
  {
   "cell_type": "code",
   "execution_count": 27,
   "metadata": {},
   "outputs": [
    {
     "name": "stdout",
     "output_type": "stream",
     "text": [
      "[610295.68946215 390957.89694454 388212.31724026 621028.71695177\n",
      " 617239.85444885 615610.07318338 751712.52863272 393743.06049853\n",
      " 458432.25031981 468377.99796765 391137.87808147 534031.42418808\n",
      " 464946.9399556  392410.47905274 535026.27430127 461139.25412758\n",
      " 458202.58882396 529557.76930391 460171.00721209 388853.77771204\n",
      " 510484.64669582 465178.3556212  472313.20475373 528606.35110361\n",
      " 610531.13550078 616081.75119058 390425.93701274 650878.19679922\n",
      " 612914.55759454 847173.44146524 455831.8239157  462672.35377183\n",
      " 624720.0310369  528316.40768317 391743.24102661 460901.73261241\n",
      " 684592.75588184 624836.4240763  452965.94137901 682844.32451047\n",
      " 648891.6792861  676790.50914964 456215.44639425 581032.79692231\n",
      " 655311.08117013 721915.4290222  688257.00214612 464562.87487033\n",
      " 619315.57588058 388860.00558147 465203.83028565 392682.90855138\n",
      " 392094.71692473 459458.90513002 400497.32798923 470756.11999848\n",
      " 610501.91133677 397848.04686956 457624.59514975 614767.04684651\n",
      " 792744.95320544 385312.93828654 392105.98312041 505570.63474151\n",
      " 688897.73697798 408923.46170131 396341.35041617 618880.05569003\n",
      " 578937.60595237 535228.70696292 532790.78820726 330551.59843478\n",
      " 694363.03724565 821399.52165663 396858.69826596 388595.9397188\n",
      " 466104.05655717 758596.93516818 459066.05149902 458210.67086655\n",
      " 609891.02558552 451861.36870256 507035.12781869 460276.89940916\n",
      " 506296.62326567 637003.59194584 692346.32948843 513933.76267963\n",
      " 398194.88733476 610399.18343608 388053.21720798 386409.40834379\n",
      " 462482.39670573 378991.40509846 391778.81364008 616248.59066215\n",
      " 387154.96712948 611725.81932573 386479.10301079 533760.4856827\n",
      " 386311.35630934 438495.99904822 384129.21848728 612022.73683213\n",
      " 699261.288728   459780.65324747 459049.48452051 609139.62196702\n",
      " 692691.23491383 392944.07185435 456397.05968107 461105.615834\n",
      " 456903.62509514 399843.3919219  688419.24589816 406460.1264115\n",
      " 392975.93612148 393648.73666713 393102.1043633  612579.16491498\n",
      " 391828.73659888 614257.61930606 578025.26798513 392328.79255014\n",
      " 635877.49483125 616503.26435902 398344.57534453 394733.618502\n",
      " 459297.1039847  394568.79421696 460529.94023622 862905.64534788\n",
      " 458620.31277942 403712.69181414 608900.91090868 331066.62892806\n",
      " 510191.90143901 830958.70224795 623286.95890021 632207.88677422\n",
      " 389044.27882811 647235.8388729  461737.4018267  579602.30459872\n",
      " 625738.05831473 398397.17883976 487766.90225172 394584.33338555\n",
      " 620342.75488405 528704.8471846  579932.13568347 651844.44838489\n",
      " 530235.98946389 689008.64764459 611071.19805179 457783.574602\n",
      " 616148.82561117 618357.0843108  688993.45107931 460748.33553639\n",
      " 613581.2111374  392824.39393853 393982.90009012 398206.71815701\n",
      " 394768.36547213 615227.86155137 525969.46543276 382974.15894536\n",
      " 631856.51159942 529346.58924976 381458.45264288 620153.32201122\n",
      " 617190.51597333 616909.82284213 613653.54590751 706064.73512069\n",
      " 615760.28538641 391634.97046311 390821.6116169  465274.45275914\n",
      " 391165.95313562 388143.67095979 592666.18292491 392835.2976742\n",
      " 384782.67079466 582875.73299514 460841.28823466 838870.09039524\n",
      " 611318.09187605 628004.14186561 423783.2447597  612496.8939291\n",
      " 529243.86134907 506432.42483336 455442.63891765 616899.92705968\n",
      " 615315.1510068  618457.27283171 611667.3709977  459759.47069274\n",
      " 554221.1897064  617167.96300537 619459.54035749 620738.91396807\n",
      " 526320.15540094 636528.10486895 577994.18964794 459151.12432127\n",
      " 460206.13721883 767973.3769642  761529.14590893 396083.33083297\n",
      " 646678.74544014 391292.26181419 613272.56353208 398772.6597056\n",
      " 611761.67425249 610758.64065347 616648.84112913 611073.05222496\n",
      " 462489.10761519 454829.71740327 618385.6232682  388215.56240326\n",
      " 392419.48818192 576452.6660777  617042.50054676 501536.16868083\n",
      " 523386.31179039 387688.84224438 611832.39672941 386947.95932492\n",
      " 919801.1937507  620984.19549913 459909.96448916 611786.0211036\n",
      " 513890.85352019 617086.94185268 700718.22611557 616512.6160915\n",
      " 712690.72133935 616971.79864646 387301.51141949 823679.41704691\n",
      " 840807.4708795  387330.73558351 527534.81238075 690118.15792396\n",
      " 611858.25515038 608433.46544108 395595.91293041 611636.97786712\n",
      " 618536.17807455 840127.85798115 630257.12130481 393119.41683844\n",
      " 392840.86019371 403362.14444242 458552.27083893 457440.90638639\n",
      " 392382.96790526 516296.50583531 591888.81700065 395099.54474888\n",
      " 395217.50964817 398257.04400913 618035.37662666 387461.0349217\n",
      " 459917.34146844 456562.42801609 388852.20585216 457567.03347499\n",
      " 613483.11866964 619340.52779158 684766.6900194  581251.05106584\n",
      " 612824.50673606 463394.47293629 392231.62716897 612582.28877804\n",
      " 392386.51595816 383675.86090842 455640.93976302 461114.42351652\n",
      " 612579.64867493 394604.99174702 710997.03628992 404157.14098715\n",
      " 610740.32022512 613194.44421918 459128.81323329 467858.04010778\n",
      " 839911.94177074 391513.94199077 402764.45992664 498904.0289914\n",
      " 609827.94182456 609600.43667187 614629.04850234 527027.72277342\n",
      " 386707.77713003 388953.52290632 610965.06397475 396058.07819179\n",
      " 611431.82423574 533373.55775113 625355.56508934 612644.48588573\n",
      " 618453.60419877 459398.68349544 614495.74588112 574255.19053371\n",
      " 617875.28849787 712711.92375079 388119.062372   459379.55656054\n",
      " 610089.79033414 573707.77158004 589201.5929456  478583.90384487\n",
      " 473397.40066209 615497.79210354 438814.5828693  691920.46248045\n",
      " 389380.67946089 391011.16578967 687085.45577241 599750.66445343\n",
      " 510602.63217172 392819.7585056  629026.5626964  684579.41348973\n",
      " 611679.20181995 392602.65275202 689432.23700947 408860.60068353\n",
      " 508199.96256303 607981.94217869 613563.4141824  459963.51564758\n",
      " 464565.51425354 685923.44272114 462262.42954567 480505.7032874\n",
      " 393763.57770336 392087.30023205 529791.56261603 459171.13790944\n",
      " 688959.47018242 396284.75626131 511814.78948515 392305.23162897\n",
      " 527706.67032187 682705.56009306 614289.8467531  610648.37476015\n",
      " 463425.83358677 712739.37766583 819593.14339025 507566.38361187\n",
      " 627990.53557709 388453.50738836 459571.6699698  614262.05329233\n",
      " 840008.03890869 617785.43908605 393282.78984364 713616.61288956\n",
      " 391354.13617527 612232.80820973 638103.18658605 608522.89138296\n",
      " 385404.98447484 529172.55438887 391176.95759462 577445.19883438\n",
      " 684492.08360099 521384.53742197 628854.36143207 391907.54111839\n",
      " 762386.54244782 384211.9533764  459997.81857116 396579.0542412\n",
      " 612978.46771876 386344.39026293 964277.37392717 614067.4607933\n",
      " 464500.8784894  821217.72227592 391682.01143882 459469.8890124\n",
      " 756615.57728125 812368.27629497 533949.11204898 388540.65640705\n",
      " 628361.64418649 534468.93970844 711308.61982809 622965.15049274\n",
      " 576623.07273897 460183.80555424 617620.2721977  465833.70181516\n",
      " 526131.12542143 656354.2614969  456255.57429393 613618.47691069\n",
      " 611791.5233331  769447.6651005  389360.32326941 394078.25173143\n",
      " 618446.73155605 537127.57328051 611764.63710221 622112.24751022\n",
      " 393759.97080025 691914.31475775 687160.79382555 650776.92017838\n",
      " 636596.77172604 390468.54328228 657043.18641433 394600.63862738\n",
      " 389292.26147222 514112.81601006 394096.57215978 617061.98994167\n",
      " 455155.03271042 611110.39886488 458756.21507044 463590.75787524\n",
      " 617181.76858082 611069.24315528 612345.5127595  388270.16122831\n",
      " 654781.25556507 390678.05075321 841162.29266396 612594.94596355\n",
      " 394280.26092315 456860.51448904 685402.7085517  526796.00565774\n",
      " 386633.20515013 459733.47111512 531357.85650731 614338.27799874\n",
      " 611831.02631619 523538.13628663 463970.26911412 462345.54675151\n",
      " 693508.48369634 402901.12613118 646577.38795267 820771.88527452\n",
      " 457326.64983344 697722.38468427 412791.0074238  612600.9518097\n",
      " 390879.89893158 620499.29567984 684090.20098411 389224.03794177\n",
      " 616998.2209741  838991.07843427 596888.43754017 391944.84804491\n",
      " 391183.48763403 398909.95226655 400067.00713828 394788.94296697\n",
      " 391740.31861021 388459.7955478  579731.13280037 479976.3231687\n",
      " 461524.26759596 616546.99988171 397514.16647977 645199.29767765\n",
      " 612556.47079038 611807.20365834 396422.1899789  460488.96611658\n",
      " 687372.43706304 608795.36131492 391179.4969744  617724.18964156\n",
      " 619033.73435944 464292.60099495 401132.13712166 556426.66467782\n",
      " 614723.85537379 615751.27625724 764867.21006948 611271.91769691\n",
      " 458201.62130406 708848.66390685 614034.48784963 462438.78176307]\n"
     ]
    }
   ],
   "source": [
    "# 予測\n",
    "print(rgs1.predict(test_X_lim))\n",
    "\n"
   ]
  },
  {
   "cell_type": "code",
   "execution_count": 37,
   "metadata": {},
   "outputs": [
    {
     "name": "stdout",
     "output_type": "stream",
     "text": [
      "train score: 0.10114644269750628\n",
      "test score: 0.12430070714645425\n",
      "train score: 0.10676706899848663\n",
      "test score: 0.007761990790828287\n"
     ]
    }
   ],
   "source": [
    "#決定係数の出力1に近づくほど制度良い\n",
    "print('train score:', rgs1.score(train_X_lim, train_Y_lim))\n",
    "print('test score:', rgs1.score(test_X_lim, test_Y_lim))\n",
    "print('train score:', rgs2.score(train_X, train_Y))\n",
    "print('test score:', rgs2.score(test_X, test_Y))\n",
    "\n",
    "#rgs1.score?\n"
   ]
  },
  {
   "cell_type": "code",
   "execution_count": 47,
   "metadata": {},
   "outputs": [
    {
     "name": "stdout",
     "output_type": "stream",
     "text": [
      "Lasso regression coefficients: [ 5.84482500e-01  2.29883470e+05  6.81090778e+04 -1.90867025e+02\n",
      "  9.87892822e+01]\n"
     ]
    }
   ],
   "source": [
    "#Lasso 回帰\n",
    "from sklearn import linear_model\n",
    "rgs3 = linear_model.Lasso(alpha=1.0, max_iter=100) #パイパーパラメーター\n",
    "rgs3.fit(train_X_lim, train_Y_lim) #説明変数と目的変数の関係を学習\n",
    "print('Lasso regression coefficients:', rgs3.coef_)\n"
   ]
  },
  {
   "cell_type": "code",
   "execution_count": 48,
   "metadata": {},
   "outputs": [
    {
     "name": "stdout",
     "output_type": "stream",
     "text": [
      "[610294.69156583 390961.17640512 388215.78596888 621027.55286899\n",
      " 617238.67855176 615608.88258933 751705.41723603 393746.30249467\n",
      " 458432.95822686 468377.84894888 391141.56225227 534028.89164929\n",
      " 464946.74489894 392413.80719275 535023.13300844 461139.7728181\n",
      " 458203.38140233 529555.44521331 460171.54406829 388857.34682186\n",
      " 510484.95597889 465178.56520609 472314.26533252 528603.79206213\n",
      " 610530.17103599 616080.55996678 390429.53776939 650872.44456696\n",
      " 612913.62369344 847167.58598688 455832.65340524 462672.87041546\n",
      " 624718.76078809 528314.25397933 391746.58693041 460902.52158707\n",
      " 684588.77237225 624835.32240148 452966.92655133 682840.32646232\n",
      " 648885.98032492 676786.82289703 456216.20787984 581030.04123271\n",
      " 655306.63910859 721914.34959048 688252.77752313 464563.28775223\n",
      " 619314.12724511 388863.64217472 465203.53364837 392686.11821709\n",
      " 392097.99486751 459459.51042872 400499.78481236 470756.406501\n",
      " 610500.94691099 397850.64221334 457625.27038926 614765.92486977\n",
      " 792742.1665422  385316.91707437 392109.10919169 505571.62550298\n",
      " 688893.56211834 408926.61593785 396344.40334093 618878.92822188\n",
      " 578934.98804364 535225.49790805 532788.47667309 330556.98444276\n",
      " 694357.94395043 821398.09005226 396861.42991416 388599.34044348\n",
      " 466104.50112727 758589.5952317  459066.48859285 458211.49718001\n",
      " 609890.09572123 451862.32160376 507035.89727667 460277.4023781\n",
      " 506297.49494728 637002.18718628 692342.20064328 513933.74677184\n",
      " 398197.4990884  610398.26976628 388056.92237016 386413.09882773\n",
      " 462482.91360298 378996.85287508 391781.990767   616247.21361327\n",
      " 387158.63974507 611724.85326588 386482.84402049 533757.76790332\n",
      " 386315.09754301 438499.88995668 384133.14823671 612021.77037585\n",
      " 699255.80081537 459781.35935423 459049.98912821 609138.7099789\n",
      " 692686.98749761 392947.31491725 456397.97278064 461105.94896711\n",
      " 456904.40253487 399845.81587224 688414.5148704  406463.09833459\n",
      " 392979.0779042  393651.759441   393105.56656341 612578.19771579\n",
      " 391831.93053208 614256.51488241 578022.73565918 392332.17141803\n",
      " 635876.51339865 616502.03882656 398347.06878775 394736.8085568\n",
      " 459297.67575355 394571.98449182 460530.35850262 862901.45751281\n",
      " 458620.96981657 403715.39743841 608899.98236633 331071.98050253\n",
      " 510192.37984232 830956.68398685 623285.85929413 632206.69089282\n",
      " 389047.76331889 647230.63143771 461737.6497516  579599.73642134\n",
      " 625735.75745747 398399.67221274 487767.85783308 394587.50676673\n",
      " 620341.32175011 528702.6760892  579932.83322851 651838.66111669\n",
      " 530236.30612218 689004.42201805 611070.23286594 457784.24962924\n",
      " 616147.583679   618356.0081597  688989.22547306 460748.82100296\n",
      " 613580.25947329 392827.68778003 393986.07427429 398209.38051367\n",
      " 394771.85919343 615226.75583232 525967.29798946 382978.32645809\n",
      " 631855.34993304 529344.1304576  381462.57156047 620152.00724076\n",
      " 617189.32326918 616908.57989393 613652.54352801 706059.60932921\n",
      " 615759.09459181 391638.26589264 390824.92500531 465274.67908867\n",
      " 391169.43479369 388147.32538238 592669.68489907 392838.65899289\n",
      " 384786.59967165 582872.8567344  460841.57110187 838864.11101945\n",
      " 611317.14323351 628002.90097796 423787.10469282 612495.97745857\n",
      " 529241.45331288 506433.2288419  455443.63765618 616898.76848938\n",
      " 615313.97767945 618456.21341978 611666.40501588 459760.12620896\n",
      " 554218.5458469  617166.78720427 619458.22651332 620737.71652633\n",
      " 526317.98748943 636526.80198187 577991.69110936 459151.74690384\n",
      " 460207.04523278 767965.87265248 761521.26212352 396086.08038932\n",
      " 646673.37001935 391295.62519304 613271.52791537 398775.65876542\n",
      " 611760.64065301 610757.72650374 616647.699767   611072.05329076\n",
      " 462489.23642589 454830.64946838 618384.58082488 388219.21672987\n",
      " 392422.83318284 576450.64203954 617041.25742142 501537.38417705\n",
      " 523384.45150884 387692.53102011 611831.3630355  386951.66596277\n",
      " 919799.68508141 620983.06522167 459910.23172686 611785.05496337\n",
      " 513890.82079675 617085.98550795 700714.06921988 616511.39054656\n",
      " 712686.66656937 616970.84245546 387305.33569587 823677.03628008\n",
      " 840801.35393354 387334.55982086 527532.60910163 690113.77895963\n",
      " 611857.27204077 608432.58814164 395599.23681745 611636.01192588\n",
      " 618535.11855727 840121.79256138 630254.47695523 393122.65966723\n",
      " 392844.12026735 403365.87978396 458552.91109399 457441.73372759\n",
      " 392386.2117173  516296.30117062 591891.94965797 395102.3293646\n",
      " 395220.32785227 398259.58818803 618034.28403214 387464.7746204\n",
      " 459917.87866331 456563.25653017 388855.90994758 457567.60755372\n",
      " 613482.13339062 619339.43345451 684762.68940464 581248.31195778\n",
      " 612823.4885905  463395.08985343 392234.95554777 612581.25408293\n",
      " 392390.33344538 383679.7237714  455641.78638035 461114.84100256\n",
      " 612578.71522098 394608.09760886 710997.11496383 404159.86289096\n",
      " 610739.4735916  613193.34121501 459129.46959152 467861.52060937\n",
      " 839905.85976631 391517.1532172  402768.21293911 498904.54787975\n",
      " 609827.09640919 609599.54094144 614628.04482042 527025.53704427\n",
      " 386711.56845324 388957.15937471 610964.11580354 396061.55331822\n",
      " 611430.8585684  533370.84048836 625353.73718504 612643.46798052\n",
      " 618452.20733297 459399.49134981 614494.65801248 574253.30441298\n",
      " 617874.07800652 712707.71709605 388122.83493802 459380.212584\n",
      " 610088.94456917 573705.90306312 589205.08097269 478584.73670324\n",
      " 473398.17295338 615496.71976997 438818.5577171  691916.06423687\n",
      " 389384.34910485 391014.61390852 687081.21584065 599753.90506467\n",
      " 510603.2618831  392823.13671798 629024.18995679 684575.39625207\n",
      " 611678.28644115 392605.72754138 689428.16267383 408864.54803211\n",
      " 508200.6461011  607981.16671973 613562.15882916 459964.05278081\n",
      " 464565.33657906 685919.32245139 462263.01422836 480505.35247422\n",
      " 393766.70156154 392090.71316824 529789.23821328 459171.81108411\n",
      " 688955.07589215 396287.77551575 511815.04637349 392308.47554481\n",
      " 527704.26433803 682701.54535725 614288.91101581 610647.39326589\n",
      " 463426.51795379 712739.25119825 819591.36084176 507570.19917514\n",
      " 627987.9786184  388457.04328672 459572.19075325 614260.93198982\n",
      " 840001.97364889 617784.07685821 393285.93121667 713616.55461232\n",
      " 391357.33074213 612231.85834592 638101.9153419  608522.01396414\n",
      " 385409.06437741 529170.14644789 391180.47298387 577442.85288523\n",
      " 684488.04960698 521382.84854244 628851.71895536 391910.76869226\n",
      " 762378.57315298 384216.0686177  459998.22067508 396582.4611803\n",
      " 612977.46624058 386348.51953009 964269.18888572 614066.42411529\n",
      " 464500.71777416 821215.78774174 391685.40804318 459470.24120236\n",
      " 756608.32435484 812360.24859952 533946.05655899 388544.5633937\n",
      " 628360.47031328 534466.10287262 711304.49941164 622964.06818925\n",
      " 576620.7447604  460184.46050392 617618.92706332 465833.47182867\n",
      " 526128.94088936 656352.96588515 456256.4032177  613617.47457801\n",
      " 611790.57405846 769439.88885339 389363.95919467 394081.59451768\n",
      " 618445.38531824 537125.08722676 611763.68786346 622110.62641144\n",
      " 393763.61772434 691909.52844479 687156.67190378 650771.31993778\n",
      " 636595.5699849  390471.77277739 657042.24421448 394603.93009736\n",
      " 389296.08309068 514112.73237146 394099.84742982 617060.67929855\n",
      " 455155.94746826 611109.51799139 458756.77068851 463590.91896097\n",
      " 617180.37341309 611068.3454638  612344.59649109 388273.83235496\n",
      " 654775.73434285 390681.5836815  841156.25960896 612593.97874329\n",
      " 394283.38409149 456861.34260514 685398.6733419  526794.00584029\n",
      " 386637.01344584 459734.02542842 531355.27691927 614337.1734674\n",
      " 611830.06011587 523536.22518355 463970.56467666 462345.89510208\n",
      " 693504.2858078  402903.44476141 646571.99579427 820770.08546919\n",
      " 457327.37608956 697716.98319097 412793.9540214  612599.83272498\n",
      " 390883.36409862 620497.89608277 684086.18439961 389227.70779487\n",
      " 616997.02852669 838985.09889694 596891.19248766 391948.59863006\n",
      " 391186.96926868 398912.57993842 400069.41391713 394792.20043966\n",
      " 391743.66451791 388463.28081895 579728.58132392 479976.31052108\n",
      " 461524.93762888 616545.80803674 397517.20096572 645194.16045326\n",
      " 612555.46987562 611806.28810864 396424.88846402 460489.50254826\n",
      " 687368.19674812 608794.44978643 391182.9448685  617723.08058958\n",
      " 619032.52232141 464292.50804954 401134.47498667 556426.65952812\n",
      " 614722.61534414 615750.06860172 764859.00124148 611270.96911601\n",
      " 458202.34639197 708849.28606308 614033.4343427  462439.02875153]\n"
     ]
    }
   ],
   "source": [
    "#予測\n",
    "print(rgs3.predict(test_X_lim))"
   ]
  },
  {
   "cell_type": "code",
   "execution_count": 51,
   "metadata": {},
   "outputs": [
    {
     "name": "stdout",
     "output_type": "stream",
     "text": [
      "train score:  0.101146442646872\n",
      "test score:  0.12430107208217844\n"
     ]
    }
   ],
   "source": [
    "#決定係数の出力\n",
    "print('train score: ', rgs3.score(train_X_lim, train_Y_lim))\n",
    "print('test score: ', rgs3.score(test_X_lim, test_Y_lim) )"
   ]
  },
  {
   "cell_type": "code",
   "execution_count": 10,
   "metadata": {},
   "outputs": [
    {
     "name": "stdout",
     "output_type": "stream",
     "text": [
      "train score linear regression: 0.5866713942276103\n",
      "test score linear regression : 0.5624408929779052\n",
      "train score lasso regression: 0.5866713941279325\n",
      "test score lasso regression : 0.5624389806303344\n"
     ]
    }
   ],
   "source": [
    "# 演習問題\n",
    "\n",
    "from sklearn.model_selection import train_test_split\n",
    "from sklearn import linear_model\n",
    "# 説明変数\n",
    "X_L = df.iloc[:, 2:].values #説明変数は価格と日付以外。目的変数は価格\n",
    "#予測変数\n",
    "Y_L = df['price'].values\n",
    "# df.iloc[:,1]\n",
    "train_X_L, test_X_L, train_Y_L, test_Y_L = train_test_split(X_L, Y_L, test_size = 0.25, shuffle = True,random_state=0)\n",
    "\n",
    "\n",
    "rgsl= linear_model.LinearRegression()\n",
    "rgsl.fit(train_X_L, train_Y_L)\n",
    "rgsla = linear_model.Lasso(alpha = 1.0, max_iter=500, random_state=0)\n",
    "rgsla.fit(train_X_L, train_Y_L)\n",
    "\n",
    "print('train score linear regression:', rgsl.score(train_X_L, train_Y_L))\n",
    "print('test score linear regression :', rgsl.score(test_X_L, test_Y_L))\n",
    "print('train score lasso regression:', rgsla.score(train_X_L, train_Y_L))\n",
    "print('test score lasso regression :', rgsla.score(test_X_L, test_Y_L))\n"
   ]
  },
  {
   "cell_type": "code",
   "execution_count": 11,
   "metadata": {},
   "outputs": [],
   "source": [
    "#教師あり分類 training with guidance  classification  sample date more than 50\n",
    "# SVM 学習データの目的変数がわかっている　support vector machine 1e5 sample data\n",
    "\n",
    "# マージンが最大値を取るような超平面を求める手法　距離関数の最大値を取る境界面\n",
    "\n",
    "#各軸のスケールを正規化　Normalize the scale\n",
    "\n",
    "\n",
    "X_sv = df[['price','sqft_lot']].values\n",
    "Y_sv = df['grade'].values\n",
    "\n",
    "#75 25\n",
    "train_X_sv, test_X_sv, train_Y_sv, test_Y_sv = train_test_split(X_sv, Y_sv)"
   ]
  },
  {
   "cell_type": "code",
   "execution_count": 46,
   "metadata": {},
   "outputs": [],
   "source": [
    "# numpy における標準正規化をする関数\n",
    "def standardization(x, axis=0, ddof=0):\n",
    "    x_mean = x.mean(axis=axis)\n",
    "    x_std = x.std(axis=axis, ddof=ddof)\n",
    "    return (x-x_mean)/x_std\n",
    "# value between 0 ~1\n"
   ]
  },
  {
   "cell_type": "code",
   "execution_count": 26,
   "metadata": {},
   "outputs": [
    {
     "name": "stdout",
     "output_type": "stream",
     "text": [
      "[[-0.47110968 -0.21369101]\n",
      " [-0.68744959  0.03940422]\n",
      " [-0.65567384 -0.22061919]\n",
      " ...\n",
      " [-0.02545476 -0.12681315]\n",
      " [-0.2637729  -0.16436706]\n",
      " [ 0.21286337 -0.17684566]]\n",
      "some column mean value -8.289665250534503e-18\n",
      "some column standard deviation 0.9999999999999998\n"
     ]
    }
   ],
   "source": [
    "train_X_sv = standardization(train_X_sv)\n",
    "test_X_sv = standardization(test_X_sv)\n",
    "\n",
    "print('some column mean value', train_X_sv[:,0].mean()) #ほぼ0になっている\n",
    "print('some column standard deviation', train_X_sv[:,0].std())#ほぼ1"
   ]
  },
  {
   "cell_type": "code",
   "execution_count": 7,
   "metadata": {},
   "outputs": [
    {
     "name": "stdout",
     "output_type": "stream",
     "text": [
      "ある列の平均： 6.394884621840901e-17\n",
      "ある列の標準偏差：　 1.0000000000000107\n"
     ]
    }
   ],
   "source": [
    "#dfの正規化\n",
    "\n",
    "train_df = (df[['price','sqft_lot']]- df[['price','sqft_lot']].mean())/df[['price','sqft_lot']].std()\n",
    "\n",
    "print('ある列の平均：', train_df.iloc[:, 0].mean())\n",
    "print('ある列の標準偏差：　', train_df.iloc[:,0].std())\n"
   ]
  },
  {
   "cell_type": "code",
   "execution_count": 63,
   "metadata": {},
   "outputs": [
    {
     "data": {
      "text/plain": [
       "SVC(C=1.0, cache_size=200, class_weight=None, coef0=0.0,\n",
       "    decision_function_shape='ovr', degree=3, gamma='auto', kernel='rbf',\n",
       "    max_iter=-1, probability=False, random_state=None, shrinking=True,\n",
       "    tol=0.001, verbose=False)"
      ]
     },
     "execution_count": 63,
     "metadata": {},
     "output_type": "execute_result"
    }
   ],
   "source": [
    "#学習フェーズ clf class file\n",
    "from sklearn import svm  \n",
    "\n",
    "clf = svm.SVC(gamma= 'auto')\n",
    "clf.fit(train_X_sv, train_Y_sv)\n"
   ]
  },
  {
   "cell_type": "code",
   "execution_count": 17,
   "metadata": {},
   "outputs": [
    {
     "name": "stdout",
     "output_type": "stream",
     "text": [
      "train score: 1.0\n",
      "test_score;  0.416\n"
     ]
    }
   ],
   "source": [
    "#予測と結果フェーズ\n",
    "print('train score:', clf.score(train_X_sv, train_Y_sv))#overfitting\n",
    "print('test_score; ', clf.score(test_X_sv, test_Y_sv))"
   ]
  },
  {
   "cell_type": "code",
   "execution_count": 39,
   "metadata": {},
   "outputs": [
    {
     "name": "stdout",
     "output_type": "stream",
     "text": [
      "[ True  True  True  True  True  True  True  True False  True  True]\n"
     ]
    },
    {
     "data": {
      "text/plain": [
       "array([ True,  True,  True,  True,  True,  True,  True,  True, False,\n",
       "        True,  True])"
      ]
     },
     "execution_count": 39,
     "metadata": {},
     "output_type": "execute_result"
    }
   ],
   "source": [
    "#演習問\n",
    "hey = df.columns.str.contains('grade')\n",
    "#negate\n",
    "\n",
    "def neg(array):\n",
    "    for i in range(len(array)):\n",
    "        array[i ]= not array[i]\n",
    "\n",
    "    return array\n",
    "\n",
    "# or with numpy or pandas\n",
    "print(~hey)\n",
    "neg(hey)"
   ]
  },
  {
   "cell_type": "code",
   "execution_count": 84,
   "metadata": {},
   "outputs": [
    {
     "name": "stdout",
     "output_type": "stream",
     "text": [
      "with accuracy test 0.526\n",
      "with score function test 0.526\n",
      "with scorefunction train 0.632\n"
     ]
    }
   ],
   "source": [
    "from sklearn.model_selection import train_test_split\n",
    "from sklearn import svm  \n",
    "from sklearn.metrics import accuracy_score\n",
    "# [1:8, 9:]  different solution\n",
    "X_s = df.iloc[:,(~df.columns.str.contains('grade'))&(~df.columns.str.contains('date'))].values\n",
    "Y_s= df['grade'].values\n",
    "\n",
    "train_X_s, test_X_s, train_Y_s,test_Y_s = train_test_split(X_s,Y_s,test_size=0.25,shuffle=True,random_state=0)\n",
    "X_s\n",
    "\n",
    "train_X_s = standardization(train_X_s)\n",
    "test_X_s = standardization(test_X_s)\n",
    "\n",
    "clf = svm.SVC(gamma= 'auto', kernel= 'poly')\n",
    "clf.fit(train_X_s, train_Y_s)\n",
    " \n",
    "pred_Y_s = clf.predict(test_X_s)\n",
    "\n",
    "# test and prediction argument\n",
    "print('with accuracy test',accuracy_score(test_Y_s, pred_Y_s))\n",
    "# same value\n",
    "print('with score function test',clf.score(test_X_s, test_Y_s))\n",
    "print('with scorefunction train',clf.score(train_X_s, train_Y_s))\n",
    "\n"
   ]
  },
  {
   "cell_type": "code",
   "execution_count": null,
   "metadata": {},
   "outputs": [],
   "source": [
    "#教師なし分類　　目的変数\n",
    "\n",
    "#k平均法 kMeans  center of mass　データサンプル一万以上 　目的変数なし samples with more than 10000 elements\n",
    "\n",
    "\n"
   ]
  },
  {
   "cell_type": "code",
   "execution_count": null,
   "metadata": {},
   "outputs": [],
   "source": []
  }
 ],
 "metadata": {
  "kernelspec": {
   "display_name": "Python 3",
   "language": "python",
   "name": "python3"
  },
  "language_info": {
   "codemirror_mode": {
    "name": "ipython",
    "version": 3
   },
   "file_extension": ".py",
   "mimetype": "text/x-python",
   "name": "python",
   "nbconvert_exporter": "python",
   "pygments_lexer": "ipython3",
   "version": "3.6.8"
  }
 },
 "nbformat": 4,
 "nbformat_minor": 2
}
