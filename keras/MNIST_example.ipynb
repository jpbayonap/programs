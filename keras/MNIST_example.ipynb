{
 "cells": [
  {
   "cell_type": "markdown",
   "metadata": {},
   "source": [
    "MNIST model is used for recognize and differenciate handwritten numbers"
   ]
  },
  {
   "cell_type": "code",
   "execution_count": 1,
   "metadata": {},
   "outputs": [
    {
     "name": "stderr",
     "output_type": "stream",
     "text": [
      "Using TensorFlow backend.\n"
     ]
    }
   ],
   "source": [
    "#import keras\n",
    "import keras\n",
    "\n",
    "#MNIST data modules\n",
    "from tensorflow.python.keras.datasets import mnist\n",
    "from tensorflow.python.keras.models import Sequential\n",
    "from tensorflow.python.keras.layers.core import Dense, Dropout , Activation\n",
    "from tensorflow.keras.optimizers import RMSprop\n",
    "from tensorflow.python.keras.callbacks import EarlyStopping, CSVLogger\n",
    "\n",
    "#matplotlib\n",
    "import matplotlib.pyplot as plt\n"
   ]
  },
  {
   "cell_type": "code",
   "execution_count": 2,
   "metadata": {},
   "outputs": [],
   "source": [
    "\n",
    "#batch size , number of classes, number of epochs\n",
    "#training sets size\n",
    "batch_size = 128\n",
    "# 0,1,2,3,4,5,6,7,8,9 classes\n",
    "num_classes = 10\n",
    "# adjust 20 times\n",
    "epochs = 20\n",
    "\n",
    "\n",
    "# Read MNIST data\n",
    "(x_train, y_train), (x_test, y_test)= mnist.load_data()\n"
   ]
  },
  {
   "cell_type": "code",
   "execution_count": 3,
   "metadata": {},
   "outputs": [
    {
     "data": {
      "image/png": "[encoded data removed]",
      "text/plain": [
       "<matplotlib.figure.Figure at 0x7fd860ac1978>"
      ]
     },
     "metadata": {
      "needs_background": "light"
     },
     "output_type": "display_data"
    }
   ],
   "source": [
    "# show 10 images from MNIST database\n",
    "# Image size 28*28=784\n",
    "\n",
    "for i in range(10):\n",
    "    plt.subplot(2,5,i+1)\n",
    "    plt.title(\"M_%d\" %i)\n",
    "    plt.axis(\"off\")\n",
    "    plt.imshow(x_train[i].reshape(28,28), cmap=None)\n",
    "plt.show()\n"
   ]
  },
  {
   "cell_type": "code",
   "execution_count": 4,
   "metadata": {},
   "outputs": [
    {
     "name": "stdout",
     "output_type": "stream",
     "text": [
      "before normalization(60000, 28, 28)\n",
      "before normalization(60000,)\n"
     ]
    }
   ],
   "source": [
    "#データ加工 prepare data for analysis\n",
    "\n",
    "print(\"before normalization\"+str(x_train.shape))\n",
    "print(\"before normalization\"+str(y_train.shape))\n",
    "\n",
    "#normalize the size of the images 画像サイスを正規化 \n",
    "# 60000 training images \n",
    "x_train =  x_train.reshape(60000, 784).astype('float32')\n",
    "x_test = x_test.reshape(10000,784).astype('float32')\n",
    "\n",
    "# normalize [0,255] to [0,1]\n",
    "x_train /= 255\n",
    "x_test /= 255\n",
    "y_train = keras.utils.to_categorical(y_train, num_classes)\n",
    "y_test = keras.utils.to_categorical(y_test, num_classes)\n"
   ]
  },
  {
   "cell_type": "code",
   "execution_count": 5,
   "metadata": {},
   "outputs": [
    {
     "name": "stdout",
     "output_type": "stream",
     "text": [
      "(60000, 784)\n",
      "(60000, 10)\n",
      "(10000, 784)\n",
      "(10000, 10)\n"
     ]
    }
   ],
   "source": [
    "# confirm the images size\n",
    "\n",
    "print(x_train.shape)\n",
    "print(y_train.shape)\n",
    "print(x_test.shape)\n",
    "print(y_test.shape)"
   ]
  },
  {
   "cell_type": "code",
   "execution_count": 6,
   "metadata": {},
   "outputs": [],
   "source": [
    "# create the model\n",
    "\n",
    "# First layer == Dense input (784,1) output (512)\n",
    "model = Sequential()\n",
    "model.add(Dense(512, input_shape=(784, )))\n",
    "#activation function\n",
    "model.add(Activation('relu'))\n",
    "# to prevent over-learning  drop 20 % of the data and set it to zero randomly\n",
    "model.add(Dropout(0.2))\n",
    "model.add(Dense(512))\n",
    "model.add(Activation('relu'))\n",
    "model.add(Dropout(0.2))\n",
    "# output layer with num_classes  using softmax function\n",
    "model.add(Dense(10))\n",
    "# 尤度を返す　\n",
    "model.add(Activation('softmax'))\n"
   ]
  },
  {
   "cell_type": "code",
   "execution_count": 7,
   "metadata": {},
   "outputs": [
    {
     "name": "stdout",
     "output_type": "stream",
     "text": [
      "Model: \"sequential\"\n",
      "_________________________________________________________________\n",
      "Layer (type)                 Output Shape              Param #   \n",
      "=================================================================\n",
      "dense (Dense)                (None, 512)               401920    \n",
      "_________________________________________________________________\n",
      "activation (Activation)      (None, 512)               0         \n",
      "_________________________________________________________________\n",
      "dropout (Dropout)            (None, 512)               0         \n",
      "_________________________________________________________________\n",
      "dense_1 (Dense)              (None, 512)               262656    \n",
      "_________________________________________________________________\n",
      "activation_1 (Activation)    (None, 512)               0         \n",
      "_________________________________________________________________\n",
      "dropout_1 (Dropout)          (None, 512)               0         \n",
      "_________________________________________________________________\n",
      "dense_2 (Dense)              (None, 10)                5130      \n",
      "_________________________________________________________________\n",
      "activation_2 (Activation)    (None, 10)                0         \n",
      "=================================================================\n",
      "Total params: 669,706\n",
      "Trainable params: 669,706\n",
      "Non-trainable params: 0\n",
      "_________________________________________________________________\n"
     ]
    }
   ],
   "source": [
    "# Show the summary 出力\n",
    "model.summary()\n",
    "# parameters dense_1== (784+1)*512  dense_2 == (512+1)*512 dense_3 =(512+1)*10 \n",
    "# ONE BIASED DATA always get activated"
   ]
  },
  {
   "cell_type": "code",
   "execution_count": 8,
   "metadata": {},
   "outputs": [
    {
     "name": "stdout",
     "output_type": "stream",
     "text": [
      "Train on 54000 samples, validate on 6000 samples\n",
      "Epoch 1/20\n",
      "54000/54000 [==============================] - 7s 130us/sample - loss: 0.2621 - accuracy: 0.9195 - val_loss: 0.0957 - val_accuracy: 0.9713\n",
      "Epoch 2/20\n",
      "54000/54000 [==============================] - 6s 111us/sample - loss: 0.1086 - accuracy: 0.9669 - val_loss: 0.0773 - val_accuracy: 0.9767\n",
      "Epoch 3/20\n",
      "54000/54000 [==============================] - 6s 114us/sample - loss: 0.0787 - accuracy: 0.9762 - val_loss: 0.0707 - val_accuracy: 0.9793\n",
      "Epoch 4/20\n",
      "54000/54000 [==============================] - 6s 113us/sample - loss: 0.0633 - accuracy: 0.9812 - val_loss: 0.0726 - val_accuracy: 0.9803\n",
      "Epoch 5/20\n",
      "54000/54000 [==============================] - 6s 113us/sample - loss: 0.0524 - accuracy: 0.9848 - val_loss: 0.0688 - val_accuracy: 0.9830\n",
      "Epoch 6/20\n",
      "54000/54000 [==============================] - 6s 116us/sample - loss: 0.0439 - accuracy: 0.9864 - val_loss: 0.0735 - val_accuracy: 0.9820\n",
      "Epoch 7/20\n",
      "54000/54000 [==============================] - 6s 117us/sample - loss: 0.0383 - accuracy: 0.9886 - val_loss: 0.0830 - val_accuracy: 0.9827\n"
     ]
    }
   ],
   "source": [
    "# Compile the model\n",
    "\n",
    "model.compile(loss = 'categorical_crossentropy', optimizer = RMSprop(), \n",
    "                      metrics= ['accuracy'])\n",
    "# stop after a while\n",
    "es= EarlyStopping(monitor='val_loss', patience=2)\n",
    "# take log of the training contents\n",
    "csv_logger = CSVLogger('training.log')\n",
    "hist = model.fit(x_train, y_train,\n",
    "                batch_size = batch_size,\n",
    "                epochs= epochs,\n",
    "                verbose =1,\n",
    "                validation_split = 0.1,\n",
    "                callbacks= [es, csv_logger])"
   ]
  },
  {
   "cell_type": "code",
   "execution_count": 9,
   "metadata": {},
   "outputs": [
    {
     "name": "stdout",
     "output_type": "stream",
     "text": [
      "test_loss: 0.08855981100113194\n",
      "test_acc 0.9803\n"
     ]
    }
   ],
   "source": [
    "#Test the accuracy of your model \n",
    "score = model.evaluate(x_test,y_test, verbose=0)\n",
    "print('test_loss:', score[0])\n",
    "print('test_acc', score[1])"
   ]
  },
  {
   "cell_type": "code",
   "execution_count": 10,
   "metadata": {},
   "outputs": [
    {
     "data": {
      "image/png": "[encoded data removed]",
      "text/plain": [
       "<matplotlib.figure.Figure at 0x7fd84c64df98>"
      ]
     },
     "metadata": {
      "needs_background": "light"
     },
     "output_type": "display_data"
    }
   ],
   "source": [
    "#show the results \n",
    "loss = hist.history['loss']\n",
    "val_loss = hist.history['val_loss']\n",
    "\n",
    "\n",
    "epochs = len(loss)\n",
    "plt.plot(range(epochs), loss, marker='.', label='loss(training data)' )\n",
    "plt.plot(range(epochs), val_loss, marker='.', label = 'val_loss(evaluation data)')\n",
    "plt.legend(loc = 'best')\n",
    "plt.grid()\n",
    "plt.xlabel('epoch')\n",
    "plt.ylabel('loss')\n",
    "plt.show()\n",
    "# The more epochs the smaller loss for training data . nonetheless, for evaluation data\n",
    "# there is no big change (overfitting)"
   ]
  }
 ],
 "metadata": {
  "kernelspec": {
   "display_name": "Python 3",
   "language": "python",
   "name": "python3"
  },
  "language_info": {
   "codemirror_mode": {
    "name": "ipython",
    "version": 3
   },
   "file_extension": ".py",
   "mimetype": "text/x-python",
   "name": "python",
   "nbconvert_exporter": "python",
   "pygments_lexer": "ipython3",
   "version": "3.6.9"
  }
 },
 "nbformat": 4,
 "nbformat_minor": 2
}
