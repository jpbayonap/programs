{
 "cells": [
  {
   "cell_type": "markdown",
   "metadata": {},
   "source": [
    "# CNN example using Conv2d"
   ]
  },
  {
   "cell_type": "code",
   "execution_count": 15,
   "metadata": {},
   "outputs": [],
   "source": [
    "# CNN model 1 layer\n",
    "# import libraries\n",
    "from tensorflow.keras.models import Sequential, Model\n",
    "from tensorflow.keras.layers import Conv2D\n",
    "from tensorflow.python.keras.utils import np_utils"
   ]
  },
  {
   "cell_type": "markdown",
   "metadata": {},
   "source": [
    "import necessary libraries to run SVG "
   ]
  },
  {
   "cell_type": "code",
   "execution_count": 16,
   "metadata": {},
   "outputs": [],
   "source": [
    "from IPython.display import SVG\n",
    "from tensorflow.python.keras.utils.vis_utils import model_to_dot"
   ]
  },
  {
   "cell_type": "markdown",
   "metadata": {},
   "source": [
    "Create the model 畳み込みモデルを作成"
   ]
  },
  {
   "cell_type": "code",
   "execution_count": 17,
   "metadata": {},
   "outputs": [],
   "source": [
    "model = Sequential()\n",
    "model.add(Conv2D(filters=3, kernel_size=(3,3), input_shape=(6,6,1), name= 'Conv2D_1'))\n"
   ]
  },
  {
   "cell_type": "code",
   "execution_count": 18,
   "metadata": {},
   "outputs": [
    {
     "data": {
      "image/svg+xml": [
       "<svg height=\"184pt\" viewBox=\"0.00 0.00 324.00 138.00\" width=\"432pt\" xmlns=\"http://www.w3.org/2000/svg\" xmlns:xlink=\"http://www.w3.org/1999/xlink\">\n",
       "<g class=\"graph\" id=\"graph0\" transform=\"scale(1.3333 1.3333) rotate(0) translate(4 134)\">\n",
       "<title>G</title>\n",
       "<polygon fill=\"#ffffff\" points=\"-4,4 -4,-134 320,-134 320,4 -4,4\" stroke=\"transparent\"/>\n",
       "<!-- 140014601092288 -->\n",
       "<g class=\"node\" id=\"node1\">\n",
       "<title>140014601092288</title>\n",
       "<polygon fill=\"none\" points=\"0,-83.5 0,-129.5 316,-129.5 316,-83.5 0,-83.5\" stroke=\"#000000\"/>\n",
       "<text fill=\"#000000\" font-family=\"Times,serif\" font-size=\"14.00\" text-anchor=\"middle\" x=\"89\" y=\"-102.8\">Conv2D_1_input: InputLayer</text>\n",
       "<polyline fill=\"none\" points=\"178,-83.5 178,-129.5 \" stroke=\"#000000\"/>\n",
       "<text fill=\"#000000\" font-family=\"Times,serif\" font-size=\"14.00\" text-anchor=\"middle\" x=\"205.5\" y=\"-114.3\">input:</text>\n",
       "<polyline fill=\"none\" points=\"178,-106.5 233,-106.5 \" stroke=\"#000000\"/>\n",
       "<text fill=\"#000000\" font-family=\"Times,serif\" font-size=\"14.00\" text-anchor=\"middle\" x=\"205.5\" y=\"-91.3\">output:</text>\n",
       "<polyline fill=\"none\" points=\"233,-83.5 233,-129.5 \" stroke=\"#000000\"/>\n",
       "<text fill=\"#000000\" font-family=\"Times,serif\" font-size=\"14.00\" text-anchor=\"middle\" x=\"274.5\" y=\"-114.3\">[(?, 6, 6, 1)]</text>\n",
       "<polyline fill=\"none\" points=\"233,-106.5 316,-106.5 \" stroke=\"#000000\"/>\n",
       "<text fill=\"#000000\" font-family=\"Times,serif\" font-size=\"14.00\" text-anchor=\"middle\" x=\"274.5\" y=\"-91.3\">[(?, 6, 6, 1)]</text>\n",
       "</g>\n",
       "<!-- 140014601092848 -->\n",
       "<g class=\"node\" id=\"node2\">\n",
       "<title>140014601092848</title>\n",
       "<polygon fill=\"none\" points=\"29,-.5 29,-46.5 287,-46.5 287,-.5 29,-.5\" stroke=\"#000000\"/>\n",
       "<text fill=\"#000000\" font-family=\"Times,serif\" font-size=\"14.00\" text-anchor=\"middle\" x=\"93.5\" y=\"-19.8\">Conv2D_1: Conv2D</text>\n",
       "<polyline fill=\"none\" points=\"158,-.5 158,-46.5 \" stroke=\"#000000\"/>\n",
       "<text fill=\"#000000\" font-family=\"Times,serif\" font-size=\"14.00\" text-anchor=\"middle\" x=\"185.5\" y=\"-31.3\">input:</text>\n",
       "<polyline fill=\"none\" points=\"158,-23.5 213,-23.5 \" stroke=\"#000000\"/>\n",
       "<text fill=\"#000000\" font-family=\"Times,serif\" font-size=\"14.00\" text-anchor=\"middle\" x=\"185.5\" y=\"-8.3\">output:</text>\n",
       "<polyline fill=\"none\" points=\"213,-.5 213,-46.5 \" stroke=\"#000000\"/>\n",
       "<text fill=\"#000000\" font-family=\"Times,serif\" font-size=\"14.00\" text-anchor=\"middle\" x=\"250\" y=\"-31.3\">(?, 6, 6, 1)</text>\n",
       "<polyline fill=\"none\" points=\"213,-23.5 287,-23.5 \" stroke=\"#000000\"/>\n",
       "<text fill=\"#000000\" font-family=\"Times,serif\" font-size=\"14.00\" text-anchor=\"middle\" x=\"250\" y=\"-8.3\">(?, 4, 4, 3)</text>\n",
       "</g>\n",
       "<!-- 140014601092288&#45;&gt;140014601092848 -->\n",
       "<g class=\"edge\" id=\"edge1\">\n",
       "<title>140014601092288-&gt;140014601092848</title>\n",
       "<path d=\"M158,-83.3799C158,-75.1745 158,-65.7679 158,-56.8786\" fill=\"none\" stroke=\"#000000\"/>\n",
       "<polygon fill=\"#000000\" points=\"161.5001,-56.784 158,-46.784 154.5001,-56.784 161.5001,-56.784\" stroke=\"#000000\"/>\n",
       "</g>\n",
       "</g>\n",
       "</svg>"
      ],
      "text/plain": [
       "<IPython.core.display.SVG object>"
      ]
     },
     "execution_count": 18,
     "metadata": {},
     "output_type": "execute_result"
    }
   ],
   "source": [
    "#Show the model モデルを表示\n",
    "SVG(model_to_dot(model, show_shapes=True).create(prog='dot', format='svg'))"
   ]
  },
  {
   "cell_type": "code",
   "execution_count": null,
   "metadata": {},
   "outputs": [],
   "source": []
  }
 ],
 "metadata": {
  "kernelspec": {
   "display_name": "Python 3",
   "language": "python",
   "name": "python3"
  },
  "language_info": {
   "codemirror_mode": {
    "name": "ipython",
    "version": 3
   },
   "file_extension": ".py",
   "mimetype": "text/x-python",
   "name": "python",
   "nbconvert_exporter": "python",
   "pygments_lexer": "ipython3",
   "version": "3.6.9"
  }
 },
 "nbformat": 4,
 "nbformat_minor": 2
}
