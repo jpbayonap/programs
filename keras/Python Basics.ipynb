{
 "cells": [
  {
   "cell_type": "markdown",
   "metadata": {},
   "source": [
    "Basic Comands with python \n",
    "Tuple  = (a ,b c)\n",
    "\n",
    "\n"
   ]
  },
  {
   "cell_type": "code",
   "execution_count": 1,
   "metadata": {},
   "outputs": [
    {
     "name": "stdout",
     "output_type": "stream",
     "text": [
      "hola me llamo ralph\n"
     ]
    }
   ],
   "source": [
    "tuple= ('hola ', ' ralph','me llamo')\n",
    "print(tuple[0]+tuple[2]+tuple[1])"
   ]
  },
  {
   "cell_type": "markdown",
   "metadata": {},
   "source": [
    " Operations with lists "
   ]
  },
  {
   "cell_type": "code",
   "execution_count": 2,
   "metadata": {},
   "outputs": [
    {
     "data": {
      "text/plain": [
       "3"
      ]
     },
     "execution_count": 2,
     "metadata": {},
     "output_type": "execute_result"
    }
   ],
   "source": [
    "list = ['apple', 'strawberry','pen']\n",
    "# append an element to the last position on the array\n",
    "list.append('bob')\n",
    "#get last element of the array and delete it\n",
    "list.pop() \n",
    "\n",
    "del list[0]\n",
    "list.insert(0,'apple')\n",
    "#useful for loops\n",
    "len(list)"
   ]
  },
  {
   "cell_type": "code",
   "execution_count": 3,
   "metadata": {},
   "outputs": [],
   "source": [
    "# Sets\n",
    "# no hay orden 　順番を持たない\n",
    "s = set(['tonces','q','q','bonito','arbol'])\n",
    "# add an element \n",
    "s.add('ringo')\n",
    "s.remove('q')\n",
    "t = set(['lulu','Elle','Hug','bonito'])\n",
    "# Set Algebraic operations\n",
    "s.intersection(t)\n",
    "u = s.union(t)\n",
    "# Be careful with difference 集合tのみに含まれる要素\n",
    "v= t.difference(s)"
   ]
  },
  {
   "cell_type": "markdown",
   "metadata": {},
   "source": [
    "Dictionaries \n",
    "dic{Key1 : value_1, Key2: Value_2,... Keyn: Value_n}"
   ]
  },
  {
   "cell_type": "code",
   "execution_count": 4,
   "metadata": {},
   "outputs": [],
   "source": [
    "dict = {'Elle':'chill', 'Ca':'sleep', 'Juan':'weird dance'}\n",
    "dict['Elle']\n",
    "#print keys \n",
    "dict.keys()\n",
    "#print values\n",
    "dict.values()\n",
    "# 追加　消除　変更\n",
    "dict['coffee'] = 'morning'\n",
    "dict.pop('Ca')\n",
    "dict['coffee']= 'Not today'\n"
   ]
  },
  {
   "cell_type": "code",
   "execution_count": 5,
   "metadata": {},
   "outputs": [
    {
     "name": "stdout",
     "output_type": "stream",
     "text": [
      "today he said hey omg!hey omg!\n",
      "today he  said tonces\n"
     ]
    }
   ],
   "source": [
    "# text merging\n",
    "hey = 'hey'\n",
    "you = ' omg!'\n",
    "tonces = (hey+you)*2\n",
    "mix= ['today', 'he', 'said' ,tonces]\n",
    "# Be careful with variables\n",
    "mix2 = ['today', 'he ', 'said' ,'tonces']\n",
    "print(' '.join(mix))\n",
    "print(' '.join(mix2))"
   ]
  },
  {
   "cell_type": "markdown",
   "metadata": {},
   "source": [
    " Format resulting values"
   ]
  },
  {
   "cell_type": "code",
   "execution_count": 6,
   "metadata": {},
   "outputs": [
    {
     "name": "stdout",
     "output_type": "stream",
     "text": [
      "she told me to chill more today\n",
      "apple value is 100 円 omg!\n"
     ]
    }
   ],
   "source": [
    "print('she told me to {} more {}'.format(dict['Elle'],mix[0]))\n",
    "print('{2} value is {1} 円{0}'.format(you,100,list[0]))"
   ]
  },
  {
   "cell_type": "code",
   "execution_count": 7,
   "metadata": {},
   "outputs": [
    {
     "name": "stdout",
     "output_type": "stream",
     "text": [
      "7 96 -8\n",
      "5 8 1\n",
      "4 4 -1\n"
     ]
    }
   ],
   "source": [
    "list = [0,2,6,7,5,-8,96]\n",
    "tuple= (1,4,5,6,8)\n",
    "set = {-1,4,1,1,2}\n",
    "print(len(list), max(list), min(list))\n",
    "print(len(tuple),max(tuple),min(tuple))\n",
    "print(len(set), max(set), min(set))"
   ]
  },
  {
   "cell_type": "markdown",
   "metadata": {},
   "source": [
    "Break and Continue"
   ]
  },
  {
   "cell_type": "code",
   "execution_count": 8,
   "metadata": {},
   "outputs": [],
   "source": [
    "# stop opperation\n",
    "\n",
    "def stop(array,stop):\n",
    "    for i in array:\n",
    "        if i < stop:\n",
    "            break\n",
    "        print(i)\n",
    "stop(list,8)"
   ]
  },
  {
   "cell_type": "code",
   "execution_count": 11,
   "metadata": {},
   "outputs": [
    {
     "name": "stdout",
     "output_type": "stream",
     "text": [
      "0\n",
      "2\n",
      "-8\n"
     ]
    }
   ],
   "source": [
    "#Print Values bigger than min\n",
    "def count(array,min):\n",
    "    for i in array:\n",
    "        if i>min:\n",
    "            continue\n",
    "        print(i)\n",
    "    \n",
    "count(list,2)"
   ]
  },
  {
   "cell_type": "code",
   "execution_count": null,
   "metadata": {},
   "outputs": [],
   "source": []
  },
  {
   "cell_type": "code",
   "execution_count": null,
   "metadata": {},
   "outputs": [],
   "source": []
  },
  {
   "cell_type": "code",
   "execution_count": null,
   "metadata": {},
   "outputs": [],
   "source": []
  },
  {
   "cell_type": "code",
   "execution_count": null,
   "metadata": {},
   "outputs": [],
   "source": []
  }
 ],
 "metadata": {
  "kernelspec": {
   "display_name": "Python 3",
   "language": "python",
   "name": "python3"
  },
  "language_info": {
   "codemirror_mode": {
    "name": "ipython",
    "version": 3
   },
   "file_extension": ".py",
   "mimetype": "text/x-python",
   "name": "python",
   "nbconvert_exporter": "python",
   "pygments_lexer": "ipython3",
   "version": "3.6.9"
  }
 },
 "nbformat": 4,
 "nbformat_minor": 2
}
