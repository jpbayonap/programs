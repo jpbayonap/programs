{
 "cells": [
  {
   "cell_type": "code",
   "execution_count": null,
   "metadata": {},
   "outputs": [],
   "source": []
  },
  {
   "cell_type": "code",
   "execution_count": 23,
   "metadata": {},
   "outputs": [
    {
     "name": "stdout",
     "output_type": "stream",
     "text": [
      "first integer, please:4\n",
      "second integer, please:5\n"
     ]
    }
   ],
   "source": [
    "import numpy as np\n",
    "# look for prime divisors of a random integer\n",
    "A = int(input('first integer, please:'))\n",
    "B= int(input('second integer, please:'))\n",
    "C = A+B\n",
    "P = np.array([])\n"
   ]
  },
  {
   "cell_type": "code",
   "execution_count": 161,
   "metadata": {},
   "outputs": [],
   "source": [
    "import numpy as np\n",
    "import timeit \n",
    "A = np.random.randint(1e9)\n",
    "B= np.random.randint(1e9)\n",
    "\n",
    "C = A+B\n",
    "D =[1]\n",
    "def p_dv(v):\n",
    "    for n in range(2,v,1):\n",
    "        c = v%(n)\n",
    "        if c == 0:\n",
    "            D.append(n)\n",
    "        if len(D) >2 :\n",
    "            for i in D[1:-1]:\n",
    "                if D[-1]%i ==0 :\n",
    "                    D.pop()\n",
    "                    break\n",
    "    return len(D)\n",
    "\n",
    "        \n",
    "      "
   ]
  },
  {
   "cell_type": "code",
   "execution_count": null,
   "metadata": {},
   "outputs": [],
   "source": [
    "%%timeit\n",
    "p_dv(C)"
   ]
  },
  {
   "cell_type": "code",
   "execution_count": null,
   "metadata": {},
   "outputs": [],
   "source": []
  }
 ],
 "metadata": {
  "kernelspec": {
   "display_name": "Python 3",
   "language": "python",
   "name": "python3"
  },
  "language_info": {
   "codemirror_mode": {
    "name": "ipython",
    "version": 3
   },
   "file_extension": ".py",
   "mimetype": "text/x-python",
   "name": "python",
   "nbconvert_exporter": "python",
   "pygments_lexer": "ipython3",
   "version": "3.6.8"
  }
 },
 "nbformat": 4,
 "nbformat_minor": 2
}
