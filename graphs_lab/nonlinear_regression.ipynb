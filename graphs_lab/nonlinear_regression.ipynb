{
 "cells": [
  {
   "cell_type": "code",
   "execution_count": 1,
   "metadata": {},
   "outputs": [
    {
     "data": {
      "text/html": [
       "<div>\n",
       "<style scoped>\n",
       "    .dataframe tbody tr th:only-of-type {\n",
       "        vertical-align: middle;\n",
       "    }\n",
       "\n",
       "    .dataframe tbody tr th {\n",
       "        vertical-align: top;\n",
       "    }\n",
       "\n",
       "    .dataframe thead th {\n",
       "        text-align: right;\n",
       "    }\n",
       "</style>\n",
       "<table border=\"1\" class=\"dataframe\">\n",
       "  <thead>\n",
       "    <tr style=\"text-align: right;\">\n",
       "      <th></th>\n",
       "      <th>0</th>\n",
       "      <th>1</th>\n",
       "    </tr>\n",
       "  </thead>\n",
       "  <tbody>\n",
       "    <tr>\n",
       "      <th>27</th>\n",
       "      <td>27</td>\n",
       "      <td>1.776357e-15</td>\n",
       "    </tr>\n",
       "    <tr>\n",
       "      <th>28</th>\n",
       "      <td>28</td>\n",
       "      <td>8.881784e-16</td>\n",
       "    </tr>\n",
       "    <tr>\n",
       "      <th>29</th>\n",
       "      <td>29</td>\n",
       "      <td>4.440892e-16</td>\n",
       "    </tr>\n",
       "  </tbody>\n",
       "</table>\n",
       "</div>"
      ],
      "text/plain": [
       "     0             1\n",
       "27  27  1.776357e-15\n",
       "28  28  8.881784e-16\n",
       "29  29  4.440892e-16"
      ]
     },
     "execution_count": 1,
     "metadata": {},
     "output_type": "execute_result"
    }
   ],
   "source": [
    "import pandas as pd\n",
    "import numpy as np\n",
    "\n",
    "a=pd.read_csv('~/Desktop/c_programs/pi_madhava.dat', names= ['0','1'] ,sep='\\s+',engine='python')\n",
    "a.head()\n",
    "a.tail(3)            \n",
    "#b = np.loadtxt('/home/juan/Desktop/c_programs/pi_madhava.dat')\n"
   ]
  },
  {
   "cell_type": "raw",
   "metadata": {},
   "source": [
    "Create a function that returns the predicted value given independent variable and the four fitting constants "
   ]
  },
  {
   "cell_type": "code",
   "execution_count": 200,
   "metadata": {},
   "outputs": [],
   "source": [
    "def dif(t,c0,c1):\n",
    "    return  c0*np.exp(t*c1) "
   ]
  },
  {
   "cell_type": "markdown",
   "metadata": {},
   "source": [
    "Get a good guess values , plot the data and the function before trying the solver. Providing good guess values is the key to getting a solution.\n",
    "\n"
   ]
  },
  {
   "cell_type": "code",
   "execution_count": 210,
   "metadata": {},
   "outputs": [
    {
     "data": {
      "image/png": "[encoded data removed]",
      "text/plain": [
       "<Figure size 432x288 with 1 Axes>"
      ]
     },
     "metadata": {
      "needs_background": "light"
     },
     "output_type": "display_data"
    },
    {
     "name": "stdout",
     "output_type": "stream",
     "text": [
      "[ 0.32240463 -1.62644456]\n"
     ]
    }
   ],
   "source": [
    "guess = [0.001,-0.0001]\n",
    "import matplotlib.pyplot as plt\n",
    "n = len(a['0'])\n",
    "y= np.empty(n)\n",
    "\n",
    "for i in range(n) :\n",
    "    y[i] = dif(a['0'][i],c[0],c[1])\n",
    "    \n",
    "\n",
    "plt.ylabel(r'$\\log(\\pi -S_n)$')\n",
    "plt.xlabel('partial sum number n')\n",
    "plt.title('comparison of pi approximation with exponential fitting')       \n",
    "plt.yscale('log')\n",
    "plt.plot(a[\"0\"],a[\"1\"],label =' madhava approximation   '+ r'$\\sqrt{12}\\;\\sum_i \\frac{-3^{-i}}{2i+1}$')\n",
    "plt.plot(a['0'],y,'r',label = 'exponential regression'+r'$ %.2f e^{%.2f}$'%(c[0],c[1]))\n",
    "plt.legend()\n",
    "plt.savefig('/home/juan/Desktop/nonl.png', format= 'png')\n",
    "plt.show()\n",
    "\n",
    "\n",
    "print(c)\n"
   ]
  },
  {
   "cell_type": "markdown",
   "metadata": {},
   "source": [
    "Fit the data using scipy.optimize.curve_fit\n",
    "\n",
    "$f(t) = c0 +c1t +c2e^{c3t}$\n",
    "\n",
    "Determine the values of $c_i$ that minimize the error between the model prediction and meassured values "
   ]
  },
  {
   "cell_type": "code",
   "execution_count": 201,
   "metadata": {},
   "outputs": [
    {
     "name": "stdout",
     "output_type": "stream",
     "text": [
      "[ 0.32240463 -1.62644456]\n"
     ]
    }
   ],
   "source": [
    "from scipy.optimize import curve_fit\n",
    "# create an array from the dataframe\n",
    "t = a['0'].values\n",
    "f = a['1'].values\n",
    "c,cov = curve_fit(dif,t,f,guess)\n",
    "print(c)\n",
    "\n"
   ]
  },
  {
   "cell_type": "markdown",
   "metadata": {},
   "source": [
    "calculate $R^2$ value for the fit. Values closer to 1 are a better fit "
   ]
  },
  {
   "cell_type": "code",
   "execution_count": 140,
   "metadata": {},
   "outputs": [
    {
     "name": "stdout",
     "output_type": "stream",
     "text": [
      "R^2 0.9671377528036234\n"
     ]
    }
   ],
   "source": [
    "from sklearn.metrics import r2_score\n",
    "print('R^2', r2_score(y,f))\n"
   ]
  },
  {
   "cell_type": "code",
   "execution_count": 10,
   "metadata": {},
   "outputs": [
    {
     "data": {
      "text/html": [
       "<div>\n",
       "<style scoped>\n",
       "    .dataframe tbody tr th:only-of-type {\n",
       "        vertical-align: middle;\n",
       "    }\n",
       "\n",
       "    .dataframe tbody tr th {\n",
       "        vertical-align: top;\n",
       "    }\n",
       "\n",
       "    .dataframe thead th {\n",
       "        text-align: right;\n",
       "    }\n",
       "</style>\n",
       "<table border=\"1\" class=\"dataframe\">\n",
       "  <thead>\n",
       "    <tr style=\"text-align: right;\">\n",
       "      <th></th>\n",
       "      <th>time.1</th>\n",
       "      <th>p</th>\n",
       "    </tr>\n",
       "  </thead>\n",
       "  <tbody>\n",
       "    <tr>\n",
       "      <th>0</th>\n",
       "      <td>0</td>\n",
       "      <td>0.140</td>\n",
       "    </tr>\n",
       "    <tr>\n",
       "      <th>1</th>\n",
       "      <td>15</td>\n",
       "      <td>0.110</td>\n",
       "    </tr>\n",
       "    <tr>\n",
       "      <th>2</th>\n",
       "      <td>30</td>\n",
       "      <td>0.090</td>\n",
       "    </tr>\n",
       "    <tr>\n",
       "      <th>3</th>\n",
       "      <td>45</td>\n",
       "      <td>0.080</td>\n",
       "    </tr>\n",
       "    <tr>\n",
       "      <th>4</th>\n",
       "      <td>60</td>\n",
       "      <td>0.072</td>\n",
       "    </tr>\n",
       "  </tbody>\n",
       "</table>\n",
       "</div>"
      ],
      "text/plain": [
       "   time.1      p\n",
       "0       0  0.140\n",
       "1      15  0.110\n",
       "2      30  0.090\n",
       "3      45  0.080\n",
       "4      60  0.072"
      ]
     },
     "execution_count": 10,
     "metadata": {},
     "output_type": "execute_result"
    }
   ],
   "source": [
    "import pandas as pd \n",
    "import matplotlib.pyplot as plt\n",
    "import numpy as np\n",
    "\n",
    "lin = pd.read_excel('/home/juan/Desktop/shinku3.xlsx')\n",
    "lin2 = lin[['time.1','p']]\n",
    "lin2.head()"
   ]
  }
 ],
 "metadata": {
  "kernelspec": {
   "display_name": "Python 3",
   "language": "python",
   "name": "python3"
  },
  "language_info": {
   "codemirror_mode": {
    "name": "ipython",
    "version": 3
   },
   "file_extension": ".py",
   "mimetype": "text/x-python",
   "name": "python",
   "nbconvert_exporter": "python",
   "pygments_lexer": "ipython3",
   "version": "3.7.3"
  }
 },
 "nbformat": 4,
 "nbformat_minor": 2
}
