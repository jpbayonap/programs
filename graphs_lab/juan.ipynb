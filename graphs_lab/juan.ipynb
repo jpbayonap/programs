{
 "cells": [
  {
   "cell_type": "code",
   "execution_count": 2,
   "metadata": {},
   "outputs": [],
   "source": [
    "import matplotlib.pyplot as plt\n",
    "import pandas as pd\n",
    "shinku = pd.read_excel('~/Desktop/exp/matsubara-bayona.xlsx',sheet_name= [0,1,2] ,index_col =None)\n",
    "\n",
    "\n"
   ]
  },
  {
   "cell_type": "code",
   "execution_count": 159,
   "metadata": {},
   "outputs": [
    {
     "data": {
      "text/plain": [
       "1      35\n",
       "2     7.2\n",
       "3    3.25\n",
       "4     1.9\n",
       "5     1.4\n",
       "6    0.79\n",
       "7     0.7\n",
       "8    0.48\n",
       "Name: p2, dtype: object"
      ]
     },
     "execution_count": 159,
     "metadata": {},
     "output_type": "execute_result"
    }
   ],
   "source": [
    "second= shinku[0].iloc[1:9,]\n",
    "p1= second.iloc[:,0]\n",
    "p2 = second.iloc[:,1]\n",
    "p1"
   ]
  },
  {
   "cell_type": "code",
   "execution_count": null,
   "metadata": {},
   "outputs": [],
   "source": []
  },
  {
   "cell_type": "code",
   "execution_count": 161,
   "metadata": {},
   "outputs": [
    {
     "data": {
      "text/plain": [
       "[<matplotlib.lines.Line2D at 0x7f70e441cac8>]"
      ]
     },
     "execution_count": 161,
     "metadata": {},
     "output_type": "execute_result"
    },
    {
     "data": {
      "image/png": "[encoded data removed]",
      "text/plain": [
       "<Figure size 432x288 with 1 Axes>"
      ]
     },
     "metadata": {
      "needs_background": "light"
     },
     "output_type": "display_data"
    }
   ],
   "source": [
    "import numpy as np\n",
    "from sklearn import datasets, linear_model\n",
    "from sklearn.metrics import mean_squared_error, r2_score\n",
    "\n",
    "from sklearn.model_selection import train_test_split\n",
    "\n",
    "def p(p2):\n",
    "    p= []\n",
    "    for i in p2:\n",
    "        p.append(np.power(i,0.831377147414803)*0.9677773586361)  \n",
    "    return p\n",
    "\n",
    "p(p2)\n",
    "plt.xlim(xmin= np.amin(p2)/2,xmax= np.amax(p2))\n",
    "plt.ylim(ymin= np.amin(p1)/2,ymax= np.amax(p1))\n",
    "plt.xscale('log')\n",
    "plt.yscale('log')\n",
    "plt.scatter(p2,p1)\n",
    "plt.plot(p2,p(p2))"
   ]
  },
  {
   "cell_type": "code",
   "execution_count": 156,
   "metadata": {},
   "outputs": [
    {
     "data": {
      "text/plain": [
       "<matplotlib.legend.Legend at 0x7f70e455dbe0>"
      ]
     },
     "execution_count": 156,
     "metadata": {},
     "output_type": "execute_result"
    },
    {
     "data": {
      "image/png": "[encoded data removed]",
      "text/plain": [
       "<Figure size 432x288 with 1 Axes>"
      ]
     },
     "metadata": {
      "needs_background": "light"
     },
     "output_type": "display_data"
    }
   ],
   "source": [
    "\n",
    "third = shinku[2].iloc[39:43,2:4]\n",
    "\n",
    "P1= third.iloc[:,0]\n",
    "P2 = third.iloc[:,1]\n",
    "def p(P1):\n",
    "    p= []\n",
    "    for i in P1:\n",
    "        p.append(np.power(i,0.6588577277)*3.13E-6)  \n",
    "    return p\n",
    "\n",
    "plt.xlim(xmin= np.amin(P1)*0.8,xmax= np.amax(P1)*1.5)\n",
    "plt.xscale('log')\n",
    "plt.yscale('log')\n",
    "plt.ylim(ymin= 0.0000001,ymax= np.amax(P2)*2)\n",
    "p(P1)\n",
    "\n",
    "plt.scatter(P1,P2,label = '$Q\\; vs\\;(p1+p2)/ 2$' )\n",
    "plt.plot(P1,p(P1), label ='$3.1379826653811x10^{-7}p^{0.6588577277}$')\n",
    "plt.legend(bbox_to_anchor=(1, 1), loc='upper left', borderaxespad=0, fontsize=11)"
   ]
  },
  {
   "cell_type": "code",
   "execution_count": 127,
   "metadata": {},
   "outputs": [
    {
     "data": {
      "text/plain": [
       "2     0.000155478\n",
       "3     9.25312e-05\n",
       "4     6.33336e-05\n",
       "5     0.000155427\n",
       "6      6.5473e-05\n",
       "7     6.10514e-05\n",
       "8      4.8737e-05\n",
       "9     7.96786e-05\n",
       "10    4.57749e-05\n",
       "11    4.90223e-05\n",
       "12    5.48211e-05\n",
       "13    5.10233e-05\n",
       "14     6.1096e-05\n",
       "15    7.58149e-05\n",
       "16    5.58354e-05\n",
       "17    4.98249e-05\n",
       "18    2.39463e-05\n",
       "19    6.20782e-05\n",
       "20    3.25417e-05\n",
       "21    3.85727e-05\n",
       "22    3.04367e-05\n",
       "Name: Unnamed: 10, dtype: object"
      ]
     },
     "execution_count": 127,
     "metadata": {},
     "output_type": "execute_result"
    }
   ],
   "source": [
    "\n",
    "second= shinku[1]\n",
    "\n",
    "p1 = second.iloc[2:23,2]\n",
    "p2 = second.iloc[2:23,4]\n",
    "t = second.iloc[2:23,1]\n",
    "c3=  second.iloc[2:23,8]\n",
    "cs3 =second.iloc[2:23,10]\n",
    "'''\n",
    "plt.xlim(xmin= np.amin(P2),xmax= np.amax(P2))\n",
    "plt.ylim(ymin= np.amin(P1),ymax= np.amax(P1))\n",
    "plt.xscale('log')\n",
    "plt.yscale('log')\n",
    "plt.scatter(P2,P1)\n",
    "plt.plot(P2,p(P2))\n",
    "'''\n",
    "plt."
   ]
  }
 ],
 "metadata": {
  "kernelspec": {
   "display_name": "Python 3",
   "language": "python",
   "name": "python3"
  },
  "language_info": {
   "codemirror_mode": {
    "name": "ipython",
    "version": 3
   },
   "file_extension": ".py",
   "mimetype": "text/x-python",
   "name": "python",
   "nbconvert_exporter": "python",
   "pygments_lexer": "ipython3",
   "version": "3.7.3"
  }
 },
 "nbformat": 4,
 "nbformat_minor": 2
}
